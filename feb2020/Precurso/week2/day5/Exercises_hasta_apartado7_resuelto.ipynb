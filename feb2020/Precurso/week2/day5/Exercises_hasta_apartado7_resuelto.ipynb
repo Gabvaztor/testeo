{
 "nbformat": 4,
 "nbformat_minor": 2,
 "metadata": {
  "language_info": {
   "name": "python",
   "codemirror_mode": {
    "name": "ipython",
    "version": 3
   },
   "version": "3.7.4-final"
  },
  "orig_nbformat": 2,
  "file_extension": ".py",
  "mimetype": "text/x-python",
  "name": "python",
  "npconvert_exporter": "python",
  "pygments_lexer": "ipython3",
  "version": 3,
  "kernelspec": {
   "name": "python3",
   "display_name": "Python 3"
  }
 },
 "cells": [
  {
   "cell_type": "markdown",
   "execution_count": null,
   "metadata": {},
   "outputs": [],
   "source": [
    "## Bootcamp Data Science - The Brige. Febrero 2020. Precurso. "
   ]
  },
  {
   "cell_type": "markdown",
   "execution_count": null,
   "metadata": {},
   "outputs": [],
   "source": [
    "## Repaso\n",
    "\n",
    "1. Variables y tipos:\n",
    "    - Creación de variables\n",
    "    - String\n",
    "    - Enteros\n",
    "    - Booleanos\n",
    "    - None (Ningún tipo)\n",
    "2. Operadores lógicos:\n",
    "    - Suma\n",
    "    - Resta\n",
    "    - División\n",
    "    - División absoluta\n",
    "    - Exponente\n",
    "    - Multiplicación\n",
    "    - And, or, not\n",
    "3. Listas, Tuplas y Set (Conjuntos):\n",
    "    - Acceso a dato por posiciones\n",
    "    - Tamaño de lista \n",
    "    - Listas dentro de listas\n",
    "    - Añadir datos a la listas\n",
    "    - Eliminar datos de listas\n",
    "4. Bucles:\n",
    "    - For\n",
    "    - range\n",
    "    - enumerate\n",
    "    - break\n",
    "    - while\n",
    "5. Funciones:\n",
    "    - Función con parámetros\n",
    "    - Funciones dentro de Funciones\n",
    "    - Funciones recursivas\n",
    "    - Return\n",
    "6. Input \n"
   ]
  },
  {
   "cell_type": "markdown",
   "execution_count": null,
   "metadata": {},
   "outputs": [],
   "source": [
    "## Ejercicios:\n",
    "\n",
    "### Apartado 1:\n",
    "\n",
    "1. Crea una variable llamada 'numero_bridge' que tenga como valor 15. Tipo entero.\n",
    "2. Crea una variable llamada 'nombre_calle' que sea un string y sea 'Recoletos'\n",
    "3. Crea una variable llamada 'gusto_personal' que sea True si eres más de playa y False si eres más de montaña.\n",
    "4. Crea una variable llamada 'nada' de la siguiente forma: 'nada = None'. None no representa ningún valor. Ha de tenerse en cuenta que si se hace 'if (nada):', 'nada' actúa como un valor booleano False. Para más información, observar el primer ejemplo de abajo.\n",
    "5. Crea una variable que llamada 'lista_direccion' que sea una lista y que contenga 2 valores. El primer valor debe ser la variable 'numero_bridge' y el segundo valor de la lista debe ser la variable 'nombre_calle'\n",
    "6. Crea una variable llamada 'horas_sueno' que almacene, en forma de String, las horas que has dormido hoy. Ejemplo: horas_sueno = \"8\" \n",
    "6. Crea una lista llamada 'lista_informacion' que tenga cada una de las variables creadas anteriormente en el orden en el que se han expuesto en el ejercicio.\n",
    "\n",
    "IMPORTANTE: A partir de este momento y para todos estos ejercicios, solo se van a utilizar los datos almacenados en 'lista_informacion'. Debe contener 6 elementos. "
   ]
  },
  {
   "cell_type": "code",
   "execution_count": 28,
   "metadata": {},
   "outputs": [],
   "source": [
    "numero_bridge = 15\n",
    "nombre_calle = \"Recoletos\"\n",
    "gusto_personal = False\n",
    "nada = None\n",
    "lista_direccion = [numero_bridge, nombre_calle]\n",
    "horas_sueno = 7\n",
    "lista_informacion = [numero_bridge, nombre_calle, gusto_personal, nada, lista_direccion, horas_sueno]"
   ]
  },
  {
   "cell_type": "code",
   "execution_count": 11,
   "metadata": {},
   "outputs": [
    {
     "name": "stdout",
     "output_type": "stream",
     "text": "Entra en el else porque la variable 'nada' actúa como un booleano False\n"
    }
   ],
   "source": [
    "nada = None\n",
    "if nada:\n",
    "    print(\"Entra en el if\")\n",
    "else: \n",
    "    print(\"Entra en el else porque la variable 'nada' actúa como un booleano False\")"
   ]
  },
  {
   "cell_type": "markdown",
   "execution_count": null,
   "metadata": {},
   "outputs": [],
   "source": [
    "### Creación de variables del apartado 1.\n",
    "\n",
    "gusto_personal = True  # Si te gusta más la montaña\n",
    "\n",
    "gusto_personal = False  # Si te gusta más la playa"
   ]
  },
  {
   "cell_type": "code",
   "execution_count": 34,
   "metadata": {},
   "outputs": [],
   "source": [
    "### Escribe aquí tu código para el apartado 1. Cuando acabes, ejecuta la celda para que las variables se queden en la memoria. \n",
    "numero_bridge = 15\n",
    "nombre_calle = \"Recoletos\"\n",
    "gusto_personal = False\n",
    "nada = None\n",
    "lista_direccion = [numero_bridge, nombre_calle]\n",
    "horas_sueno = \"7\"\n",
    "lista_informacion = [numero_bridge, nombre_calle, gusto_personal, nada, lista_direccion, horas_sueno]"
   ]
  },
  {
   "cell_type": "markdown",
   "execution_count": null,
   "metadata": {},
   "outputs": [],
   "source": [
    "#### Borrar variables. Del\n",
    "Ejecuta esta celda de jupyter para borrar todas las variables que has tenido que crear antes. El contenido de 'lista_informacion' no cambiará. De esta forma, nos aseguraremos de que solo uses la información de 'lista_informacion'. "
   ]
  },
  {
   "cell_type": "code",
   "execution_count": 35,
   "metadata": {},
   "outputs": [],
   "source": [
    "# Ejecuta esta celda cuando las variables del apartado 1 ya han sido creadas y guardadas en memoria.\n",
    "del numero_bridge\n",
    "del nombre_calle\n",
    "del gusto_personal \n",
    "del nada\n",
    "del lista_direccion\n",
    "del horas_sueno"
   ]
  },
  {
   "cell_type": "markdown",
   "execution_count": null,
   "metadata": {},
   "outputs": [],
   "source": [
    "### Apartado 2\n",
    "\n",
    "### Ejercicios con 'lista_informacion'. Recuerda no usar las variables excepto 'lista_informacion'. Leer cada punto hasta el final antes de hacer la tarea. \n",
    "\n",
    "1. Mostrar por pantalla, sin uso de funciones ni bucles: \n",
    "    - La concatenación del número de The Bridge, dos puntos y el nombre de la calle. \n",
    "    - La suma del número de The Bridge y las horas que has dormido hoy. \n",
    "    - La concatenación del número de The Bridge, el nombre de la calle, tu gusto personal y las horas de sueño. Cada uno debe estar separado por lo siguiente: \" : \".\n",
    "    - Accediendo a la lista de la quinta posición de 'lista_informacion' muestra por pantalla la suma de lo siguiente (si la quinta posición de tu 'lista_informacion' no es una lista, pregunta a los profesores):\n",
    "        - La concatenación de los dos elementos. \n",
    "        - La multiplicación del tamaño de la lista de la quinta posición de 'lista_informacion' y el tamaño del número de caracteres que tiene el nombre de la calle.\n",
    "\n",
    "2. Dentro de funciones con el nombre que decidáis, con un argumento de entrada llamado 'lista' siendo este la 'lista_informacion' cuando se invoque a la función. Cuando sea 'recorre' se refiere a bucle 'for'. Cada punto representa una función y celda de Jupyter diferente:\n",
    "\n",
    "    - Mostrar por pantalla \"Me gusta la tranquilidad\" si te gusta más la montaña y \"Me gusta ver las carnes al aire libre\" si te gusta más la playa.\n",
    "    - Mostrar por pantalla \"Hoy estoy cansado\" si has dormido menos de 7 horas y \"Hoy me como el mundo\" si has dormido más de 7 horas. \n",
    "    - Recorrer 'lista' para mostrar todos los elementos que contiene. \n",
    "    - Recorrer 'lista' para mostrar todos los elementos que contiene concatenado con el string \"--> OK\"\n",
    "    - Recorrer 'lista' para mostrar todos los elementos que contiene excepto el primero\n",
    "    - Recorrer 'lista' para mostrar todos los elementos que contiene excepto el último. \n",
    "    - Recorrer 'lista' para mostrar todos los elementos que contiene excepto el número de la calle y las horas que has dormido.\n",
    "    - Recorrer 'lista' para mostrar todos los elementos que contiene excepto el primer elemento de la lista de la quinta posición. \n",
    "    - Recorrer 'lista' para mostrar todos los elementos que contiene excepto el que contiene la información sobre si os gusta la montaña o playa SI os gusta la montaña.\n",
    "    - Recorrer 'lista' para mostrar el último elemento.\n",
    "    - Crear una variable llamada 'zona' y darle el valor de None. Recorrer 'lista' y actualizar 'zona' a True si y solo si has dormido más de 7 horas, te gusta la playa y la suma de las horas que has dormido más el número de The Bridge es menor a 24. Para cualquier otro caso, 'zona' será False. Retornar el valor de 'zona'. Esta función se llamará 'funcion_zona'.\n",
    "    - Dentro de una función llamada 'funcion_comprobacion' que recibe solo un parámetro llamado 'valor_zona' que será el valor que devuelve la función 'funcion_zona' cuando sea invocado, mostrar el valor de 'valor_zona' si es True.\n",
    "\n",
    "3. Dentro de funciones con el nombre que queráis:\n",
    "    - Utilizar la función enumerate del bucle for utilizando la lista de alturas y la lista de alumnos creada en días anteriores (las listas han de estar ordenadas) para: \n",
    "        - Mostrar la altura acompañado del nombre del alumno al que pertenece. \n",
    "\n",
    "4. Hacer un programa que pregunte si le gusta la montaña al usuario y, si es que no, llame a la función funcion_zona. \n",
    "\n",
    "5. Hacer una función que guarde en una variable el valor de 'nada' y lo devuelva por pantalla. Concatenar su valor con el número de the bridge y mostrarlo por pantalla. Ahora, mostrar por pantalla un booleano True si el tamaño de la palabra concatenada es 6. Sino, será False. La función debe retornar el valor True o False. El nombre de la función será 'f_s'.\n",
    "\n",
    "6. Crear una lista 'lista_aux' con 7 elementos (los que queráis). Crear una función 'funcion_usa_f_s' que reciba por parámetros dos argumento 'f_s' y 'lista'.  Si el valor de 'f_s' es True, entonces borrar el un elemento de 'lista'. Si 'lista' tiene algún elemento, entonces repetir el proceso hasta que no tenga elementos. La entrada 'lista' ha de ser 'lista_aux' y 'f_s' será la función 'f_s' del punto anterior.\n",
    "\n",
    "7. Crear una función 'numeros_pares' que tenga un parámetro de entrada 'arg1' (Entero). La función debe mostrar por pantalla y retornar una lista de números de tamaño 'arg1' siendo números pares.\n",
    "\n",
    "8. Crear una función que tenga una variable de entrada 'arg1' (que será la lista de números pares del apartado anterior) y que elimine elementos de la lista (uno a uno) si 'arg1' tiene un tamaño divisible entre 2 y, si no lo tiene, añada, solo una vez, el valor de la función 'f_s'."
   ]
  },
  {
   "cell_type": "code",
   "execution_count": 14,
   "metadata": {},
   "outputs": [
    {
     "ename": "SyntaxError",
     "evalue": "invalid syntax (<ipython-input-14-455680ca2399>, line 1)",
     "output_type": "error",
     "traceback": [
      "\u001b[0;36m  File \u001b[0;32m\"<ipython-input-14-455680ca2399>\"\u001b[0;36m, line \u001b[0;32m1\u001b[0m\n\u001b[0;31m    def\u001b[0m\n\u001b[0m        ^\u001b[0m\n\u001b[0;31mSyntaxError\u001b[0m\u001b[0;31m:\u001b[0m invalid syntax\n"
     ]
    }
   ],
   "source": [
    "def "
   ]
  },
  {
   "cell_type": "code",
   "execution_count": null,
   "metadata": {},
   "outputs": [],
   "source": [
    "# 1. Apartado \n",
    "#La concatenación del número de The Bridge, dos puntos y el nombre de la calle.\n",
    "print(1.1)\n",
    "print (str(lista_informacion[0]) + \":\" + lista_informacion[1])\n",
    "#La suma del número de The Bridge y las horas que has dormido hoy.\n",
    "print(1.2)\n",
    "print (lista_informacion[0] + int(lista_informacion[5]))\n",
    "#La concatenación del número de The Bridge, el nombre de la calle, tu gusto personal y las horas de sueño. Cada uno debe estar separado por lo siguiente: \" : \".\n",
    "print(1.3)\n",
    "print(str(lista_informacion[0]), \":\", lista_informacion[1], \":\", lista_informacion[2], \":\", lista_informacion[5])\n",
    "\n",
    "print(str(lista_informacion[0]) + \":\" + str(lista_informacion[1]) + \":\" + str(lista_informacion[2]) + \":\" + str(lista_informacion[5]))\n",
    "\n",
    "#Accediendo a la lista de la quinta posición de 'lista_informacion' muestra por pantalla la suma de lo siguiente (si la quinta posición de tu 'lista_informacion' no es una lista, pregunta a los profesores):\n",
    "\n",
    "#La concatenación de los dos elementos.\n",
    "print(1.4)\n",
    "print(str(lista_informacion[4][0]) + lista_informacion[4][1])\n",
    "#La multiplicación del tamaño de la lista de la quinta posición de 'lista_informacion' y el tamaño del número de caracteres que tiene el nombre de la calle.\n",
    "print(1.5)\n",
    "print(len(lista_informacion[4] * len(lista_informacion[1])))\n"
   ]
  },
  {
   "cell_type": "code",
   "execution_count": null,
   "metadata": {},
   "outputs": [],
   "source": [
    "#Dentro de funciones con el nombre que decidáis, con un argumento de entrada llamado 'lista' siendo este la 'lista_informacion' cuando se invoque a la función. Cuando sea 'recorre' se refiere a bucle 'for'. Cada punto representa una función y celda de Jupyter diferente:\n"
   ]
  },
  {
   "cell_type": "code",
   "execution_count": null,
   "metadata": {},
   "outputs": [],
   "source": [
    "               \n",
    "#Mostrar por pantalla \"Hoy estoy cansado\" si has dormido menos de 7 horas y \"Hoy me como el mundo\" si has dormido más de 7 horas.\n",
    "\n",
    "def cansancio(lista):\n",
    "    posicion = 0\n",
    "    for x in lista:\n",
    "        if posicion == 5:\n",
    "            if x > 7:\n",
    "                print(\"Hoy me como el mundo\")\n",
    "            else:\n",
    "                print(\"Hoy estoy cansado\")\n",
    "\n",
    "def cansacion_v2(lista):\n",
    "    if lista[5] >= 7:\n",
    "        print(\"Hoy me como el mundo\")\n",
    "    else :\n",
    "        print(\"Hoy estoy cansado\")\n",
    "\n",
    "#Recorrer 'lista' para mostrar todos los elementos que contiene.\n",
    "\n",
    "def muestra_elementos(lista):\n",
    "    for elemento in lista:\n",
    "        print(elemento)"
   ]
  },
  {
   "cell_type": "code",
   "execution_count": null,
   "metadata": {},
   "outputs": [],
   "source": [
    "\n",
    "#Recorrer 'lista' para mostrar todos los elementos que contiene concatenado con el string \"--> OK\"\n",
    "\n",
    "def funcion_concatenar(lista):\n",
    "    cadena = \"--> OK\"\n",
    "    for elemento in lista:\n",
    "        print(str(elemento) + cadena)\n",
    "funcion_concatenar(lista=lista_informacion)"
   ]
  },
  {
   "cell_type": "code",
   "execution_count": null,
   "metadata": {},
   "outputs": [],
   "source": [
    "def funcion_concatenar_en_lista(lista):\n",
    "    cadena = \"--> OK\"\n",
    "    posicion = 0\n",
    "    for elemento in lista:\n",
    "        if posicion == 4:\n",
    "            for sub_elemento in elemento:\n",
    "                print(str(sub_elemento) + cadena)\n",
    "        else:\n",
    "            print(str(elemento) + cadena )\n",
    "        posicion += 1\n",
    "\n",
    "funcion_concatenar_en_lista(lista=lista_informacion)"
   ]
  },
  {
   "cell_type": "code",
   "execution_count": null,
   "metadata": {},
   "outputs": [],
   "source": [
    "#Recorrer 'lista' para mostrar todos los elementos que contiene excepto el primero.\n",
    "\n",
    "def excepto_primero(lista):\n",
    "    posicion = 0\n",
    "    for x in lista:\n",
    "        if (posicion != 0):\n",
    "            print(x)\n",
    "        posicion += 1\n",
    "\n",
    "excepto_primero(lista=lista_informacion)"
   ]
  },
  {
   "cell_type": "code",
   "execution_count": null,
   "metadata": {},
   "outputs": [],
   "source": [
    "def excepto_primero_v2(lista):\n",
    "    posicion = 2\n",
    "    for x in lista:\n",
    "        if (posicion != 2):\n",
    "            print(x)\n",
    "        posicion += 1\n",
    "\n",
    "excepto_primero_v2(lista=lista_informacion)"
   ]
  },
  {
   "cell_type": "code",
   "execution_count": null,
   "metadata": {},
   "outputs": [],
   "source": [
    "def excepto_primero_v3(lista):\n",
    "    posicion = 1\n",
    "    for elemento in lista:\n",
    "        if (posicion < 6):\n",
    "            print(lista[posicion])\n",
    "        posicion += 1\n",
    "\n",
    "excepto_primero_v3(lista=lista_informacion)"
   ]
  },
  {
   "cell_type": "code",
   "execution_count": null,
   "metadata": {},
   "outputs": [],
   "source": [
    "m = [\"m\", \"x\", \"r\"]\n",
    "\n",
    "if m > 0:\n",
    "    print()"
   ]
  },
  {
   "cell_type": "code",
   "execution_count": null,
   "metadata": {},
   "outputs": [],
   "source": [
    "#Recorrer 'lista' para mostrar todos los elementos que contiene excepto el último.\n",
    "\n",
    "def excepto_ultimo(lista):\n",
    "    posicion = 0\n",
    "    for x in lista:\n",
    "        if posicion < (len(lista) - 1):\n",
    "            print(x)\n",
    "        posicion = posicion + 1\n",
    "excepto_ultimo(lista=lista_informacion)"
   ]
  },
  {
   "cell_type": "code",
   "execution_count": null,
   "metadata": {},
   "outputs": [],
   "source": [
    "#Recorrer 'lista' para mostrar todos los elementos que contiene excepto el número de la calle y las horas que has dormido.\n",
    "\n",
    "def nc_nh(lista):\n",
    "    posicion = 0\n",
    "    for x in lista:\n",
    "        if (posicion > 0) and (posicion < 5):  # 0 < posicion < 5\n",
    "            print(x)\n",
    "        posicion += 1\n",
    "\n",
    "x = nc_nh(lista=lista_informacion)\n",
    "print(x)\n",
    "\n",
    "lista_informacion"
   ]
  },
  {
   "cell_type": "code",
   "execution_count": null,
   "metadata": {},
   "outputs": [],
   "source": [
    "# Forma de Blanca\n",
    "\n",
    "# x = 15\n",
    "\n",
    "\n",
    "def nc_nh_vBlanca(lista):\n",
    "    for x in lista:\n",
    "        if (x =! lista[0]) and (x != lista[5]):\n",
    "            print(x)\n",
    "\n",
    "x = nc_nh_vBlanca(lista=lista_informacion)\n",
    "print(x)\n",
    "\n",
    "lista_informacion"
   ]
  },
  {
   "cell_type": "code",
   "execution_count": null,
   "metadata": {},
   "outputs": [],
   "source": [
    "#Recorrer 'lista' para mostrar todos los elementos que contiene excepto el primer elemento de la lista de la quinta posición.\n",
    "\n",
    "def quinto_elemento_version_Borja(lista):\n",
    "    posicion = 0\n",
    "    for x in lista:\n",
    "        if posicion == 4: \n",
    "            sub_posicion = 0\n",
    "            for sub_elemento in x:\n",
    "                if sub_posicion == 1:\n",
    "                    print(sub_elemento)\n",
    "                sub_posicion += 1\n",
    "        else:\n",
    "            print(x)\n",
    "        posicion += 1\n",
    "\n",
    "quinto_elemento_version_Borja(lista=lista_informacion)\n",
    "\n",
    "\n"
   ]
  },
  {
   "cell_type": "code",
   "execution_count": null,
   "metadata": {},
   "outputs": [],
   "source": [
    "def quinto_elemento(lista):\n",
    "    posicion = 0\n",
    "    for x in lista:\n",
    "        if posicion == 4: \n",
    "            print(x[1])\n",
    "        else:\n",
    "            print(x)\n",
    "        posicion += 1\n",
    "\n",
    "quinto_elemento(lista=lista_informacion)"
   ]
  },
  {
   "cell_type": "code",
   "execution_count": null,
   "metadata": {},
   "outputs": [],
   "source": [
    "#Recorrer 'lista' para mostrar todos los elementos que contiene excepto el que contiene la información sobre si os gusta la montaña o playa SI os gusta la montaña.\n",
    "\n",
    "def mostrar_todos_excepto_tal_vez_gusto(lista):\n",
    "    posicion = 0\n",
    "    for x in lista:\n",
    "        if posicion == 2 and (not(x)):\n",
    "            print(x)\n",
    "        else:\n",
    "            print(x)\n",
    "        posicion += 1\n",
    "\n",
    "mostrar_todos_excepto_tal_vez_gusto(lista=lista_informacion)"
   ]
  },
  {
   "cell_type": "code",
   "execution_count": null,
   "metadata": {},
   "outputs": [],
   "source": [
    "x = 2\n",
    "y = True\n",
    "\n",
    "if x == 2 and (not(y)):\n",
    "    print (\"si\")\n",
    "\n"
   ]
  },
  {
   "cell_type": "code",
   "execution_count": null,
   "metadata": {},
   "outputs": [],
   "source": [
    "#Recorrer 'lista' para mostrar el último elemento.\n",
    "\n",
    "def excepto_ultimo(lista):\n",
    "    posicion = 0\n",
    "    for x in lista:\n",
    "        if posicion == len(lista) - 1:\n",
    "            print(x)\n",
    "        posicion += 1\n",
    "\n",
    "excepto_ultimo(lista=lista_informacion)\n"
   ]
  },
  {
   "cell_type": "code",
   "execution_count": null,
   "metadata": {},
   "outputs": [],
   "source": [
    "#Mostrar por pantalla \"Me gusta la tranquilidad\" si te gusta más la montaña y \"Me gusta ver las carnes al aire libre\" si te gusta más la playa.\n",
    "\n",
    "def gusto_personal_condicion(lista):\n",
    "    posicion = 0\n",
    "    for x in lista:\n",
    "        if posicion == 2:\n",
    "            if (x):\n",
    "                print(\"Me gustan las carnes\")\n",
    "            else:\n",
    "                print(\"Me gusta la tranquilidad\")"
   ]
  },
  {
   "cell_type": "code",
   "execution_count": 7,
   "metadata": {},
   "outputs": [
    {
     "data": {
      "text/plain": "False"
     },
     "execution_count": 7,
     "metadata": {},
     "output_type": "execute_result"
    }
   ],
   "source": [
    "#Crear una variable llamada 'zona' y darle el valor de None. Recorrer 'lista' y actualizar 'zona' a True si y solo si has dormido más de 7 horas, te gusta la playa y la suma de las horas que has dormido más el número de The Bridge es menor a 24. Para cualquier otro caso, 'zona' será False. Retornar el valor de 'zona'. Esta función se llamará 'funcion_zona'.\n",
    "\n",
    "def funcion_zona(lista):\n",
    "    #print(\"Lista\\n\", lista)\n",
    "    zona = None\n",
    "\n",
    "    numero_bridge = None\n",
    "    horas_sueno = None\n",
    "    gusto_personal = None\n",
    "\n",
    "    acum = 0\n",
    "    for elemento in lista:\n",
    "        if acum == 5:\n",
    "            horas_sueno = int(elemento)\n",
    "        elif acum == 2:\n",
    "            gusto_personal = elemento\n",
    "        elif acum == 0:\n",
    "            numero_bridge = elemento\n",
    "        acum += 1\n",
    "    \n",
    "    if horas_sueno >= 7 and gusto_personal == True and (horas_sueno + numero_bridge)<24:\n",
    "        zona = True\n",
    "    else: \n",
    "        zona = False\n",
    "\n",
    "    return zona\n",
    "    \n",
    "funcion_zona(lista=lista_informacion)"
   ]
  },
  {
   "cell_type": "markdown",
   "execution_count": null,
   "metadata": {},
   "outputs": [],
   "source": [
    "3. Dentro de funciones con el nombre que queráis:\n",
    "    - Utilizar la función enumerate del bucle for utilizando la lista de alturas y la lista de alumnos creada en días anteriores (las listas han de estar ordenadas) para: \n",
    "        - Mostrar la altura acompañado del nombre del alumno al que pertenece. "
   ]
  },
  {
   "cell_type": "code",
   "execution_count": 3,
   "metadata": {},
   "outputs": [
    {
     "name": "stdout",
     "output_type": "stream",
     "text": "Pilar\n1.78\n"
    }
   ],
   "source": [
    "columna1 = [\"Pilar\",\"Cintia\",\"Dio\",\"Sara\"]\n",
    "columna2 = [\"Borja\",\"Gonzalo\"]\n",
    "columna3 = [\"Blanca\",\"Ana\", \"Fran\"]\n",
    "columna4 = [\"Begoña\", \"Mai\", \"Pedro\", \"Eddie\"]\n",
    "lista_alumnos =[columna1, columna2, columna3, columna4]\n",
    "\n",
    "print(lista_alumnos[0][0])\n",
    "\n",
    "altura1 = [1.78, 1.63, 1.75, 1.68]\n",
    "altura2 = [2.00, 1.82]\n",
    "altura3 = [1.65, 1.73, 1.75]\n",
    "altura4 = [1.72, 1.71, 1.71, 1.62]\n",
    "lista_alturas = [altura1, altura2, altura3, altura4]\n",
    "\n",
    "print(lista_alturas[0][0])"
   ]
  },
  {
   "cell_type": "code",
   "execution_count": 35,
   "metadata": {},
   "outputs": [
    {
     "ename": "SyntaxError",
     "evalue": "invalid syntax (<ipython-input-35-fae6ba1c8906>, line 6)",
     "output_type": "error",
     "traceback": [
      "\u001b[0;36m  File \u001b[0;32m\"<ipython-input-35-fae6ba1c8906>\"\u001b[0;36m, line \u001b[0;32m6\u001b[0m\n\u001b[0;31m    if\u001b[0m\n\u001b[0m       ^\u001b[0m\n\u001b[0;31mSyntaxError\u001b[0m\u001b[0;31m:\u001b[0m invalid syntax\n"
     ]
    }
   ],
   "source": [
    "def funcion_enumerate(lista_alu, lista_alt):\n",
    "\n",
    "    for posicion_columna_alumnos, columna_alumnos in enumerate(lista_alu):\n",
    "        for posicion_alumno, alumno in enumerate(columna_alumnos):\n",
    "            #print(alumno, \": (\", posicion_columna_alumnos, posicion_alumno, \")\")\n",
    "            if \n",
    "            print(alumno, \":\", lista_alt[posicion_columna_alumnos][posicion_alumno])\n",
    "\n",
    "print(lista_alumnos, \"\\n\")\n",
    "funcion_enumerate(lista_alu=lista_alumnos, lista_alt=lista_alturas)"
   ]
  },
  {
   "cell_type": "code",
   "execution_count": null,
   "metadata": {},
   "outputs": [],
   "source": [
    "def funcion_enumerate_v2(lista_alu, lista_alt):\n",
    "\n",
    "    for posicion_columna_alturas, columna_alturas in enumerate(lista_alt):\n",
    "        for posicion_altura, altura in enumerate(columna_alturas):\n",
    "            #print(alumno, \": (\", posicion_columna_alumnos, posicion_alumno, \")\")\n",
    "            if altura < 1.75:\n",
    "                print(altura, \":\", lista_alu[posicion_columna_alturas][posicion_altura])\n",
    "\n",
    "print(lista_alumnos, \"\\n\")\n",
    "funcion_enumerate_v2(lista_alu=lista_alumnos, lista_alt=lista_alturas)"
   ]
  },
  {
   "cell_type": "code",
   "execution_count": 10,
   "metadata": {},
   "outputs": [
    {
     "name": "stdout",
     "output_type": "stream",
     "text": "Solo puedes decir que sí o que no.\nSolo puedes decir que sí o que no.\nSolo puedes decir que sí o que no.\nSolo puedes decir que sí o que no.\nsi\n"
    }
   ],
   "source": [
    "# 4. Hacer un programa que pregunte si le gusta la montaña al usuario y, si es que no, llame a la función funcion_zona.\n",
    "\n",
    "def funcion_programa_4():\n",
    "    gusta_montana = input(\"¿Te gusta la montaña?\")\n",
    "    if gusta_montana == \"si\":\n",
    "        print(\"si\")\n",
    "    elif gusta_montana == \"no\":\n",
    "        print(funcion_zona(lista_informacion))\n",
    "    else:\n",
    "        print(\"Solo puedes decir que sí o que no.\")\n",
    "        funcion_programa_4()\n",
    "\n",
    "funcion_programa_4()"
   ]
  },
  {
   "cell_type": "code",
   "execution_count": null,
   "metadata": {},
   "outputs": [],
   "source": [
    "x = input(\"\")\n",
    "x"
   ]
  },
  {
   "cell_type": "code",
   "execution_count": 29,
   "metadata": {},
   "outputs": [
    {
     "name": "stdout",
     "output_type": "stream",
     "text": "None\nNone15\nTrue\nLo que vale x: True\n"
    }
   ],
   "source": [
    "#Hacer una función que guarde en una variable el valor de 'nada' y lo devuelva por pantalla. Concatenar su valor con el número de the bridge y mostrarlo por pantalla. Ahora, mostrar por pantalla un booleano True si el tamaño de la palabra concatenada es 6. Sino, será False. La función debe retornar el valor True o False. El nombre de la función será 'f_s'.\n",
    "x = None\n",
    "x = str(x)\n",
    "def f_s(lista):\n",
    "    nada = lista[3]\n",
    "    print(nada)\n",
    "    concatenacion = str(nada) + str(lista[0])\n",
    "    print(concatenacion) \n",
    "    true_or_false = None\n",
    "    if len(concatenacion) == 6:\n",
    "        print(True)\n",
    "        true_or_false = True\n",
    "    else:\n",
    "        print(False)\n",
    "        true_or_false = False\n",
    "    return true_or_false\n",
    "\n",
    "x = f_s(lista=lista_informacion)\n",
    "print(\"Lo que vale x:\", x)"
   ]
  },
  {
   "cell_type": "code",
   "execution_count": 13,
   "metadata": {},
   "outputs": [
    {
     "name": "stdout",
     "output_type": "stream",
     "text": "no retorno nada\nNone\n"
    }
   ],
   "source": [
    "def funcion_no_return():\n",
    "    print(\"no retorno nada\")\n",
    "\n",
    "x = funcion_no_return()\n",
    "print(x)"
   ]
  },
  {
   "cell_type": "code",
   "execution_count": 14,
   "metadata": {},
   "outputs": [
    {
     "name": "stdout",
     "output_type": "stream",
     "text": "545\n"
    }
   ],
   "source": [
    "def funcion_return():\n",
    "    return 545\n",
    "x = funcion_return()\n",
    "print(x)\n",
    "\n",
    "funcion = funcion_return\n",
    "x = funcion()\n"
   ]
  },
  {
   "cell_type": "code",
   "execution_count": 24,
   "metadata": {},
   "outputs": [
    {
     "name": "stdout",
     "output_type": "stream",
     "text": "None\nNone15\nTrue\n"
    }
   ],
   "source": [
    "# Crear una lista 'lista_aux' con 7 elementos (los que queráis). Crear una función 'funcion_usa_f_s' que reciba por parámetros dos argumento 'f_s' y 'lista'. Si el valor de 'f_s' es True, entonces borrar el un elemento de 'lista'. Si 'lista' tiene algún elemento, entonces repetir el proceso hasta que no tenga elementos. La entrada 'lista' ha de ser 'lista_aux' y 'f_s' será la función 'f_s' del punto anterior.\n",
    "\n",
    "lista_aux = [\"rojo\", \"azul\", \"amarillo\", \"rosa\", \"verde\", \"blanco\", \"negro\"]\n",
    "\n",
    "\n",
    "def funcion_usa_f_s(f_s, lista):\n",
    "\n",
    "    lo_que_retorna_f_s = f_s(lista_informacion)\n",
    "    if lo_que_retorna_f_s:\n",
    "        #lista.remove(\"rojo\")\n",
    "        ultimo_elemento = lista.pop(0)\n",
    "        if len(lista) > 0:\n",
    "            ultimo_elemento = lista.pop(0)\n",
    "\n",
    "\n",
    "funcion_usa_f_s(f_s=f_s, lista=lista_aux)\n"
   ]
  },
  {
   "cell_type": "code",
   "execution_count": 19,
   "metadata": {},
   "outputs": [
    {
     "name": "stdout",
     "output_type": "stream",
     "text": "[0, 2, 4, 6, 8, 10, 12, 14, 16]\n"
    }
   ],
   "source": [
    "#7. Crear una función 'numeros_pares' que tenga un parámetro de entrada 'arg1' (Entero). La función debe mostrar por pantalla y retornar una lista de números de tamaño 'arg1' siendo números pares.\n",
    "\n",
    "def numeros_pares(arg1):\n",
    "    lista_numeros_pares = []\n",
    "    for value in range(arg1*2):\n",
    "        if (value % 2 == 0):  # % es módulo\n",
    "            lista_numeros_pares.append(value)\n",
    "\n",
    "    #print(lista_numeros_pares)\n",
    "    return lista_numeros_pares\n",
    "\n",
    "print(numeros_pares(arg1=9))"
   ]
  },
  {
   "cell_type": "code",
   "execution_count": 30,
   "metadata": {},
   "outputs": [
    {
     "name": "stdout",
     "output_type": "stream",
     "text": "None\nNone15\nTrue\n"
    },
    {
     "data": {
      "text/plain": "[0, 2, 4, 6, 8, 10, 12, 14, 16, True]"
     },
     "execution_count": 30,
     "metadata": {},
     "output_type": "execute_result"
    }
   ],
   "source": [
    "#8. Crear una función que tenga una variable de entrada 'arg1' (que será la lista de números pares del apartado anterior) y que elimine elementos de la lista (uno a uno) si 'arg1' tiene un tamaño divisible entre 2 y, si no lo tiene, añada, solo una vez, el valor de la función 'f_s'.\n",
    "\n",
    "def funcion_8(arg1):   \n",
    "    if len(arg1) % 2 == 0:\n",
    "        for i in range(len(arg1)):\n",
    "            arg1.pop()\n",
    "    else:\n",
    "        lo_que_retorna_la_funcion = f_s(lista=lista_informacion)\n",
    "        arg1.append(lo_que_retorna_la_funcion)\n",
    "    return arg1\n",
    "\n",
    "funcion_8(arg1=numeros_pares(9))"
   ]
  },
  {
   "cell_type": "code",
   "execution_count": null,
   "metadata": {},
   "outputs": [],
   "source": [
    "lista = [\"x\", 2,45]\n",
    "\n",
    "print(lista/2)"
   ]
  },
  {
   "cell_type": "code",
   "execution_count": 21,
   "metadata": {},
   "outputs": [
    {
     "name": "stdout",
     "output_type": "stream",
     "text": "Lista: [0, 2, 4, 6, 8, 10, 12, 14]\n-------\nLista: [0, 2, 4, 6, 8, 10, 12]\n-------\nLista: [0, 2, 4, 6, 8, 10]\n-------\nLista: [0, 2, 4, 6, 8]\n-------\nLista: [0, 2, 4, 6]\n-------\n[0, 2, 4, 6]\n"
    }
   ],
   "source": [
    "l = [0, 2, 4, 6, 8, 10, 12, 14, 16]\n",
    "\n",
    "for e in l:\n",
    "    l.pop()\n",
    "    print(\"Lista:\", l)\n",
    "    print(\"-------\")\n",
    "\n",
    "print(l)"
   ]
  },
  {
   "cell_type": "code",
   "execution_count": 22,
   "metadata": {},
   "outputs": [
    {
     "name": "stdout",
     "output_type": "stream",
     "text": "Lista: [2, 4, 6, 8, 10, 12, 14, 16]\n-------\nLista: [4, 6, 8, 10, 12, 14, 16]\n-------\nLista: [6, 8, 10, 12, 14, 16]\n-------\nLista: [8, 10, 12, 14, 16]\n-------\nLista: [10, 12, 14, 16]\n-------\n[10, 12, 14, 16]\n"
    }
   ],
   "source": [
    "l = [0, 2, 4, 6, 8, 10, 12, 14, 16]\n",
    "\n",
    "for e in l:\n",
    "    l.pop(0)\n",
    "    print(\"Lista:\", l)\n",
    "    print(\"-------\")\n",
    "\n",
    "print(l)"
   ]
  },
  {
   "cell_type": "code",
   "execution_count": 23,
   "metadata": {},
   "outputs": [
    {
     "name": "stdout",
     "output_type": "stream",
     "text": "Lista: [2, 4, 6, 8, 10, 12, 14, 16]\n-------\nLista: [4, 6, 8, 10, 12, 14, 16]\n-------\nLista: [6, 8, 10, 12, 14, 16]\n-------\nLista: [8, 10, 12, 14, 16]\n-------\nLista: [10, 12, 14, 16]\n-------\nLista: [12, 14, 16]\n-------\nLista: [14, 16]\n-------\nLista: [16]\n-------\nLista: []\n-------\n[]\n"
    }
   ],
   "source": [
    "l = [0, 2, 4, 6, 8, 10, 12, 14, 16]\n",
    "\n",
    "for e in range(len(l)):\n",
    "    l.pop(0)\n",
    "    print(\"Lista:\", l)\n",
    "    print(\"-------\")\n",
    "\n",
    "print(l)"
   ]
  },
  {
   "cell_type": "code",
   "execution_count": 8,
   "metadata": {},
   "outputs": [
    {
     "name": "stdout",
     "output_type": "stream",
     "text": "Tamaño lista: 4\n"
    },
    {
     "data": {
      "text/plain": "[0, 1, 2, 3, 4, 5, 6, 7, 8, 9, 10, 11, 12, 13]"
     },
     "execution_count": 8,
     "metadata": {},
     "output_type": "execute_result"
    }
   ],
   "source": [
    "print(\"Tamaño lista:\", len([2,4,7,9]))\n",
    "\n",
    "lista = []\n",
    "for i in range(14):\n",
    "    lista.append(i)\n",
    "lista"
   ]
  },
  {
   "cell_type": "code",
   "execution_count": 27,
   "metadata": {},
   "outputs": [
    {
     "name": "stdout",
     "output_type": "stream",
     "text": "Elemento a eliminar rojo\n['rojo', 'azul', 'amarillo', 'rosa', 'verde', 'blanco', 'negro']\n------------------\nElemento a eliminar amarillo\n['azul', 'amarillo', 'rosa', 'verde', 'blanco', 'negro']\n------------------\nElemento a eliminar verde\n['azul', 'rosa', 'verde', 'blanco', 'negro']\n------------------\nElemento a eliminar negro\n['azul', 'rosa', 'blanco', 'negro']\n------------------\n['azul', 'rosa', 'blanco']\n"
    }
   ],
   "source": [
    "lista_aux2 = [\"rojo\", \"azul\", \"amarillo\", \"rosa\", \"verde\", \"blanco\", \"negro\"]\n",
    "\n",
    "for e in lista_aux2:\n",
    "    print(\"Elemento a eliminar\", e)\n",
    "    print(lista_aux2)\n",
    "    lista_aux2.remove(e)\n",
    "    print(\"------------------\")\n",
    "\n",
    "print(lista_aux2)"
   ]
  },
  {
   "cell_type": "code",
   "execution_count": 25,
   "metadata": {},
   "outputs": [
    {
     "name": "stdout",
     "output_type": "stream",
     "text": "Lista al principio ['rojo', 'azul', 'amarillo', 'rosa', 'verde', 'blanco', 'negro']\nNone\nNone15\nTrue\nLista al final: []\n"
    }
   ],
   "source": [
    "lista_aux = [\"rojo\", \"azul\", \"amarillo\", \"rosa\", \"verde\", \"blanco\", \"negro\"]\n",
    "\n",
    "def funcion_usa_f_s(f_s, lista):\n",
    "    print(\"Lista al principio\", lista)\n",
    "    lo_que_retorna_f_s = f_s(lista_informacion)\n",
    "    if lo_que_retorna_f_s:\n",
    "        for i in range(len(lista)):\n",
    "            lista.pop()\n",
    "    print(\"Lista al final:\", lista)\n",
    "\n",
    "funcion_usa_f_s(f_s=f_s, lista=lista_aux)"
   ]
  },
  {
   "cell_type": "code",
   "execution_count": 22,
   "metadata": {},
   "outputs": [
    {
     "name": "stdout",
     "output_type": "stream",
     "text": "1\n2\n3\n4\n5\n6\n7\n"
    }
   ],
   "source": [
    "lista_aux = [\"rojo\", \"azul\", \"amarillo\", \"rosa\", \"verde\", \"blanco\", \"negro\"]\n",
    "tamano_aux = len(lista_aux)\n",
    "\n",
    "acum = 1\n",
    "for i in range(tamano_aux):\n",
    "    print(acum)\n",
    "    acum += 1"
   ]
  },
  {
   "cell_type": "code",
   "execution_count": 20,
   "metadata": {},
   "outputs": [
    {
     "name": "stdout",
     "output_type": "stream",
     "text": "[0, 1, 2, 3, 4, 5, 6, 7, 8, 9, 10, 11, 12, 13, 14, 15, 16, 17, 18, 19, 20, 21, 22, 23, 24, 25, 26, 27, 28, 29, 30, 31, 32, 33, 34, 35, 36, 37, 38, 39, 40, 41, 42, 43, 44, 45, 46, 47, 48, 49, 50, 51, 52, 53, 54, 55, 56, 57, 58, 59, 60, 61, 62, 63, 64, 65, 66, 67, 68, 69, 70, 71, 72, 73, 74, 75, 76, 77, 78, 79, 80, 81, 82, 83, 84, 85, 86]\n"
    }
   ],
   "source": [
    "lista = []\n",
    "for i in range(87):\n",
    "    lista.append(i)\n",
    "print(lista)"
   ]
  },
  {
   "cell_type": "code",
   "execution_count": 28,
   "metadata": {},
   "outputs": [
    {
     "ename": "NameError",
     "evalue": "name 'x' is not defined",
     "output_type": "error",
     "traceback": [
      "\u001b[0;31m---------------------------------------------------------------------------\u001b[0m",
      "\u001b[0;31mNameError\u001b[0m                                 Traceback (most recent call last)",
      "\u001b[0;32m<ipython-input-28-c8d723a31654>\u001b[0m in \u001b[0;36m<module>\u001b[0;34m\u001b[0m\n\u001b[1;32m      1\u001b[0m \u001b[0mx\u001b[0m \u001b[0;34m=\u001b[0m \u001b[0;36m2\u001b[0m\u001b[0;34m\u001b[0m\u001b[0;34m\u001b[0m\u001b[0m\n\u001b[1;32m      2\u001b[0m \u001b[0;32mdel\u001b[0m \u001b[0mx\u001b[0m\u001b[0;34m\u001b[0m\u001b[0;34m\u001b[0m\u001b[0m\n\u001b[0;32m----> 3\u001b[0;31m \u001b[0mprint\u001b[0m\u001b[0;34m(\u001b[0m\u001b[0mx\u001b[0m\u001b[0;34m)\u001b[0m\u001b[0;34m\u001b[0m\u001b[0;34m\u001b[0m\u001b[0m\n\u001b[0m",
      "\u001b[0;31mNameError\u001b[0m: name 'x' is not defined"
     ]
    }
   ],
   "source": [
    "x = 2\n",
    "del x\n",
    "print(x)"
   ]
  },
  {
   "cell_type": "code",
   "execution_count": 32,
   "metadata": {},
   "outputs": [
    {
     "data": {
      "text/plain": "['x', 'y']"
     },
     "execution_count": 32,
     "metadata": {},
     "output_type": "execute_result"
    }
   ],
   "source": [
    "lista = [\"x\", \"y\", \"y\"]\n",
    "lista.remove(\"y\")\n",
    "lista"
   ]
  },
  {
   "cell_type": "code",
   "execution_count": 30,
   "metadata": {},
   "outputs": [
    {
     "data": {
      "text/plain": "['x', 'y']"
     },
     "execution_count": 30,
     "metadata": {},
     "output_type": "execute_result"
    }
   ],
   "source": [
    "lista = [\"x\", \"y\", \"y\"]\n",
    "lista.pop()\n",
    "lista"
   ]
  },
  {
   "cell_type": "code",
   "execution_count": null,
   "metadata": {},
   "outputs": [],
   "source": [
    "lista = [\"x\", \"y\", \"y\"]\n",
    "elemento_eliminado = lista.pop(0)\n",
    "lista"
   ]
  },
  {
   "cell_type": "code",
   "execution_count": 11,
   "metadata": {},
   "outputs": [
    {
     "data": {
      "text/plain": "[15, 'Recoletos', False, None, [15, 'Recoletos'], '7']"
     },
     "execution_count": 11,
     "metadata": {},
     "output_type": "execute_result"
    }
   ],
   "source": [
    "lista_informacion"
   ]
  },
  {
   "cell_type": "code",
   "execution_count": null,
   "metadata": {},
   "outputs": [],
   "source": [
    "sub_lista = lista_informacion[4]\n",
    "sub_lista[1]"
   ]
  },
  {
   "cell_type": "code",
   "execution_count": null,
   "metadata": {},
   "outputs": [],
   "source": [
    "print(lista_informacion[5])\n",
    "print(lista_informacion[-1])\n",
    "lista_informacion[-2]"
   ]
  },
  {
   "cell_type": "code",
   "execution_count": null,
   "metadata": {},
   "outputs": [],
   "source": [
    "lista_informacion[5]"
   ]
  },
  {
   "cell_type": "code",
   "execution_count": null,
   "metadata": {},
   "outputs": [],
   "source": [
    "for elemento in lista_informacion:\n",
    "    if lista_informacion[0] == 15:\n",
    "        print(elemento)"
   ]
  },
  {
   "cell_type": "code",
   "execution_count": null,
   "metadata": {},
   "outputs": [],
   "source": [
    "x = 15\n",
    "print(x[1])"
   ]
  },
  {
   "cell_type": "code",
   "execution_count": null,
   "metadata": {},
   "outputs": [],
   "source": [
    "#Dentro de una función llamada 'funcion_comprobacion' que recibe solo un parámetro llamado 'valor_zona' que será el valor que devuelve la función 'funcion_zona' cuando sea invocado, mostrar el valor de 'valor_zona' si es True.\n",
    "\n",
    "def funcion_comprobacion(valor_zona):\n",
    "    if valor_zona:\n",
    "        print(valor_zona)\n",
    "    else:\n",
    "        print(\"Es falso\")\n",
    "\n",
    "funcion_comprobacion(valor_zona=funcion_zona(lista=lista_informacion))"
   ]
  },
  {
   "cell_type": "code",
   "execution_count": null,
   "metadata": {},
   "outputs": [],
   "source": [
    "f = False\n",
    "if f:\n",
    "    print(\"Es falso\")"
   ]
  },
  {
   "cell_type": "code",
   "execution_count": null,
   "metadata": {},
   "outputs": [],
   "source": [
    "n = None\n",
    "if n:\n",
    "    print(\"Es falso\")"
   ]
  },
  {
   "cell_type": "code",
   "execution_count": null,
   "metadata": {},
   "outputs": [],
   "source": [
    "for elemento in lista_informacion:\n",
    "    print(elemento)"
   ]
  },
  {
   "cell_type": "code",
   "execution_count": null,
   "metadata": {},
   "outputs": [],
   "source": [
    "acum = 0 \n",
    "for elemento in lista_informacion:\n",
    "    print(lista_informacion[acum])\n",
    "    print(\"Acum:\", acum)\n",
    "    acum += 1"
   ]
  },
  {
   "cell_type": "code",
   "execution_count": null,
   "metadata": {},
   "outputs": [],
   "source": []
  },
  {
   "cell_type": "code",
   "execution_count": null,
   "metadata": {},
   "outputs": [],
   "source": [
    "lista = [\"x\", \"y\", 2, \"z\", [\"a_devolver\", 5], 79]\n",
    "\n",
    "acum = 0\n",
    "for elemento in lista:\n",
    "    if (acum == 4):\n",
    "        print(elemento[1])\n",
    "    else:\n",
    "        print(elemento)\n",
    "    acum += 1\n",
    "\n",
    "\n"
   ]
  },
  {
   "cell_type": "code",
   "execution_count": null,
   "metadata": {},
   "outputs": [],
   "source": [
    "lista = [\"x\", \"y\", 2, \"z\", [\"a_devolver\", 5], 79]\n",
    "\n",
    "acum = 0\n",
    "acum2 = 0\n",
    "\n",
    "for elemento in lista:\n",
    "    if (acum == 4):\n",
    "        for m in elemento:\n",
    "            if acum2 != 0:\n",
    "                print(m)\n",
    "            acum2 = acum2 + 1\n",
    "    else:\n",
    "        print(elemento)\n",
    "    acum += 1\n"
   ]
  },
  {
   "cell_type": "code",
   "execution_count": null,
   "metadata": {},
   "outputs": [],
   "source": []
  },
  {
   "cell_type": "markdown",
   "execution_count": null,
   "metadata": {},
   "outputs": [],
   "source": [
    "### Apartado 3\n",
    "\n",
    "Para este apartado se utilizará la lista 'lista_información. A esa lista, ha de añadirse UTILIZANDO el método 'append':\n",
    "\n",
    "- Un booleano que sea True si utilizas gafas. False para lo contrario. \n",
    "- Un entero que represente tu edad. \n",
    "- Un float que represente el dinero que te has gastado en tu última compra.\n",
    "- Un string que represente el nombre de uno de tus tí@s. Si no tienes, el nombre de uno de tus herman@s. Si no tienes, alguno de tus abuel@s. Si no tienes, el nombre de tu mejor amigo. Y, si no tienes, el nombre de tu psicólog@.\n",
    "- Una lista que tenga como tamaño 5. Cada una de las posiciones debe representar los números que más te gusten en el rango [[0-100]] dividido entre 10. Es decir, si eliges el 11, el número sería el 1.1. Si eliges el 100, sería el 10.  \n",
    "\n",
    "Por último, han de eliminarse las variables 'none' y 'lista_direccion' de dos formas:\n",
    "\n",
    "- 'nada' con el método 'remove' de una lista. \n",
    "- 'lista_direccion' con el método 'pop' con el que se puede eliminar el elemento de una lista a través de una posición. Para más información, hemos puesto un ejemplo más abajo.\n",
    "\n",
    "\n"
   ]
  },
  {
   "cell_type": "code",
   "execution_count": 36,
   "metadata": {},
   "outputs": [
    {
     "name": "stdout",
     "output_type": "stream",
     "text": "[15, 'Recoletos', False, None, [15, 'Recoletos'], '7', True, 65, 187492.6, 'Rafi', [0.5, 0.7, 0.8, 1.5, 9.9]]\n"
    }
   ],
   "source": [
    "lista_informacion.append(True)\n",
    "lista_informacion.append(65)\n",
    "lista_informacion.append(187492.6)\n",
    "lista_informacion.append(\"Rafi\")\n",
    "lista_informacion.append([0.5, 0.7, 0.8, 1.5, 9.9])\n",
    "\n",
    "# Eliminación\n",
    "print(lista_informacion)\n"
   ]
  },
  {
   "cell_type": "code",
   "execution_count": 37,
   "metadata": {},
   "outputs": [
    {
     "data": {
      "text/plain": "[15,\n 'Recoletos',\n False,\n [15, 'Recoletos'],\n '7',\n True,\n 65,\n 187492.6,\n 'Rafi',\n [0.5, 0.7, 0.8, 1.5, 9.9]]"
     },
     "execution_count": 37,
     "metadata": {},
     "output_type": "execute_result"
    }
   ],
   "source": [
    "lista_informacion.remove(15)\n",
    "lista_informacion"
   ]
  },
  {
   "cell_type": "code",
   "execution_count": 38,
   "metadata": {},
   "outputs": [
    {
     "data": {
      "text/plain": "[15,\n 'Recoletos',\n False,\n '7',\n True,\n 65,\n 187492.6,\n 'Rafi',\n [0.5, 0.7, 0.8, 1.5, 9.9]]"
     },
     "execution_count": 38,
     "metadata": {},
     "output_type": "execute_result"
    }
   ],
   "source": [
    "lista_informacion.pop(3)\n",
    "lista_informacion"
   ]
  },
  {
   "cell_type": "code",
   "execution_count": null,
   "metadata": {},
   "outputs": [],
   "source": [
    "\"\"\"\n",
    "Para eliminar el elemento \"c\" de 'lista_', que está en la segunda posición, hacemos lo siguiente:\n",
    "\"\"\"\n",
    "\n",
    "lista_ = [\"a\", \"b\", \"c\"]\n",
    "elemento_c = lista_.pop(2)\n",
    "print(elemento_c)\n",
    "print(lista_)"
   ]
  },
  {
   "cell_type": "code",
   "execution_count": null,
   "metadata": {},
   "outputs": [],
   "source": [
    "\"\"\"\n",
    "Como puedes ver, el método 'pop' retorna el elemento eliminado. Es opcional guardar el elemento eliminado en una variable. Si no se desea crear una variable que guarde el elemento eliminado, haríamos lo siguiente:\n",
    "\"\"\"\n",
    "\n",
    "lista_ = [\"a\", \"b\", \"c\"]\n",
    "lista_.pop(2)\n",
    "print(lista_)"
   ]
  },
  {
   "cell_type": "markdown",
   "execution_count": null,
   "metadata": {},
   "outputs": [],
   "source": [
    "### Apartado 4. Creación de funciones con return preparatorio. \n",
    "\n",
    "A partir de ahora solo se utilizará la 'lista_informacion' actualizada. La 'lista_informacion' debe contener 9 posiciones. Si no contiene 9, pregunta a los profesores.\n",
    "\n",
    "Crear una nueva celda por cada apartado: \n",
    "\n",
    "- Función 'nb' que reciba por parámetro 'lista' y que retorne el número de The Bridge.\n",
    "- Función 'nc' que reciba por parámetro 'lista' y que retorne el nombre de la calle de The Bridge.\n",
    "- Función 'gp' que reciba por parámetro 'lista' y que retorne tu gusto personal.\n",
    "- Función 'hs' que reciba por parámetro 'lista' y que retorne las horas de sueño.\n",
    "- Función 'ul' que reciba por parámetro 'lista' y que retorne la última posicón de 'lista'.\n",
    "\n",
    "A partir de este momento, si se requiere utilizar uno de estos valores, se accederá a ellos a partir de las funciones anteriormente creadas, no directamente desde la lista."
   ]
  },
  {
   "cell_type": "code",
   "execution_count": 39,
   "metadata": {},
   "outputs": [
    {
     "data": {
      "text/plain": "[15,\n 'Recoletos',\n False,\n '7',\n True,\n 65,\n 187492.6,\n 'Rafi',\n [0.5, 0.7, 0.8, 1.5, 9.9]]"
     },
     "execution_count": 39,
     "metadata": {},
     "output_type": "execute_result"
    }
   ],
   "source": [
    "lista_informacion"
   ]
  },
  {
   "cell_type": "code",
   "execution_count": 40,
   "metadata": {},
   "outputs": [
    {
     "name": "stdout",
     "output_type": "stream",
     "text": "15\n"
    }
   ],
   "source": [
    "def nb(lista):\n",
    "    return lista[0]\n",
    "\n",
    "print(nb(lista=lista_informacion))"
   ]
  },
  {
   "cell_type": "code",
   "execution_count": 41,
   "metadata": {},
   "outputs": [],
   "source": [
    "def gp(lista):\n",
    "    return lista[2]\n"
   ]
  },
  {
   "cell_type": "code",
   "execution_count": 42,
   "metadata": {},
   "outputs": [],
   "source": [
    "def hs(lista):\n",
    "    return lista[3]\n",
    "\n",
    "def ul(lista):\n",
    "    return lista[-1]"
   ]
  },
  {
   "cell_type": "code",
   "execution_count": 43,
   "metadata": {},
   "outputs": [
    {
     "data": {
      "text/plain": "'7'"
     },
     "execution_count": 43,
     "metadata": {},
     "output_type": "execute_result"
    }
   ],
   "source": [
    "hs(lista=lista_informacion)"
   ]
  },
  {
   "cell_type": "markdown",
   "execution_count": null,
   "metadata": {},
   "outputs": [],
   "source": [
    "### Apartado 5. Break en bucles for.\n",
    "\n",
    "Crear una nueva celda por cada apartado: \n",
    "\n",
    "- Función 'string_mayor_5' que reciba por parámetro 'lista' ('lista_informacion'). Se debe recorrer 'lista' transformando cada elemento en string y, si el tamaño del string es mayor a 5, el bucle debe parar. La función ha de devolver el primer elemento con string mayor a 5.\n",
    "\n",
    "- Función 'lista_consecutivos' que recibe por parámetro 'limite'. Debe retornar una lista con números que empiece en el 0 y acabe en el número 'límite'. 'limite' será 18 cuando la función sea invocada. \n",
    "\n",
    "- Función 'posicion_15' que reciba un parámetro 'funcion_lista_consecutivos' y 'lista' y deberá devolver el elemento de la lista que devuelve la función 'lista_consecutivos' que represente la posicion 15. Es dentro de la función 'posicion_15' donde hay que llamar a 'funcion_lista_consecutivos' con el parámetro 'lista' como parámetro de entrada de 'lista_consecutivos'. El argumento 'límite' será 18 cuando 'lista_consecutivos' sea invocada.\n",
    "\n",
    "Ejemplo: \n",
    "x = posicion_15(funcion_lista_consecutivos=lista_consecutivos, lista=lista_informacion)"
   ]
  },
  {
   "cell_type": "code",
   "execution_count": null,
   "metadata": {},
   "outputs": [],
   "source": [
    "def string_mayor_5(lista):\n",
    "    mayor_5 = None\n",
    "    for x in lista:\n",
    "        if len(str(x)) > 5:\n",
    "            mayor_5 = x\n",
    "            break\n",
    "    return mayor_5 "
   ]
  },
  {
   "cell_type": "code",
   "execution_count": null,
   "metadata": {},
   "outputs": [],
   "source": [
    "def string_mayor_5_v2(lista):\n",
    "    for x in lista:\n",
    "        if len(str(x)) > 5:\n",
    "            return x "
   ]
  },
  {
   "cell_type": "code",
   "execution_count": 44,
   "metadata": {},
   "outputs": [
    {
     "data": {
      "text/plain": "[0, 1, 2, 3, 4, 5, 6, 7, 8, 9, 10, 11, 12, 13, 14, 15, 16, 17, 18]"
     },
     "execution_count": 44,
     "metadata": {},
     "output_type": "execute_result"
    }
   ],
   "source": [
    "def lista_consecutivos(limite):\n",
    "    lista = []\n",
    "    for e in range(limite+1):\n",
    "        lista.append(e)\n",
    "    return lista\n",
    "lista_consecutivos(limite=18)"
   ]
  },
  {
   "cell_type": "code",
   "execution_count": 48,
   "metadata": {},
   "outputs": [
    {
     "data": {
      "text/plain": "15"
     },
     "execution_count": 48,
     "metadata": {},
     "output_type": "execute_result"
    }
   ],
   "source": [
    "# Función 'posicion_15' que reciba un parámetro 'funcion_lista_consecutivos' y 'lista' y deberá devolver el elemento de la lista que devuelve la función 'lista_consecutivos' que represente la posicion 15. Es dentro de la función 'posicion_15' donde hay que llamar a 'funcion_lista_consecutivos'. El argumento 'límite' será 18 cuando 'lista_consecutivos' sea invocada.\n",
    "\n",
    "def posicion_15(funcion_lista_consecutivos, lista):\n",
    "    lista_consecutivos_retornada = funcion_lista_consecutivos(18)\n",
    "    return lista_consecutivos_retornada[15]\n",
    "\n",
    "x = posicion_15(funcion_lista_consecutivos=lista_consecutivos, lista=lista_informacion)\n",
    "x"
   ]
  },
  {
   "cell_type": "code",
   "execution_count": 47,
   "metadata": {},
   "outputs": [
    {
     "name": "stdout",
     "output_type": "stream",
     "text": "34\n"
    }
   ],
   "source": [
    "def fun():\n",
    "    return 34\n",
    "x = fun\n",
    "print(x())"
   ]
  },
  {
   "cell_type": "code",
   "execution_count": null,
   "metadata": {},
   "outputs": [],
   "source": [
    "for x in lista:\n",
    "    for i in x:\n",
    "        break"
   ]
  },
  {
   "cell_type": "code",
   "execution_count": null,
   "metadata": {},
   "outputs": [],
   "source": [
    "lista = [\"x\", \"y\", \"z\"] \n",
    "for i, elemento in enumerate(lista):\n",
    "    print(\"Posición: \", i)\n",
    "    print(\"Elemento: \", elemento)\n",
    "\n",
    "acum = 0\n",
    "for elemento in lista:\n",
    "    if elemento == \"y\":\n",
    "        break  # Parará la iteración del bucle\n",
    "    acum = acum + 1\n",
    "print(acum)\n",
    "\n"
   ]
  },
  {
   "cell_type": "code",
   "execution_count": null,
   "metadata": {},
   "outputs": [],
   "source": [
    "# Ejercicio enumerate con listas de listas\n",
    "\n",
    "lista1 = [[\"x\", \"y\", \"z\"], [\"h\", \"j\", \"k\"]]\n",
    "lista2 = [[10, 20, 30], [50, 60, 70]] \n",
    "\n",
    "print(lista1[1][2])\n",
    "\n",
    "for i, elemento_lista in enumerate(lista1):\n",
    "    for j, elemento in enumerate(elemento_lista):\n",
    "        print(elemento, \":\", lista2[i][j])\n"
   ]
  },
  {
   "cell_type": "markdown",
   "execution_count": 4,
   "metadata": {},
   "outputs": [],
   "source": [
    "### Apartado 6. Bucle while.\n",
    "\n",
    "Crear una nueva celda por cada apartado: \n",
    "\n",
    "- Crear una función reciba por parámetro 'lista' que muestre todos los elementos que tiene usando un bucle while. Llamar a la función con 'lista_informacion'.\n",
    "- Realizar todos los apartados del apartado 2.2 cuyo enunciado aparece la palabra 'recorrer' excepto el que se utiliza la 'lista_direccion' borrada en el apartado 3. \n",
    "- Realizar el apartado 5 con bucle while en vez de bucle for. \n",
    "- Realizar una función que realice la función de fibonacci con un while.\n",
    "\n",
    "\n",
    "\n"
   ]
  },
  {
   "cell_type": "code",
   "execution_count": null,
   "metadata": {},
   "outputs": [],
   "source": []
  },
  {
   "cell_type": "code",
   "execution_count": 51,
   "metadata": {},
   "outputs": [
    {
     "name": "stdout",
     "output_type": "stream",
     "text": "True\nTrue\nTrue\n"
    }
   ],
   "source": [
    "condicion = 7<8\n",
    "\n",
    "acum = 0\n",
    "while (condicion):\n",
    "    print(\"True\")\n",
    "    acum += 1\n",
    "    if acum == 3:\n",
    "        condicion = False"
   ]
  },
  {
   "cell_type": "code",
   "execution_count": 54,
   "metadata": {},
   "outputs": [
    {
     "name": "stdout",
     "output_type": "stream",
     "text": "True\nTrue\nTrue\n"
    }
   ],
   "source": [
    "condicion = 7<8\n",
    "\n",
    "acum = 0\n",
    "while (condicion):\n",
    "    acum += 1\n",
    "    print(\"True\")\n",
    "    if acum == 3:\n",
    "        condicion = False\n",
    "    \n",
    "    \n",
    "    "
   ]
  },
  {
   "cell_type": "code",
   "execution_count": 57,
   "metadata": {},
   "outputs": [
    {
     "name": "stdout",
     "output_type": "stream",
     "text": "2\n4\n6\n8\n10\n"
    }
   ],
   "source": [
    "lista = [2,4,6,8,10] \n",
    "\n",
    "acum = 0\n",
    "while True:\n",
    "    if acum == len(lista): \n",
    "        break\n",
    "    print(lista[acum])\n",
    "    acum += 1"
   ]
  },
  {
   "cell_type": "code",
   "execution_count": 58,
   "metadata": {},
   "outputs": [
    {
     "name": "stdout",
     "output_type": "stream",
     "text": "10\n"
    }
   ],
   "source": [
    "lista = [2,4,6,8,10] \n",
    "\n",
    "acum = 0\n",
    "while True:\n",
    "    if acum == len(lista) - 1: \n",
    "        print(lista[acum])\n",
    "    elif acum > len(lista) - 1:\n",
    "        break\n",
    "    acum += 1"
   ]
  },
  {
   "cell_type": "code",
   "execution_count": null,
   "metadata": {},
   "outputs": [],
   "source": []
  },
  {
   "cell_type": "code",
   "execution_count": null,
   "metadata": {},
   "outputs": [],
   "source": [
    "x = 0\n",
    "y = 5\n",
    "\n",
    "\n",
    "while (x + y < 10):\n",
    "    print(\"X:\" , x)\n",
    "    x = x + 1\n",
    "\n",
    "\n",
    "\n",
    "\n"
   ]
  },
  {
   "cell_type": "code",
   "execution_count": null,
   "metadata": {},
   "outputs": [],
   "source": [
    "acum = 0\n",
    "while (acum < 10):\n",
    "    print(acum)\n",
    "    acum = acum + 2"
   ]
  },
  {
   "cell_type": "code",
   "execution_count": null,
   "metadata": {},
   "outputs": [],
   "source": [
    "lista = [\"x\", \"y\", \"z\"]\n",
    "acum = 0\n",
    "tamano_lista = len(lista)\n",
    "while (acum <= tamano_lista - 1):\n",
    "    print(lista[acum])\n",
    "    acum += 1\n"
   ]
  },
  {
   "cell_type": "code",
   "execution_count": 63,
   "metadata": {},
   "outputs": [
    {
     "name": "stdout",
     "output_type": "stream",
     "text": "Tamaño lista_acum: 7\n[0, 1, 2, 3, 4, 5, 6]\n"
    }
   ],
   "source": [
    "lista_acum = []\n",
    "bandera = True\n",
    "acum = 0\n",
    "while bandera:\n",
    "    if acum == 7:\n",
    "        break\n",
    "    lista_acum.append(acum)\n",
    "    acum += 1\n",
    "\n",
    "print(\"Tamaño lista_acum:\", len(lista_acum))\n",
    "print(lista_acum)"
   ]
  },
  {
   "cell_type": "code",
   "execution_count": null,
   "metadata": {},
   "outputs": [],
   "source": [
    "lista_acum = []\n",
    "bandera = True\n",
    "acum = 0\n",
    "while bandera:\n",
    "    if acum == 7:\n",
    "        bandera = False\n",
    "    lista_acum.append(acum)\n",
    "    acum += 1\n",
    "\n",
    "print(\"Tamaño lista_acum:\", len(lista_acum))\n",
    "print(lista_acum)"
   ]
  },
  {
   "cell_type": "code",
   "execution_count": 65,
   "metadata": {},
   "outputs": [
    {
     "name": "stdout",
     "output_type": "stream",
     "text": "Tamaño lista_acum: 7\n[0, 1, 2, 3, 5, 6, 7]\n"
    }
   ],
   "source": [
    "lista_acum = []\n",
    "bandera = True\n",
    "acum = 0\n",
    "while bandera:\n",
    "    if acum == 7:\n",
    "        bandera = False\n",
    "    elif acum == 4:\n",
    "        acum += 1\n",
    "        continue\n",
    "    lista_acum.append(acum)\n",
    "    acum += 1\n",
    "\n",
    "print(\"Tamaño lista_acum:\", len(lista_acum))\n",
    "print(lista_acum)"
   ]
  },
  {
   "cell_type": "code",
   "execution_count": null,
   "metadata": {},
   "outputs": [],
   "source": [
    "lista_acum = []\n",
    "bandera = True\n",
    "acum = 0\n",
    "while bandera:\n",
    "    if acum == 7:\n",
    "        bandera = False\n",
    "    elif acum == 4:\n",
    "        acum += 1\n",
    "        continue\n",
    "    lista_acum.append(acum)\n",
    "    acum += 1\n",
    "\n",
    "print(\"Tamaño lista_acum:\", len(lista_acum))\n",
    "print(lista_acum)"
   ]
  },
  {
   "cell_type": "markdown",
   "execution_count": null,
   "metadata": {},
   "outputs": [],
   "source": [
    "Apartado 7. Importación de módulos.\n",
    "\n",
    "Un módulo representa un fichero de extensión '.py' que contiene código python. Importando un módulo, podemos acceder a todas las variable, funciones y clases no privadas que contiene. \n",
    "\n",
    "En la propia carpeta del día de hoy, hay un fichero llamado 'nombre_modulo.py'. Vamos a importarlo y usar alguna de sus variables y funciones. "
   ]
  },
  {
   "cell_type": "code",
   "execution_count": 59,
   "metadata": {},
   "outputs": [
    {
     "name": "stdout",
     "output_type": "stream",
     "text": "2\n3\n"
    }
   ],
   "source": [
    "import nombre_modulo as nm\n",
    "\"\"\" 'as' renombra el módulo para su uso en futuras ocasiones. Se utiliza para no tener que escribir el nombre del modulo continuamente.\n",
    "\"\"\"\n",
    "\n",
    "print(nm.var1)\n",
    "print(nm.var2)\n"
   ]
  },
  {
   "cell_type": "code",
   "execution_count": 60,
   "metadata": {},
   "outputs": [
    {
     "name": "stdout",
     "output_type": "stream",
     "text": "hola\nadiós\n"
    }
   ],
   "source": [
    "nm.hola_y_adios()"
   ]
  },
  {
   "cell_type": "code",
   "execution_count": 61,
   "metadata": {},
   "outputs": [
    {
     "name": "stdout",
     "output_type": "stream",
     "text": "5.0\n"
    }
   ],
   "source": [
    "lista = [2, 4, 6, 8]\n",
    "suma = sum(lista)\n",
    "longitud = len(lista)\n",
    "media = suma / longitud\n",
    "print(media)"
   ]
  },
  {
   "cell_type": "code",
   "execution_count": 62,
   "metadata": {},
   "outputs": [
    {
     "name": "stdout",
     "output_type": "stream",
     "text": "5.0\n"
    }
   ],
   "source": [
    "import numpy as np\n",
    "\n",
    "media = np.mean(lista)\n",
    "print(media)"
   ]
  },
  {
   "cell_type": "code",
   "execution_count": null,
   "metadata": {},
   "outputs": [],
   "source": [
    "import pandas as pd\n",
    "pd.array()"
   ]
  },
  {
   "cell_type": "code",
   "execution_count": null,
   "metadata": {},
   "outputs": [],
   "source": [
    "def sumar_numeros(param1, param2):\n",
    "    \"\"\"Solo usar Enteros\"\"\"\n",
    "    return param1 + param2\n",
    "\n",
    "suma = sumar_numeros(param1=3, param2=\"4\")\n",
    "suma"
   ]
  },
  {
   "cell_type": "markdown",
   "execution_count": null,
   "metadata": {},
   "outputs": [],
   "source": [
    "Al igual que con los demás objetos, una vez que se ha importado el módulo no hace falta importarlo más veces. "
   ]
  },
  {
   "cell_type": "code",
   "execution_count": null,
   "metadata": {},
   "outputs": [],
   "source": [
    "nm.hola_y_adios()"
   ]
  },
  {
   "cell_type": "markdown",
   "execution_count": null,
   "metadata": {},
   "outputs": [],
   "source": [
    "# Apartado 8: Ejercicios\n",
    "\n",
    "- Programa una calculadora que pregunte por pantalla dos números y dos operadores. Se debe realizar primero una operación y luego otra. Trata de definir el mayor número de funciones posibles. \n",
    "- Programa, definiendo funciones, el juego 'piedra, papel o tijera'. \n",
    "- Haz un programa que, a partir de las cadenas \"|\" y \"_\", muestre por pantalla un tablero de ajedrez 8x8. \n",
    "- Haz un programa utilizando 'while' que genere una baraja de cartas de 4 palos distintos. La baraja ha de tener 40 cartas. "
   ]
  },
  {
   "cell_type": "code",
   "execution_count": null,
   "metadata": {},
   "outputs": [],
   "source": [
    "\n",
    "lista = [2,2,2,4,5]\n",
    "print(set(lista))"
   ]
  },
  {
   "cell_type": "code",
   "execution_count": null,
   "metadata": {},
   "outputs": [],
   "source": [
    "dictionary = {}\n",
    "dictionary[\"Raul\"] = 1.76\n",
    "dictionary[\"Monica\"] = 1.8\n",
    "dictionary"
   ]
  },
  {
   "cell_type": "code",
   "execution_count": null,
   "metadata": {},
   "outputs": [],
   "source": []
  },
  {
   "cell_type": "code",
   "execution_count": null,
   "metadata": {},
   "outputs": [],
   "source": [
    "# 2.2.11 Crear una variable llamada 'zona' y darle el valor de None. Recorrer 'lista' y actualizar 'zona' a True si y solo si has dormido más de 7 horas, te gusta la playa y la suma de las horas que has dormido más el número de The Bridge es menor a 24. Para cualquier otro caso, 'zona' será False. Retornar el valor de 'zona'. Esta función se llamará 'funcion_zona'.\n",
    "\n",
    "def funcion_zona(lista):\n",
    "    zona = None\n",
    "    acum = 0\n",
    "\n",
    "    numero_bridge = None\n",
    "    horas_sueno = None\n",
    "    gusto_playa = None\n",
    "    # Recorre lista y almacena elementos de posición 0 y posición 5\n",
    "    for elemento in lista:\n",
    "        if acum == 0:\n",
    "            numero_bridge = elemento\n",
    "        elif acum == 5:\n",
    "            horas_sueno = int(elemento)\n",
    "        elif acum == 2:\n",
    "            gusto_playa = elemento\n",
    "        acum += 1\n",
    "\n",
    "    if (numero_bridge + horas_sueno < 24) and (gusto_playa) and (horas_sueno > 7): \n",
    "         zona = True\n",
    "    else:\n",
    "        zona = False\n",
    "    return zona\n",
    "\n",
    "funcion_zona(lista=lista_informacion)       \n",
    "    \n",
    "\n"
   ]
  },
  {
   "cell_type": "code",
   "execution_count": null,
   "metadata": {},
   "outputs": [],
   "source": []
  },
  {
   "cell_type": "code",
   "execution_count": null,
   "metadata": {},
   "outputs": [],
   "source": []
  },
  {
   "cell_type": "code",
   "execution_count": null,
   "metadata": {},
   "outputs": [],
   "source": []
  },
  {
   "cell_type": "code",
   "execution_count": null,
   "metadata": {},
   "outputs": [],
   "source": []
  },
  {
   "cell_type": "code",
   "execution_count": null,
   "metadata": {},
   "outputs": [],
   "source": [
    "n = 1\n",
    "m = 2\n",
    "print(str(n) + \" \" + str(m))"
   ]
  },
  {
   "cell_type": "markdown",
   "execution_count": null,
   "metadata": {},
   "outputs": [],
   "source": [
    "# REPASO EXPRESS"
   ]
  },
  {
   "cell_type": "code",
   "execution_count": null,
   "metadata": {},
   "outputs": [],
   "source": [
    "# Tipos\n",
    "\n",
    "x = 2  # Enteros \n",
    "y = \"string\"  # String\n",
    "lista = [x, y]  # Lista\n",
    "booleanos = True  # Booleano\n",
    "nada = None\n",
    "\n",
    "guardada_suma = str(x) + y\n",
    "print(guardada_suma)\n",
    "\n"
   ]
  },
  {
   "cell_type": "code",
   "execution_count": null,
   "metadata": {},
   "outputs": [],
   "source": [
    "y = 4\n",
    "x = \"2\"\n",
    "h = y + int(x)\n",
    "print(h)"
   ]
  },
  {
   "cell_type": "code",
   "execution_count": null,
   "metadata": {},
   "outputs": [],
   "source": [
    "lista = [x, y, h]\n",
    "lista"
   ]
  },
  {
   "cell_type": "code",
   "execution_count": null,
   "metadata": {},
   "outputs": [],
   "source": [
    "penultimo_valor = lista[1]\n",
    "ultimo_valor = lista[2]\n",
    "\n",
    "print(penultimo_valor)\n",
    "print(ultimo_valor)"
   ]
  },
  {
   "cell_type": "code",
   "execution_count": null,
   "metadata": {},
   "outputs": [],
   "source": [
    "ultimo_valor = lista[-1]\n",
    "ultimo_valor"
   ]
  },
  {
   "cell_type": "code",
   "execution_count": null,
   "metadata": {},
   "outputs": [],
   "source": [
    "x = 4 \n",
    "y = 6\n",
    "\n",
    "g = (4<=6)\n",
    "g"
   ]
  },
  {
   "cell_type": "code",
   "execution_count": null,
   "metadata": {},
   "outputs": [],
   "source": [
    "if 4 <= 6:\n",
    "    print(\"Sí\")\n",
    "elif 6 == 6:\n",
    "    print(\"No\")"
   ]
  },
  {
   "cell_type": "code",
   "execution_count": null,
   "metadata": {},
   "outputs": [],
   "source": [
    "g = 4 <= 6\n",
    "j = 5 == 5\n",
    "u = 7 > 8\n",
    "u"
   ]
  },
  {
   "cell_type": "code",
   "execution_count": null,
   "metadata": {},
   "outputs": [],
   "source": [
    "if u:\n",
    "    print(\"u\")\n",
    "elif g:\n",
    "    print(u)\n",
    "    \n",
    "if j:\n",
    "    print(\"j\")\n",
    "else: \n",
    "    print(g)"
   ]
  },
  {
   "cell_type": "code",
   "execution_count": null,
   "metadata": {},
   "outputs": [],
   "source": []
  },
  {
   "cell_type": "code",
   "execution_count": null,
   "metadata": {},
   "outputs": [],
   "source": [
    "lista = [\"x\", \"y\", 1, [\"h\", 6, 7]]"
   ]
  },
  {
   "cell_type": "code",
   "execution_count": null,
   "metadata": {},
   "outputs": [],
   "source": [
    "len(lista)"
   ]
  },
  {
   "cell_type": "code",
   "execution_count": null,
   "metadata": {},
   "outputs": [],
   "source": [
    "for elemento in lista:\n",
    "    print(elemento)"
   ]
  },
  {
   "cell_type": "code",
   "execution_count": null,
   "metadata": {},
   "outputs": [],
   "source": [
    "for elemento in lista:\n",
    "    if elemento == 1:\n",
    "        print(elemento)\n",
    "        break\n",
    "    print(elemento)"
   ]
  },
  {
   "cell_type": "code",
   "execution_count": null,
   "metadata": {},
   "outputs": [],
   "source": [
    "# acumuladores\n",
    "lista = [\"x\", \"y\", 1, [\"h\", 6, 7]]\n",
    "acum = 0\n",
    "for e in lista:\n",
    "    print(acum)\n",
    "    acum += 1\n"
   ]
  },
  {
   "cell_type": "code",
   "execution_count": null,
   "metadata": {},
   "outputs": [],
   "source": [
    "acum = 0\n",
    "for e in lista: \n",
    "    if acum == 1:\n",
    "        print(e)\n",
    "    acum = acum + 1"
   ]
  },
  {
   "cell_type": "code",
   "execution_count": null,
   "metadata": {},
   "outputs": [],
   "source": [
    "# Tarea pendiente\n",
    "lista = [\"x\", \"y\", 1, [\"h\", 6, 7]]\n",
    "acum = 3\n",
    "for e in lista:\n",
    "    if acum == 1:\n",
    "        print(e)\n",
    "    acum = acum - 1"
   ]
  },
  {
   "cell_type": "code",
   "execution_count": null,
   "metadata": {},
   "outputs": [],
   "source": [
    "lista = [\"platano\", \"manzana\", 1, [\"pera\", 7]]\n",
    "for indice, elemento in enumerate(lista):\n",
    "    print(\"(\", indice, \",\", elemento, \")\")\n",
    "    "
   ]
  },
  {
   "cell_type": "code",
   "execution_count": 90,
   "metadata": {},
   "outputs": [
    {
     "name": "stdout",
     "output_type": "stream",
     "text": "platano\n1\n['pera', 7]\n"
    }
   ],
   "source": [
    "lista = [\"platano\", \"manzana\", 1, [\"pera\", 7]]\n",
    "for indice, elemento in enumerate(lista):\n",
    "    if indice != 1:\n",
    "        print(elemento)"
   ]
  },
  {
   "cell_type": "code",
   "execution_count": 91,
   "metadata": {},
   "outputs": [
    {
     "name": "stdout",
     "output_type": "stream",
     "text": "pera\n"
    }
   ],
   "source": [
    "lista = [\"platano\", \"manzana\", 1, [\"pera\", 7]]\n",
    "for indice, elemento in enumerate(lista):\n",
    "    if indice == 3:\n",
    "        print(elemento[0])"
   ]
  },
  {
   "cell_type": "code",
   "execution_count": 92,
   "metadata": {},
   "outputs": [
    {
     "name": "stdout",
     "output_type": "stream",
     "text": "0\n1\n2\n3\n4\n5\n6\n7\n8\n9\n10\n11\n12\n13\n14\n15\n16\n17\n18\n19\n"
    }
   ],
   "source": [
    "for indice in range(20):\n",
    "    print(indice)"
   ]
  },
  {
   "cell_type": "code",
   "execution_count": 93,
   "metadata": {},
   "outputs": [
    {
     "data": {
      "text/plain": "[2]"
     },
     "execution_count": 93,
     "metadata": {},
     "output_type": "execute_result"
    }
   ],
   "source": [
    "lista = []\n",
    "lista.append(2)\n",
    "lista"
   ]
  },
  {
   "cell_type": "code",
   "execution_count": 94,
   "metadata": {},
   "outputs": [],
   "source": [
    "lista = []\n",
    "for indice in range(20):\n",
    "    lista.append(indice)\n",
    "\n",
    "\n",
    "for indice in lista:\n",
    "    lista.append(indice)"
   ]
  },
  {
   "cell_type": "code",
   "execution_count": null,
   "metadata": {},
   "outputs": [],
   "source": [
    "lista = [\"platano\", \"manzana\", 1, [\"pera\", 7]]\n",
    "print(\"Tamaño de lista:\", len(lista))\n",
    "for indice in range(len(lista)):\n",
    "    print(lista[indice])"
   ]
  },
  {
   "cell_type": "code",
   "execution_count": null,
   "metadata": {},
   "outputs": [],
   "source": [
    "lista1 = [\"Homer\", \"Marge\"]\n",
    "lista2 = [120, 60]\n",
    "lista3 = [40, 38]\n",
    "\n",
    "print(lista1[0])\n",
    "print(lista2[0])"
   ]
  },
  {
   "cell_type": "code",
   "execution_count": null,
   "metadata": {},
   "outputs": [],
   "source": [
    "lista = []\n",
    "for indice in range(2):\n",
    "    lista.append(indice)\n",
    "print(lista)\n",
    "\n",
    "for indice in range(2):\n",
    "    print(lista1[indice])\n",
    "    print(lista2[indice])\n",
    "    print(lista3[indice])\n"
   ]
  },
  {
   "cell_type": "code",
   "execution_count": null,
   "metadata": {},
   "outputs": [],
   "source": []
  },
  {
   "cell_type": "code",
   "execution_count": null,
   "metadata": {},
   "outputs": [],
   "source": []
  },
  {
   "cell_type": "code",
   "execution_count": null,
   "metadata": {},
   "outputs": [],
   "source": []
  },
  {
   "cell_type": "code",
   "execution_count": null,
   "metadata": {},
   "outputs": [],
   "source": [
    "nombre = \"Noya\"\n",
    "len(nombre)"
   ]
  },
  {
   "cell_type": "code",
   "execution_count": null,
   "metadata": {},
   "outputs": [],
   "source": []
  }
 ]
}