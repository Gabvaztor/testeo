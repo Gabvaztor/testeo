{
 "nbformat": 4,
 "nbformat_minor": 2,
 "metadata": {
  "language_info": {
   "name": "python",
   "codemirror_mode": {
    "name": "ipython",
    "version": 3
   },
   "version": "3.7.4-final"
  },
  "orig_nbformat": 2,
  "file_extension": ".py",
  "mimetype": "text/x-python",
  "name": "python",
  "npconvert_exporter": "python",
  "pygments_lexer": "ipython3",
  "version": 3,
  "kernelspec": {
   "name": "python3",
   "display_name": "Python 3"
  }
 },
 "cells": [
  {
   "cell_type": "markdown",
   "execution_count": null,
   "metadata": {},
   "outputs": [],
   "source": [
    "## Repaso\n",
    "\n",
    "1. Variables y tipos:\n",
    "    - Creación de variables\n",
    "    - String\n",
    "    - Enteros\n",
    "    - Booleanos\n",
    "    - None (Ningún tipo)\n",
    "    - Diccionarios\n",
    "2. Operadores lógicos:\n",
    "    - Suma\n",
    "    - Resta\n",
    "    - División\n",
    "    - División absoluta\n",
    "    - Exponente\n",
    "    - Multiplicación\n",
    "    - And, or, not\n",
    "3. Listas, Tuplas y Set (Conjuntos):\n",
    "    - Acceso a dato por posiciones\n",
    "    - Tamaño de lista \n",
    "    - Listas dentro de listas\n",
    "    - Añadir datos a la listas\n",
    "    - Eliminar datos de listas\n",
    "    - Coger x elementos de listas [[:x]]\n",
    "4. Bucles:\n",
    "    - For\n",
    "    - range\n",
    "    - enumerate\n",
    "    - while\n",
    "    - break\n",
    "    - Acumuladores\n",
    "5. Funciones:\n",
    "    - Función con parámetros\n",
    "    - Funciones dentro de Funciones\n",
    "    - Funciones recursivas\n",
    "    - Return\n",
    "6. Input \n",
    "7. Importar módulos (librería, paquete)\n",
    "8. Ficheros\n",
    "9. Try / Except"
   ]
  },
  {
   "cell_type": "markdown",
   "execution_count": null,
   "metadata": {},
   "outputs": [],
   "source": [
    "### Diccionarios\n",
    "\n",
    "Los diccionarios son pares de valores asociados. Hay un valor primario que se relaciona con el otro. Se denomina \"Key\" a este valor y \"Value\" al valor relacionado. No hay restricción sobre qué tipo de variables pueden ser los valores de la \"Key\" y del \"Value\". Ejemplos:\n"
   ]
  },
  {
   "cell_type": "code",
   "execution_count": 11,
   "metadata": {},
   "outputs": [
    {
     "data": {
      "text/plain": "{'Key': 'Value'}"
     },
     "execution_count": 11,
     "metadata": {},
     "output_type": "execute_result"
    }
   ],
   "source": [
    "diccionario = {}\n",
    "diccionario[\"Key\"] = \"Value\"\n",
    "diccionario"
   ]
  },
  {
   "cell_type": "code",
   "execution_count": 12,
   "metadata": {},
   "outputs": [
    {
     "name": "stdout",
     "output_type": "stream",
     "text": "{'Key': 'Value', 1: 'Uno', 'Uno': 1, 'Hola': 'Adios'}\nTamaño del diccionario: 4\n"
    }
   ],
   "source": [
    "diccionario[1] = \"Uno\"\n",
    "diccionario[\"Uno\"] = 1\n",
    "diccionario[\"Hola\"] = \"Adios\"\n",
    "print(diccionario)\n",
    "print(\"Tamaño del diccionario:\", len(diccionario))"
   ]
  },
  {
   "cell_type": "code",
   "execution_count": 13,
   "metadata": {},
   "outputs": [
    {
     "data": {
      "text/plain": "{'Key': 'Value', 1: 'Uno', 'Uno': 1, 'Hola': 'Adios Actualizado'}"
     },
     "execution_count": 13,
     "metadata": {},
     "output_type": "execute_result"
    }
   ],
   "source": [
    "# Se pueden actualizar valores asociados a las keys:\n",
    "\n",
    "diccionario[\"Hola\"] = \"Adios Actualizado\"\n",
    "diccionario"
   ]
  },
  {
   "cell_type": "code",
   "execution_count": 14,
   "metadata": {},
   "outputs": [
    {
     "data": {
      "text/plain": "{'jif8ud9gsjidhufjidgi': '123456'}"
     },
     "execution_count": 14,
     "metadata": {},
     "output_type": "execute_result"
    }
   ],
   "source": [
    "password = \"123456\"\n",
    "password_encripted = \"jif8ud9gsjidhufjidgi\"\n",
    "\n",
    "dict1 = {}\n",
    "dict1[password_encripted] = password\n",
    "\n",
    "dict1\n",
    "\n"
   ]
  },
  {
   "cell_type": "code",
   "execution_count": 38,
   "metadata": {},
   "outputs": [
    {
     "data": {
      "text/plain": "{'Key': 'Value',\n 1: ['x', 'y'],\n 'Hola': 'Adios Actualizado',\n 'Key de lista': ['x', 'y'],\n None: 'value'}"
     },
     "execution_count": 38,
     "metadata": {},
     "output_type": "execute_result"
    }
   ],
   "source": [
    "# Los valores pueden ser cualquier tipo de variable pero las keys NO pueden ser listas. \n",
    "\n",
    "lista_key = 1\n",
    "lista_value = [\"x\", \"y\"]\n",
    "\n",
    "diccionario[lista_key] = lista_value\n",
    "diccionario"
   ]
  },
  {
   "cell_type": "code",
   "execution_count": 16,
   "metadata": {},
   "outputs": [
    {
     "data": {
      "text/plain": "{'Key': 'Value',\n 1: 'Uno',\n 'Uno': 1,\n 'Hola': 'Adios Actualizado',\n 'Key de lista': ['x', 'y']}"
     },
     "execution_count": 16,
     "metadata": {},
     "output_type": "execute_result"
    }
   ],
   "source": [
    "nueva_key = \"Key de lista\"\n",
    "lista_value = [\"x\", \"y\"]\n",
    "\n",
    "diccionario[nueva_key] = lista_value\n",
    "diccionario"
   ]
  },
  {
   "cell_type": "code",
   "execution_count": 20,
   "metadata": {},
   "outputs": [
    {
     "data": {
      "text/plain": "{'Key': 'Value',\n 1: 'value',\n 'Uno': 1,\n 'Hola': 'Adios Actualizado',\n 'Key de lista': ['x', 'y'],\n 2.2: 'value',\n None: 'value'}"
     },
     "execution_count": 20,
     "metadata": {},
     "output_type": "execute_result"
    }
   ],
   "source": [
    "diccionario[None] = \"value\"\n",
    "diccionario"
   ]
  },
  {
   "cell_type": "code",
   "execution_count": 21,
   "metadata": {},
   "outputs": [
    {
     "name": "stdout",
     "output_type": "stream",
     "text": "Key\n1\nUno\nHola\nKey de lista\n2.2\nNone\n"
    }
   ],
   "source": [
    "# Para recorrer las keys:\n",
    "\n",
    "for key in diccionario.keys():\n",
    "    print(key)"
   ]
  },
  {
   "cell_type": "code",
   "execution_count": 22,
   "metadata": {},
   "outputs": [
    {
     "name": "stdout",
     "output_type": "stream",
     "text": "Value\nvalue\n1\nAdios Actualizado\n['x', 'y']\nvalue\nvalue\n"
    }
   ],
   "source": [
    "# Para recorrer los valores:\n",
    "\n",
    "for value in diccionario.values():\n",
    "    print(value)\n",
    "    "
   ]
  },
  {
   "cell_type": "code",
   "execution_count": 23,
   "metadata": {},
   "outputs": [
    {
     "name": "stdout",
     "output_type": "stream",
     "text": "-----\nKey: Key\nValue: Value\n-----\nKey: 1\nValue: value\n-----\nKey: Uno\nValue: 1\n-----\nKey: Hola\nValue: Adios Actualizado\n-----\nKey: Key de lista\nValue: ['x', 'y']\n-----\nKey: 2.2\nValue: value\n-----\nKey: None\nValue: value\n"
    }
   ],
   "source": [
    "# Para recorrer teniendo la key y el valor a la vez:\n",
    "\n",
    "for key, value in diccionario.items():\n",
    "    print(\"-----\")\n",
    "    print(\"Key:\", key)\n",
    "    print(\"Value:\", value)\n",
    "    "
   ]
  },
  {
   "cell_type": "code",
   "execution_count": 25,
   "metadata": {},
   "outputs": [
    {
     "data": {
      "text/plain": "{'Key': 'Value',\n 1: 'value',\n 'Hola': 'Adios Actualizado',\n 'Key de lista': ['x', 'y'],\n None: 'value'}"
     },
     "execution_count": 25,
     "metadata": {},
     "output_type": "execute_result"
    }
   ],
   "source": [
    "# Para borrar elemento de key\n",
    "del diccionario[2.2]\n",
    "diccionario"
   ]
  },
  {
   "cell_type": "code",
   "execution_count": 26,
   "metadata": {},
   "outputs": [
    {
     "data": {
      "text/plain": "{'Key': 'val', 'k': 'v', 1: 1, 'Lista': [2, 2, 3]}"
     },
     "execution_count": 26,
     "metadata": {},
     "output_type": "execute_result"
    }
   ],
   "source": [
    "# Crear un diccionario añadiendo keys y values manualmente: \n",
    "\n",
    "dict2 = {\"Key\": \"val\", \"k\":\"v\", 1:1, \"Lista\":[2,2,3]}\n",
    "dict2"
   ]
  },
  {
   "cell_type": "code",
   "execution_count": null,
   "metadata": {},
   "outputs": [],
   "source": [
    "lista = [3,7,29]\n",
    "for x in enumerate(lista):\n"
   ]
  },
  {
   "cell_type": "code",
   "execution_count": 28,
   "metadata": {},
   "outputs": [
    {
     "name": "stdout",
     "output_type": "stream",
     "text": "0\nKey\n1\nk\n2\n1\n3\nLista\n"
    }
   ],
   "source": [
    "for i, (k, v) in enumerate(dict2.items()):\n",
    "    print(i)\n",
    "    print(k)"
   ]
  },
  {
   "cell_type": "code",
   "execution_count": 29,
   "metadata": {},
   "outputs": [
    {
     "name": "stdout",
     "output_type": "stream",
     "text": "True\n0\nv en values\n"
    }
   ],
   "source": [
    "# Comprobar valores en diccionario\n",
    "\n",
    "if \"k\" in dict2:\n",
    "    print(True)\n",
    "\n",
    "if \"v\" in dict2:\n",
    "    print(1)\n",
    "else: \n",
    "    print(0)\n",
    "\n",
    "if \"v\" in dict2.values():\n",
    "    print(\"v en values\")\n",
    "else:\n",
    "    print(False)"
   ]
  },
  {
   "cell_type": "code",
   "execution_count": 30,
   "metadata": {},
   "outputs": [
    {
     "data": {
      "text/plain": "{'Key': 'val', 'k': 'v', 1: 1, 'Lista': [2, 2, 3]}"
     },
     "execution_count": 30,
     "metadata": {},
     "output_type": "execute_result"
    }
   ],
   "source": [
    "dict2"
   ]
  },
  {
   "cell_type": "code",
   "execution_count": 31,
   "metadata": {},
   "outputs": [
    {
     "name": "stdout",
     "output_type": "stream",
     "text": "[2, 2, 3]\n"
    }
   ],
   "source": [
    "# Coger el valor a partir de la key. Hay veces que no solo sabemos las keys. Ejemplo: id clientes - contraseña.\n",
    "\n",
    "value_from_key = dict2.get(\"Lista\")\n",
    "print(value_from_key)"
   ]
  },
  {
   "cell_type": "code",
   "execution_count": 39,
   "metadata": {},
   "outputs": [
    {
     "data": {
      "text/plain": "[2, 2, 3]"
     },
     "execution_count": 39,
     "metadata": {},
     "output_type": "execute_result"
    }
   ],
   "source": [
    "v = dict2[\"Lista\"]\n",
    "v"
   ]
  },
  {
   "cell_type": "code",
   "execution_count": 33,
   "metadata": {},
   "outputs": [
    {
     "data": {
      "text/plain": "{'Raul': {'Altura': 2.2, 'Peso': 78, 'Edad': 25}}"
     },
     "execution_count": 33,
     "metadata": {},
     "output_type": "execute_result"
    }
   ],
   "source": [
    "nombre_alumno = \"Raul\"\n",
    "\n",
    "altura = 2.2\n",
    "peso = 78\n",
    "edad = 25\n",
    "\n",
    "diccionario_nombre = {}\n",
    "diccionario_nombre[nombre_alumno] = {\"Altura\": altura, \"Peso\": peso, \"Edad\": edad}\n",
    "\n",
    "diccionario_nombre"
   ]
  },
  {
   "cell_type": "code",
   "execution_count": 34,
   "metadata": {},
   "outputs": [
    {
     "data": {
      "text/plain": "{'Altura': 2.2, 'Peso': 78, 'Edad': 25}"
     },
     "execution_count": 34,
     "metadata": {},
     "output_type": "execute_result"
    }
   ],
   "source": [
    "diccionario_nombre.get(\"Raul\")"
   ]
  },
  {
   "cell_type": "code",
   "execution_count": 35,
   "metadata": {},
   "outputs": [
    {
     "data": {
      "text/plain": "{0: 2.2, 1: 78, 2: 25}"
     },
     "execution_count": 35,
     "metadata": {},
     "output_type": "execute_result"
    }
   ],
   "source": [
    "lista = [2.2, 78, 25]\n",
    "\n",
    "dict3 = {}\n",
    "acum = 0\n",
    "for elemento in lista:\n",
    "    dict3[acum] = elemento\n",
    "    acum += 1\n",
    "\n",
    "dict3"
   ]
  },
  {
   "cell_type": "code",
   "execution_count": 36,
   "metadata": {},
   "outputs": [
    {
     "data": {
      "text/plain": "{'Raul': 2.9, 'Manuel': 1.2, 'Paco': 2.1}"
     },
     "execution_count": 36,
     "metadata": {},
     "output_type": "execute_result"
    }
   ],
   "source": [
    "nombres = [\"Raul\", \"Manuel\", \"Paco\"]\n",
    "alturas = [2.9, 1.2, 2.1]\n",
    "\n",
    "pesos = [30, 60, 60]\n",
    "\n",
    "diccionario_na = {}\n",
    "for indice, elemento in enumerate(nombres):\n",
    "    diccionario_na[elemento] = alturas[indice]\n",
    "\n",
    "diccionario_na"
   ]
  },
  {
   "cell_type": "code",
   "execution_count": 37,
   "metadata": {},
   "outputs": [
    {
     "data": {
      "text/plain": "{'Raul': 2.9, 'Manuel': 1.2, 'Paco': 2.1}"
     },
     "execution_count": 37,
     "metadata": {},
     "output_type": "execute_result"
    }
   ],
   "source": [
    "diccionario_na2 = dict(zip(nombres, alturas))\n",
    "diccionario_na2"
   ]
  },
  {
   "cell_type": "code",
   "execution_count": null,
   "metadata": {},
   "outputs": [],
   "source": [
    "diccionario_na2 = dict(zip(nombres, [alturas, pesos]))\n",
    "diccionario_na2"
   ]
  },
  {
   "cell_type": "markdown",
   "execution_count": null,
   "metadata": {},
   "outputs": [],
   "source": [
    "### 9. Ejercicios: \n",
    "\n",
    "Crea dos listas: una que tenga 4 nombres de ciudades y otra que tenga 4 lugares emblemáticos de la ciudad. \n",
    "\n",
    "A partir de métodos con diccionarios:\n",
    "\n",
    "- Crea un diccionario con un entero 5 como key y \"val\" como su value. \n",
    "\n",
    "- Crea una función que a reciba dos listas 'lista1' y 'lista2' por parámetro y retorne un diccionario teniendo como keys cada elemento de 'lista1' y como values los elementos de 'lista2'. Llama a la función con las listas que has creado antes para que devuelva un diccionario con cada ciudad como key asociado a un lugar emblemático como value. \n",
    "\n",
    "- Crea una función que, a partir de dos listas, retorne un diccionario en el que cada key sea el nombre de un alumno y su value debe ser la altura.\n",
    "\n",
    "\n",
    "\n"
   ]
  },
  {
   "cell_type": "markdown",
   "execution_count": null,
   "metadata": {},
   "outputs": [],
   "source": [
    "### Funciones de colección"
   ]
  },
  {
   "cell_type": "code",
   "execution_count": 40,
   "metadata": {},
   "outputs": [
    {
     "name": "stdout",
     "output_type": "stream",
     "text": "mitad_lista1: [8, 'platano']\nmitad_lista2: ['madrid', 19]\n"
    }
   ],
   "source": [
    "lista = [8, \"platano\", \"madrid\", 19]\n",
    "tamano_lista = len(lista)\n",
    "\n",
    "\n",
    "\n",
    "mitad_lista1 = lista[:tamano_lista//2]\n",
    "mitad_lista2 = lista[tamano_lista//2:]\n",
    "\n",
    "print(\"mitad_lista1:\", mitad_lista1)\n",
    "print(\"mitad_lista2:\", mitad_lista2)"
   ]
  },
  {
   "cell_type": "code",
   "execution_count": 56,
   "metadata": {},
   "outputs": [
    {
     "data": {
      "text/plain": "2"
     },
     "execution_count": 56,
     "metadata": {},
     "output_type": "execute_result"
    }
   ],
   "source": [
    "11 // 4"
   ]
  },
  {
   "cell_type": "code",
   "execution_count": null,
   "metadata": {},
   "outputs": [],
   "source": []
  },
  {
   "cell_type": "code",
   "execution_count": 41,
   "metadata": {},
   "outputs": [
    {
     "data": {
      "text/plain": "[8, 'platano', 'madrid', 19]"
     },
     "execution_count": 41,
     "metadata": {},
     "output_type": "execute_result"
    }
   ],
   "source": [
    "lista"
   ]
  },
  {
   "cell_type": "code",
   "execution_count": 87,
   "metadata": {},
   "outputs": [
    {
     "data": {
      "text/plain": "[8, 'platano']"
     },
     "execution_count": 87,
     "metadata": {},
     "output_type": "execute_result"
    }
   ],
   "source": [
    "lista_parte1 = lista[0:2]\n",
    "\n",
    "# Abajo notación matemática\n",
    "#[0, 2)\n",
    "lista_parte1"
   ]
  },
  {
   "cell_type": "code",
   "execution_count": 45,
   "metadata": {},
   "outputs": [
    {
     "data": {
      "text/plain": "['platano']"
     },
     "execution_count": 45,
     "metadata": {},
     "output_type": "execute_result"
    }
   ],
   "source": [
    "lista_parte1 = lista[1:2]\n",
    "lista_parte1"
   ]
  },
  {
   "cell_type": "code",
   "execution_count": 46,
   "metadata": {},
   "outputs": [
    {
     "data": {
      "text/plain": "[8, 'platano', 'madrid', 19]"
     },
     "execution_count": 46,
     "metadata": {},
     "output_type": "execute_result"
    }
   ],
   "source": [
    "lista"
   ]
  },
  {
   "cell_type": "code",
   "execution_count": 64,
   "metadata": {},
   "outputs": [
    {
     "data": {
      "text/plain": "[8, 'platano', 'madrid']"
     },
     "execution_count": 64,
     "metadata": {},
     "output_type": "execute_result"
    }
   ],
   "source": [
    "start = 2\n",
    "stop = -1\n",
    "\n",
    "lista_parte1 = lista[-4:]\n",
    "lista_parte1"
   ]
  },
  {
   "cell_type": "code",
   "execution_count": 48,
   "metadata": {},
   "outputs": [
    {
     "data": {
      "text/plain": "['madrid', 19]"
     },
     "execution_count": 48,
     "metadata": {},
     "output_type": "execute_result"
    }
   ],
   "source": [
    "lista_parte1 = lista[start:]\n",
    "lista_parte1"
   ]
  },
  {
   "cell_type": "code",
   "execution_count": 59,
   "metadata": {},
   "outputs": [
    {
     "data": {
      "text/plain": "['platano', 'madrid']"
     },
     "execution_count": 59,
     "metadata": {},
     "output_type": "execute_result"
    }
   ],
   "source": [
    "lista[1:3]"
   ]
  },
  {
   "cell_type": "code",
   "execution_count": 58,
   "metadata": {},
   "outputs": [
    {
     "data": {
      "text/plain": "[8, 'platano', 'madrid', 19]"
     },
     "execution_count": 58,
     "metadata": {},
     "output_type": "execute_result"
    }
   ],
   "source": [
    "lista"
   ]
  },
  {
   "cell_type": "code",
   "execution_count": null,
   "metadata": {},
   "outputs": [],
   "source": []
  },
  {
   "cell_type": "markdown",
   "execution_count": null,
   "metadata": {},
   "outputs": [],
   "source": [
    "### Try except\n"
   ]
  },
  {
   "cell_type": "code",
   "execution_count": 65,
   "metadata": {},
   "outputs": [
    {
     "name": "stdout",
     "output_type": "stream",
     "text": "invalid literal for int() with base 10: 'hola'\n"
    }
   ],
   "source": [
    "hola_str = \"hola\"\n",
    "try:\n",
    "    hola_int = int(hola_str)\n",
    "except Exception as error:\n",
    "    print(error)\n",
    "\n",
    "\n"
   ]
  },
  {
   "cell_type": "code",
   "execution_count": 66,
   "metadata": {},
   "outputs": [
    {
     "name": "stdout",
     "output_type": "stream",
     "text": "Has tenido un error\n"
    }
   ],
   "source": [
    "hola_str = \"hola\"\n",
    "try:\n",
    "    hola_int = int(hola_str)\n",
    "except Exception as error:\n",
    "    print(\"Has tenido un error\")"
   ]
  },
  {
   "cell_type": "code",
   "execution_count": 84,
   "metadata": {},
   "outputs": [
    {
     "name": "stdout",
     "output_type": "stream",
     "text": "Ha habido un error\ncan only concatenate str (not \"int\") to str\n"
    },
    {
     "data": {
      "text/plain": "3"
     },
     "execution_count": 84,
     "metadata": {},
     "output_type": "execute_result"
    }
   ],
   "source": [
    "def funcion_suma(param1, param2):\n",
    "    try:\n",
    "        suma = param1 + param2\n",
    "        print(suma)\n",
    "    except Exception as error:\n",
    "        print(\"Ha habido un error en funcion_suma\")\n",
    "        print(error)\n",
    "        #funcion_suma(str(param1), int(param2))\n",
    "\n",
    "funcion_suma(\"ghola\", 4)\n",
    "\n",
    "x = 3\n",
    "x"
   ]
  },
  {
   "cell_type": "code",
   "execution_count": 85,
   "metadata": {},
   "outputs": [
    {
     "ename": "NameError",
     "evalue": "name 'funcion_x' is not defined",
     "output_type": "error",
     "traceback": [
      "\u001b[0;31m---------------------------------------------------------------------------\u001b[0m",
      "\u001b[0;31mNameError\u001b[0m                                 Traceback (most recent call last)",
      "\u001b[0;32m<ipython-input-85-9cbb505e8146>\u001b[0m in \u001b[0;36m<module>\u001b[0;34m\u001b[0m\n\u001b[0;32m----> 1\u001b[0;31m \u001b[0mfuncion_x\u001b[0m\u001b[0;34m(\u001b[0m\u001b[0;34m)\u001b[0m\u001b[0;34m\u001b[0m\u001b[0;34m\u001b[0m\u001b[0m\n\u001b[0m",
      "\u001b[0;31mNameError\u001b[0m: name 'funcion_x' is not defined"
     ]
    }
   ],
   "source": [
    "funcion_x()"
   ]
  },
  {
   "cell_type": "code",
   "execution_count": 77,
   "metadata": {},
   "outputs": [
    {
     "name": "stdout",
     "output_type": "stream",
     "text": "Tiene que ser un número!!!\n"
    }
   ],
   "source": [
    "funcion_suma(\"hola\", 4)"
   ]
  },
  {
   "cell_type": "code",
   "execution_count": null,
   "metadata": {},
   "outputs": [],
   "source": []
  },
  {
   "cell_type": "code",
   "execution_count": 97,
   "metadata": {},
   "outputs": [],
   "source": [
    "lista = [\"banana\", \"manzana\", 2, \"sedal\"]"
   ]
  },
  {
   "cell_type": "code",
   "execution_count": 98,
   "metadata": {},
   "outputs": [
    {
     "name": "stdout",
     "output_type": "stream",
     "text": "['manzana', 2, 'sedal']\n['manzana', 'sedal']\n"
    },
    {
     "data": {
      "text/plain": "['manzana', 'sedal']"
     },
     "execution_count": 98,
     "metadata": {},
     "output_type": "execute_result"
    }
   ],
   "source": [
    "for x in lista:\n",
    "    lista.remove(x)\n",
    "    print(lista)\n",
    "\n",
    "lista"
   ]
  },
  {
   "cell_type": "code",
   "execution_count": 100,
   "metadata": {},
   "outputs": [],
   "source": [
    "lista = [\"banana\", \"manzana\", 2, \"sedal\"]\n",
    "for p, e in enumerate(lista):\n",
    "    print(p)\n",
    "    print(e)\n",
    "    lista.remove(e)\n",
    "lista"
   ]
  },
  {
   "cell_type": "code",
   "execution_count": 101,
   "metadata": {},
   "outputs": [
    {
     "name": "stdout",
     "output_type": "stream",
     "text": "0\n1\n"
    },
    {
     "data": {
      "text/plain": "['manzana', 'sedal']"
     },
     "execution_count": 101,
     "metadata": {},
     "output_type": "execute_result"
    }
   ],
   "source": [
    "for p, e in enumerate(lista):\n",
    "    print(p)\n",
    "    print(e)\n",
    "    lista.remove(e)\n",
    "lista"
   ]
  },
  {
   "cell_type": "code",
   "execution_count": 102,
   "metadata": {},
   "outputs": [
    {
     "name": "stdout",
     "output_type": "stream",
     "text": "0\nbanana\n1\n2\n"
    },
    {
     "data": {
      "text/plain": "['manzana', 'sedal']"
     },
     "execution_count": 102,
     "metadata": {},
     "output_type": "execute_result"
    }
   ],
   "source": [
    "lista = [\"banana\", \"manzana\", 2, \"sedal\"]\n",
    "for p, e in enumerate(lista):\n",
    "    print(p)\n",
    "    print(e)\n",
    "    lista.pop(p)\n",
    "lista"
   ]
  },
  {
   "cell_type": "code",
   "execution_count": 106,
   "metadata": {},
   "outputs": [
    {
     "name": "stdout",
     "output_type": "stream",
     "text": "0\nbanana\nLista[-1]--> sedal\n1\nmanzana\nLista[-1]--> 2\n"
    },
    {
     "data": {
      "text/plain": "['banana', 'manzana']"
     },
     "execution_count": 106,
     "metadata": {},
     "output_type": "execute_result"
    }
   ],
   "source": [
    "lista = [\"banana\", \"manzana\", 2, \"sedal\"]\n",
    "for p, e in enumerate(lista):\n",
    "    print(p)\n",
    "    print(e)\n",
    "    print(\"Lista[-1]-->\", lista[-1])\n",
    "    lista.remove(lista[-1])\n",
    "lista"
   ]
  },
  {
   "cell_type": "code",
   "execution_count": null,
   "metadata": {},
   "outputs": [],
   "source": [
    "lista = [\"banana\", \"manzana\", 2, \"sedal\"]\n",
    "tamano_lista = len(lista)\n",
    "\n",
    "for "
   ]
  },
  {
   "cell_type": "code",
   "execution_count": null,
   "metadata": {},
   "outputs": [],
   "source": []
  },
  {
   "cell_type": "code",
   "execution_count": 110,
   "metadata": {},
   "outputs": [
    {
     "name": "stdout",
     "output_type": "stream",
     "text": "Posicion de elemento: 0\nElemento: banana\nLista---> ['banana', 'manzana', 2, 'sedal']\nLista después de borrar---> ['manzana', 2, 'sedal']\nPosicion de elemento: 1\nElemento: 2\nLista---> ['manzana', 2, 'sedal']\nLista después de borrar---> [2, 'sedal']\n"
    },
    {
     "data": {
      "text/plain": "[2, 'sedal']"
     },
     "execution_count": 110,
     "metadata": {},
     "output_type": "execute_result"
    }
   ],
   "source": [
    "lista = [\"banana\", \"manzana\", 2, \"sedal\"]\n",
    "for p, e in enumerate(lista):\n",
    "    print(\"Posicion de elemento:\", p)\n",
    "    print(\"Elemento:\", e)\n",
    "    print(\"Lista--->\",lista)\n",
    "    lista.pop(0)\n",
    "    print(\"Lista después de borrar--->\",lista)\n",
    "lista"
   ]
  },
  {
   "cell_type": "code",
   "execution_count": 116,
   "metadata": {},
   "outputs": [
    {
     "name": "stdout",
     "output_type": "stream",
     "text": "('Lista después de borrar--->', ['manzana', 2, 'sedal'])\n"
    },
    {
     "data": {
      "text/plain": "['manzana', 2, 'sedal']"
     },
     "execution_count": 116,
     "metadata": {},
     "output_type": "execute_result"
    }
   ],
   "source": [
    "lista = [\"banana\", \"manzana\", 2, \"sedal\"]\n",
    "def f(l):\n",
    "    for p, e in enumerate(l):\n",
    "        l.pop(0)\n",
    "        return (\"Lista después de borrar--->\",lista)\n",
    "x = f(l=lista)\n",
    "print(x)\n",
    "lista"
   ]
  },
  {
   "cell_type": "code",
   "execution_count": 113,
   "metadata": {},
   "outputs": [],
   "source": [
    "def d():\n",
    "    return 2, \"x\", \"m\", 45\n",
    "\n",
    "dos, equis, var3, var4 = d()"
   ]
  },
  {
   "cell_type": "code",
   "execution_count": 114,
   "metadata": {},
   "outputs": [
    {
     "data": {
      "text/plain": "(2, 'x', 'm', 45)"
     },
     "execution_count": 114,
     "metadata": {},
     "output_type": "execute_result"
    }
   ],
   "source": [
    "todo = d()\n",
    "todo\n"
   ]
  },
  {
   "cell_type": "code",
   "execution_count": 115,
   "metadata": {},
   "outputs": [
    {
     "data": {
      "text/plain": "2"
     },
     "execution_count": 115,
     "metadata": {},
     "output_type": "execute_result"
    }
   ],
   "source": [
    "todo[0]"
   ]
  },
  {
   "cell_type": "code",
   "execution_count": 112,
   "metadata": {},
   "outputs": [
    {
     "name": "stdout",
     "output_type": "stream",
     "text": "Lista: ['banana', 'manzana', 2, 'sedal']\nlista actualizada ['manzana', 2, 'sedal']\nlista actualizada [2, 'sedal']\nlista actualizada ['sedal']\nlista actualizada []\n"
    }
   ],
   "source": [
    "lista = [\"banana\", \"manzana\", 2, \"sedal\"]\n",
    "\n",
    "range4 = [0,1,2,3]\n",
    "print(\"Lista:\", lista)\n",
    "for posicion in range(len(lista)):\n",
    "    lista.pop(0)\n",
    "    print(\"lista actualizada\", lista)\n",
    "\n"
   ]
  },
  {
   "cell_type": "code",
   "execution_count": 117,
   "metadata": {},
   "outputs": [
    {
     "data": {
      "text/plain": "[1, 2, 4, 5]"
     },
     "execution_count": 117,
     "metadata": {},
     "output_type": "execute_result"
    }
   ],
   "source": [
    "range_ = [0,1,2,3,4,5]\n",
    "\n",
    "for i in range(len(range_)):\n",
    "    if i == 0 or i == 2:\n",
    "        range_.pop(i)\n",
    "range_"
   ]
  },
  {
   "cell_type": "code",
   "execution_count": 129,
   "metadata": {},
   "outputs": [
    {
     "data": {
      "text/plain": "[2, 4, 6, 10, 12, 14, 18]"
     },
     "execution_count": 129,
     "metadata": {},
     "output_type": "execute_result"
    }
   ],
   "source": [
    "def eliminador_generico(salto, lista):\n",
    "    eliminados = 0\n",
    "    for acum in range(len(lista)):\n",
    "        if acum % salto == 0:\n",
    "            lista.pop(acum - eliminados)\n",
    "            eliminados += 1\n",
    "    return lista\n",
    "\n",
    "lista = [0,2,4,6,8,10,12, 14, 16, 18]\n",
    "eliminador_generico(salto=4, lista=lista)"
   ]
  },
  {
   "cell_type": "code",
   "execution_count": 136,
   "metadata": {},
   "outputs": [
    {
     "data": {
      "text/plain": "[0, 6, 8, 12, 16]"
     },
     "execution_count": 136,
     "metadata": {},
     "output_type": "execute_result"
    }
   ],
   "source": [
    "lista = [0,2,4,6,8,10,12, 14, 16, 18]\n",
    "lista[::2]"
   ]
  },
  {
   "cell_type": "code",
   "execution_count": 138,
   "metadata": {},
   "outputs": [
    {
     "data": {
      "text/plain": "[6, 6, 8, 10, 14, 16]"
     },
     "execution_count": 138,
     "metadata": {},
     "output_type": "execute_result"
    }
   ],
   "source": [
    "lista = [0,6,6,6,8,10,12, 14, 16, 18]\n",
    "\n",
    "for x in lista[::3]:\n",
    "    lista.remove(x)\n",
    "lista"
   ]
  },
  {
   "cell_type": "code",
   "execution_count": null,
   "metadata": {},
   "outputs": [],
   "source": [
    "def eliminador_generico(salto, lista):\n",
    "    eliminados = 0\n",
    "    posicion_ultima = None\n",
    "    for acum in range(len(lista)):\n",
    "        if acum % numero == 0:\n",
    "\n",
    "        if acum % salto == 0:\n",
    "            lista.pop(acum - eliminados)\n",
    "            posicion_ultima = acum - eliminados\n",
    "            eliminados += 1\n",
    "    return lista\n",
    "\n",
    "lista = [0,2,4,6,8,10,12, 14, 16, 18]\n",
    "eliminador_generico(salto=4, lista=lista)"
   ]
  },
  {
   "cell_type": "code",
   "execution_count": null,
   "metadata": {},
   "outputs": [],
   "source": [
    "acum = 1\n",
    "for i in"
   ]
  },
  {
   "cell_type": "code",
   "execution_count": null,
   "metadata": {},
   "outputs": [],
   "source": []
  },
  {
   "cell_type": "code",
   "execution_count": null,
   "metadata": {},
   "outputs": [],
   "source": []
  }
 ]
}