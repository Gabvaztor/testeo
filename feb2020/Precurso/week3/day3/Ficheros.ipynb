{
 "nbformat": 4,
 "nbformat_minor": 2,
 "metadata": {
  "language_info": {
   "name": "python",
   "codemirror_mode": {
    "name": "ipython",
    "version": 3
   },
   "version": "3.7.4-final"
  },
  "orig_nbformat": 2,
  "file_extension": ".py",
  "mimetype": "text/x-python",
  "name": "python",
  "npconvert_exporter": "python",
  "pygments_lexer": "ipython3",
  "version": 3,
  "kernelspec": {
   "name": "python37464bitbasecondadf9388185d494eceb1ea53207dd5bb3f",
   "display_name": "Python 3.7.4 64-bit ('base': conda)"
  }
 },
 "cells": [
  {
   "cell_type": "code",
   "execution_count": 12,
   "metadata": {},
   "outputs": [],
   "source": [
    "with open('file_to_save.txt', 'a') as open_file:\n",
    "    open_file.write('A string to write\\n')"
   ]
  },
  {
   "cell_type": "code",
   "execution_count": 17,
   "metadata": {},
   "outputs": [],
   "source": [
    "with open('file_to_save.txt', 'a') as open_file:\n",
    "    for i in range(3):\n",
    "        open_file.write('A string to write ' + str(i) + '\\n')"
   ]
  },
  {
   "cell_type": "code",
   "execution_count": 18,
   "metadata": {},
   "outputs": [
    {
     "name": "stdout",
     "output_type": "stream",
     "text": "A string to write\nA string to write\nA string to write 0\nA string to write 1\nA string to write 2\nA string to write 0\nA string to write 1\nA string to write 2\n\n"
    }
   ],
   "source": [
    "with open('file_to_save.txt', 'r') as open_file:\n",
    "    all_text = open_file.read()\n",
    "    print(all_text)"
   ]
  },
  {
   "cell_type": "code",
   "execution_count": 15,
   "metadata": {},
   "outputs": [
    {
     "name": "stdout",
     "output_type": "stream",
     "text": "A string to write\n\nUltima linea: A string to write 0\n\n"
    }
   ],
   "source": [
    "with open('file_to_save.txt', 'r') as open_file:\n",
    "    line = open_file.readline()\n",
    "    count = 1\n",
    "    while line:\n",
    "        if count == 2:\n",
    "            break\n",
    "        print(line)\n",
    "        line = open_file.readline()\n",
    "        count += 1\n",
    "    line = open_file.readline()\n",
    "    print(\"Ultima linea:\", line)"
   ]
  },
  {
   "cell_type": "code",
   "execution_count": 16,
   "metadata": {},
   "outputs": [
    {
     "ename": "TabError",
     "evalue": "inconsistent use of tabs and spaces in indentation (<ipython-input-16-a13111ce2875>, line 4)",
     "output_type": "error",
     "traceback": [
      "\u001b[0;36m  File \u001b[0;32m\"<ipython-input-16-a13111ce2875>\"\u001b[0;36m, line \u001b[0;32m4\u001b[0m\n\u001b[0;31m    while line:\u001b[0m\n\u001b[0m               ^\u001b[0m\n\u001b[0;31mTabError\u001b[0m\u001b[0;31m:\u001b[0m inconsistent use of tabs and spaces in indentation\n"
     ]
    }
   ],
   "source": [
    "with open('file_to_save.txt', 'r') as open_file:\n",
    "        line = open_file.readline()\n",
    "        count = 0\n",
    "  \twhile line:\n",
    "                  print(line)\n",
    "                  break\n",
    "                  line = open_file.readline()"
   ]
  },
  {
   "cell_type": "code",
   "execution_count": null,
   "metadata": {},
   "outputs": [],
   "source": []
  }
 ]
}