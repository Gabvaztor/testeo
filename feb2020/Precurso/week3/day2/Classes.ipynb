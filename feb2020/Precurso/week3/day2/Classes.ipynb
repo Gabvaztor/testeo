{
 "nbformat": 4,
 "nbformat_minor": 2,
 "metadata": {
  "language_info": {
   "name": "python",
   "codemirror_mode": {
    "name": "ipython",
    "version": 3
   },
   "version": "3.7.4-final"
  },
  "orig_nbformat": 2,
  "file_extension": ".py",
  "mimetype": "text/x-python",
  "name": "python",
  "npconvert_exporter": "python",
  "pygments_lexer": "ipython3",
  "version": 3,
  "kernelspec": {
   "name": "python37464bitbasecondadf9388185d494eceb1ea53207dd5bb3f",
   "display_name": "Python 3.7.4 64-bit ('base': conda)"
  }
 },
 "cells": [
  {
   "cell_type": "markdown",
   "metadata": {},
   "source": [
    "## Classes"
   ]
  },
  {
   "cell_type": "code",
   "execution_count": 6,
   "metadata": {},
   "outputs": [
    {
     "name": "stdout",
     "output_type": "stream",
     "text": "Velocidad al andar: 3\nVelocidad al parar: 0\n0\n"
    }
   ],
   "source": [
    "class Perro():\n",
    "    # Atributos\n",
    "    numero_ojos = 2\n",
    "    raza = None\n",
    "    velocidad = 0\n",
    "\n",
    "    def __init__(self, patas=4, ojos=2):\n",
    "        # __init__ es el constructor de nuestra clase.\n",
    "        self.numero_patas = patas\n",
    "        self.numero_ojos = ojos\n",
    "    \n",
    "    def andar(self, aumento_velocidad):\n",
    "        self.velocidad += aumento_velocidad\n",
    "\n",
    "    def parar(self):\n",
    "        self.velocidad = 0\n",
    "\n",
    "    def set_numero_patas(self, patas):\n",
    "        self.numero_patas = patas\n",
    "\n",
    "\n",
    "dogi = Perro(patas=5)\n",
    "dogi.andar(aumento_velocidad=3)\n",
    "\n",
    "nuevo_dogi = Perro(patas=8, ojos=3)\n",
    "nuevo_dogi.set_numero_patas(patas=6)\n",
    "nuevo_dogi.numero_patas = 2\n",
    "\n",
    "lasy = Perro()\n",
    "lasy.andar(aumento_velocidad=3)\n",
    "print(\"Velocidad al andar:\", lasy.velocidad)\n",
    "\n",
    "lasy.parar()\n",
    "print(\"Velocidad al parar:\", lasy.velocidad)\n",
    "\n",
    "laica = Perro()\n",
    "print(laica.velocidad)\n"
   ]
  },
  {
   "cell_type": "code",
   "execution_count": 8,
   "metadata": {},
   "outputs": [
    {
     "name": "stdout",
     "output_type": "stream",
     "text": "1 5 6 8\n1 5 6 8\n"
    }
   ],
   "source": [
    "def f(x,y=2,z=8,w=2):\n",
    "    print(x,y,z,w)\n",
    "\n",
    "f(1,5,6,8)\n",
    "f(w=8,z=6,y=5,x=1)"
   ]
  },
  {
   "cell_type": "code",
   "execution_count": 10,
   "metadata": {},
   "outputs": [
    {
     "name": "stdout",
     "output_type": "stream",
     "text": "Raúl\n0\n"
    }
   ],
   "source": [
    "class Humano():\n",
    "    edad = None\n",
    "    altura = None\n",
    "    peso = None\n",
    "    genero = None\n",
    "    raza = None\n",
    "    numero_ojos = 2\n",
    "    numero_cabezas = 1\n",
    "    dedos = 20\n",
    "    piernas = 2\n",
    "    profesion = \"\"\n",
    "    nombre = \"\"\n",
    "    fecha_nacimiento = None\n",
    "\n",
    "    def __init__(self, nombre, edad=0):\n",
    "        self.nombre = nombre\n",
    "        self.edad = edad\n",
    "\n",
    " \n",
    "raul = Humano(nombre=\"Raúl\")\n",
    "\n",
    "print(raul.nombre)\n",
    "print(raul.edad)"
   ]
  },
  {
   "cell_type": "code",
   "execution_count": 20,
   "metadata": {},
   "outputs": [
    {
     "name": "stdout",
     "output_type": "stream",
     "text": "Nombre: Raúl\nEdad: 42\nNúmero de piernas: 5\nProfesión: Profesor\n"
    }
   ],
   "source": [
    "class Humano():\n",
    "    \"\"\"\n",
    "    Humano es una clase que tiene los siguientes atributos:\n",
    "    - nombre: representa el nombre de la instancia \n",
    "    - edad: la edad de \n",
    "    \"\"\"\n",
    "    def __init__(self, nombre, edad=0, piernas=2):  # Esto es el constructor\n",
    "        self.nombre = nombre\n",
    "        self.edad = edad\n",
    "        self.piernas = piernas\n",
    "\n",
    "    def modificar_numero_piernas(self, nuevo_numero_piernas):\n",
    "        \"\"\" Con esta función se cambia el número de piernas \"\"\"\n",
    "        self.piernas = nuevo_numero_piernas\n",
    "    \n",
    "    def nueva_profesion(self, nueva_profesion):\n",
    "        self.profesion = nueva_profesion\n",
    "\n",
    "    def mostrar_atributos(self):\n",
    "        print(\"Nombre:\", self.nombre)\n",
    "        print(\"Edad:\", self.edad)\n",
    "        print(\"Número de piernas:\", self.piernas)\n",
    "        print(\"Profesión:\", self.profesion)\n",
    "\n",
    "raul = Humano(nombre=\"Raúl\", edad=42)\n",
    "raul.modificar_numero_piernas(nuevo_numero_piernas=5)\n",
    "raul.nueva_profesion(nueva_profesion=\"Profesor\")\n",
    "raul.mostrar_atributos()"
   ]
  },
  {
   "cell_type": "code",
   "execution_count": null,
   "metadata": {},
   "outputs": [],
   "source": [
    "class Alien():\n",
    "    "
   ]
  },
  {
   "cell_type": "code",
   "execution_count": 18,
   "metadata": {},
   "outputs": [
    {
     "name": "stdout",
     "output_type": "stream",
     "text": "Nombre: Carmen de Mairena\nEdad: 86\nNúmero de piernas: 2\nProfesión: Artista\n"
    }
   ],
   "source": [
    "carmen_de_mairena = Humano(nombre=\"Carmen de Mairena\", edad=86)\n",
    "carmen_de_mairena.nueva_profesion(nueva_profesion=\"Artista\")\n",
    "\n",
    "carmen_de_mairena.mostrar_atributos()"
   ]
  },
  {
   "cell_type": "code",
   "execution_count": 22,
   "metadata": {},
   "outputs": [
    {
     "name": "stdout",
     "output_type": "stream",
     "text": "Nombre: Raúl\nEdad: 42\nNúmero de piernas: 5\nProfesión: Profesor\n---------\nNombre: Carmen de Mairena\nEdad: 86\nNúmero de piernas: 2\nProfesión: Artista\n---------\n"
    }
   ],
   "source": [
    "lista_humanos = [raul, carmen_de_mairena]\n",
    "\n",
    "for x in lista_humanos:\n",
    "    x.mostrar_atributos()\n",
    "    print(\"---------\")"
   ]
  },
  {
   "cell_type": "code",
   "execution_count": null,
   "metadata": {},
   "outputs": [],
   "source": [
    "my_variable = 0\n",
    "\n",
    "def my_function():\n",
    "    \"\"\"\n",
    "    Example function\n",
    "    \"\"\"\n",
    "    return my_variable\n",
    "    \n",
    "class MyClass:\n",
    "    \"\"\"\n",
    "    Example class.\n",
    "    \"\"\"\n",
    "\n",
    "    def __init__(self):\n",
    "        \"\"\" Constructor \"\"\"\n",
    "        self.variable = my_variable\n",
    "        \n",
    "    def set_variable(self, new_value):\n",
    "        \"\"\"\n",
    "        Set self.variable to a new value\n",
    "        \"\"\"\n",
    "        self.variable = new_value\n",
    "        \n",
    "    def get_variable(self):\n",
    "        return self.variable"
   ]
  },
  {
   "cell_type": "code",
   "execution_count": 31,
   "metadata": {},
   "outputs": [],
   "source": [
    "class Punto:\n",
    "\n",
    "    def __init__(self, x, y):\n",
    "        self.x = x\n",
    "        self.y = y\n",
    "\n",
    "    def nueva_coordenada(self, x, y):\n",
    "        \n",
    "\n",
    "punto1 = Punto(x=2, y=2)\n",
    "punto2 = Punto(x=1, y=1)\n",
    "punto3 = Punto(x=1.5, y=1.5)\n",
    "\n",
    "\n",
    "lista_puntos_x = [punto1.x, punto2.x, punto3.x]\n",
    "lista_puntos_y = [punto1.y, punto2.y, punto3.y]"
   ]
  },
  {
   "cell_type": "code",
   "execution_count": 32,
   "metadata": {},
   "outputs": [
    {
     "data": {
      "image/png": "[encoded data removed]",
      "image/svg+xml": "<?xml version=\"1.0\" encoding=\"utf-8\" standalone=\"no\"?>\n<!DOCTYPE svg PUBLIC \"-//W3C//DTD SVG 1.1//EN\"\n  \"http://www.w3.org/Graphics/SVG/1.1/DTD/svg11.dtd\">\n<!-- Created with matplotlib (https://matplotlib.org/) -->\n<svg height=\"248.518125pt\" version=\"1.1\" viewBox=\"0 0 372.103125 248.518125\" width=\"372.103125pt\" xmlns=\"http://www.w3.org/2000/svg\" xmlns:xlink=\"http://www.w3.org/1999/xlink\">\n <defs>\n  <style type=\"text/css\">\n*{stroke-linecap:butt;stroke-linejoin:round;}\n  </style>\n </defs>\n <g id=\"figure_1\">\n  <g id=\"patch_1\">\n   <path d=\"M 0 248.518125 \nL 372.103125 248.518125 \nL 372.103125 0 \nL 0 0 \nz\n\" style=\"fill:none;\"/>\n  </g>\n  <g id=\"axes_1\">\n   <g id=\"patch_2\">\n    <path d=\"M 30.103125 224.64 \nL 364.903125 224.64 \nL 364.903125 7.2 \nL 30.103125 7.2 \nz\n\" style=\"fill:#ffffff;\"/>\n   </g>\n   <g id=\"PathCollection_1\">\n    <defs>\n     <path d=\"M 0 3 \nC 0.795609 3 1.55874 2.683901 2.12132 2.12132 \nC 2.683901 1.55874 3 0.795609 3 0 \nC 3 -0.795609 2.683901 -1.55874 2.12132 -2.12132 \nC 1.55874 -2.683901 0.795609 -3 0 -3 \nC -0.795609 -3 -1.55874 -2.683901 -2.12132 -2.12132 \nC -2.683901 -1.55874 -3 -0.795609 -3 0 \nC -3 0.795609 -2.683901 1.55874 -2.12132 2.12132 \nC -1.55874 2.683901 -0.795609 3 0 3 \nz\n\" id=\"C0_0_9d1157c177\"/>\n    </defs>\n    <g clip-path=\"url(#p6b7f481e79)\">\n     <use style=\"fill:#440154;stroke:#440154;\" x=\"347.005686\" xlink:href=\"#C0_0_9d1157c177\" y=\"19.737674\"/>\n    </g>\n    <g clip-path=\"url(#p6b7f481e79)\">\n     <use style=\"fill:#fde725;stroke:#fde725;\" x=\"48.000564\" xlink:href=\"#C0_0_9d1157c177\" y=\"212.102326\"/>\n    </g>\n    <g clip-path=\"url(#p6b7f481e79)\">\n     <use style=\"fill:#404688;stroke:#404688;\" x=\"197.503125\" xlink:href=\"#C0_0_9d1157c177\" y=\"115.92\"/>\n    </g>\n   </g>\n   <g id=\"matplotlib.axis_1\">\n    <g id=\"xtick_1\">\n     <g id=\"line2d_1\">\n      <defs>\n       <path d=\"M 0 0 \nL 0 3.5 \n\" id=\"mf34b276634\" style=\"stroke:#000000;stroke-width:0.8;\"/>\n      </defs>\n      <g>\n       <use style=\"stroke:#000000;stroke-width:0.8;\" x=\"48.000564\" xlink:href=\"#mf34b276634\" y=\"224.64\"/>\n      </g>\n     </g>\n     <g id=\"text_1\">\n      <!-- 1.0 -->\n      <defs>\n       <path d=\"M 12.40625 8.296875 \nL 28.515625 8.296875 \nL 28.515625 63.921875 \nL 10.984375 60.40625 \nL 10.984375 69.390625 \nL 28.421875 72.90625 \nL 38.28125 72.90625 \nL 38.28125 8.296875 \nL 54.390625 8.296875 \nL 54.390625 0 \nL 12.40625 0 \nz\n\" id=\"DejaVuSans-49\"/>\n       <path d=\"M 10.6875 12.40625 \nL 21 12.40625 \nL 21 0 \nL 10.6875 0 \nz\n\" id=\"DejaVuSans-46\"/>\n       <path d=\"M 31.78125 66.40625 \nQ 24.171875 66.40625 20.328125 58.90625 \nQ 16.5 51.421875 16.5 36.375 \nQ 16.5 21.390625 20.328125 13.890625 \nQ 24.171875 6.390625 31.78125 6.390625 \nQ 39.453125 6.390625 43.28125 13.890625 \nQ 47.125 21.390625 47.125 36.375 \nQ 47.125 51.421875 43.28125 58.90625 \nQ 39.453125 66.40625 31.78125 66.40625 \nz\nM 31.78125 74.21875 \nQ 44.046875 74.21875 50.515625 64.515625 \nQ 56.984375 54.828125 56.984375 36.375 \nQ 56.984375 17.96875 50.515625 8.265625 \nQ 44.046875 -1.421875 31.78125 -1.421875 \nQ 19.53125 -1.421875 13.0625 8.265625 \nQ 6.59375 17.96875 6.59375 36.375 \nQ 6.59375 54.828125 13.0625 64.515625 \nQ 19.53125 74.21875 31.78125 74.21875 \nz\n\" id=\"DejaVuSans-48\"/>\n      </defs>\n      <g transform=\"translate(40.049002 239.238438)scale(0.1 -0.1)\">\n       <use xlink:href=\"#DejaVuSans-49\"/>\n       <use x=\"63.623047\" xlink:href=\"#DejaVuSans-46\"/>\n       <use x=\"95.410156\" xlink:href=\"#DejaVuSans-48\"/>\n      </g>\n     </g>\n    </g>\n    <g id=\"xtick_2\">\n     <g id=\"line2d_2\">\n      <g>\n       <use style=\"stroke:#000000;stroke-width:0.8;\" x=\"107.801589\" xlink:href=\"#mf34b276634\" y=\"224.64\"/>\n      </g>\n     </g>\n     <g id=\"text_2\">\n      <!-- 1.2 -->\n      <defs>\n       <path d=\"M 19.1875 8.296875 \nL 53.609375 8.296875 \nL 53.609375 0 \nL 7.328125 0 \nL 7.328125 8.296875 \nQ 12.9375 14.109375 22.625 23.890625 \nQ 32.328125 33.6875 34.8125 36.53125 \nQ 39.546875 41.84375 41.421875 45.53125 \nQ 43.3125 49.21875 43.3125 52.78125 \nQ 43.3125 58.59375 39.234375 62.25 \nQ 35.15625 65.921875 28.609375 65.921875 \nQ 23.96875 65.921875 18.8125 64.3125 \nQ 13.671875 62.703125 7.8125 59.421875 \nL 7.8125 69.390625 \nQ 13.765625 71.78125 18.9375 73 \nQ 24.125 74.21875 28.421875 74.21875 \nQ 39.75 74.21875 46.484375 68.546875 \nQ 53.21875 62.890625 53.21875 53.421875 \nQ 53.21875 48.921875 51.53125 44.890625 \nQ 49.859375 40.875 45.40625 35.40625 \nQ 44.1875 33.984375 37.640625 27.21875 \nQ 31.109375 20.453125 19.1875 8.296875 \nz\n\" id=\"DejaVuSans-50\"/>\n      </defs>\n      <g transform=\"translate(99.850026 239.238438)scale(0.1 -0.1)\">\n       <use xlink:href=\"#DejaVuSans-49\"/>\n       <use x=\"63.623047\" xlink:href=\"#DejaVuSans-46\"/>\n       <use x=\"95.410156\" xlink:href=\"#DejaVuSans-50\"/>\n      </g>\n     </g>\n    </g>\n    <g id=\"xtick_3\">\n     <g id=\"line2d_3\">\n      <g>\n       <use style=\"stroke:#000000;stroke-width:0.8;\" x=\"167.602613\" xlink:href=\"#mf34b276634\" y=\"224.64\"/>\n      </g>\n     </g>\n     <g id=\"text_3\">\n      <!-- 1.4 -->\n      <defs>\n       <path d=\"M 37.796875 64.3125 \nL 12.890625 25.390625 \nL 37.796875 25.390625 \nz\nM 35.203125 72.90625 \nL 47.609375 72.90625 \nL 47.609375 25.390625 \nL 58.015625 25.390625 \nL 58.015625 17.1875 \nL 47.609375 17.1875 \nL 47.609375 0 \nL 37.796875 0 \nL 37.796875 17.1875 \nL 4.890625 17.1875 \nL 4.890625 26.703125 \nz\n\" id=\"DejaVuSans-52\"/>\n      </defs>\n      <g transform=\"translate(159.65105 239.238438)scale(0.1 -0.1)\">\n       <use xlink:href=\"#DejaVuSans-49\"/>\n       <use x=\"63.623047\" xlink:href=\"#DejaVuSans-46\"/>\n       <use x=\"95.410156\" xlink:href=\"#DejaVuSans-52\"/>\n      </g>\n     </g>\n    </g>\n    <g id=\"xtick_4\">\n     <g id=\"line2d_4\">\n      <g>\n       <use style=\"stroke:#000000;stroke-width:0.8;\" x=\"227.403637\" xlink:href=\"#mf34b276634\" y=\"224.64\"/>\n      </g>\n     </g>\n     <g id=\"text_4\">\n      <!-- 1.6 -->\n      <defs>\n       <path d=\"M 33.015625 40.375 \nQ 26.375 40.375 22.484375 35.828125 \nQ 18.609375 31.296875 18.609375 23.390625 \nQ 18.609375 15.53125 22.484375 10.953125 \nQ 26.375 6.390625 33.015625 6.390625 \nQ 39.65625 6.390625 43.53125 10.953125 \nQ 47.40625 15.53125 47.40625 23.390625 \nQ 47.40625 31.296875 43.53125 35.828125 \nQ 39.65625 40.375 33.015625 40.375 \nz\nM 52.59375 71.296875 \nL 52.59375 62.3125 \nQ 48.875 64.0625 45.09375 64.984375 \nQ 41.3125 65.921875 37.59375 65.921875 \nQ 27.828125 65.921875 22.671875 59.328125 \nQ 17.53125 52.734375 16.796875 39.40625 \nQ 19.671875 43.65625 24.015625 45.921875 \nQ 28.375 48.1875 33.59375 48.1875 \nQ 44.578125 48.1875 50.953125 41.515625 \nQ 57.328125 34.859375 57.328125 23.390625 \nQ 57.328125 12.15625 50.6875 5.359375 \nQ 44.046875 -1.421875 33.015625 -1.421875 \nQ 20.359375 -1.421875 13.671875 8.265625 \nQ 6.984375 17.96875 6.984375 36.375 \nQ 6.984375 53.65625 15.1875 63.9375 \nQ 23.390625 74.21875 37.203125 74.21875 \nQ 40.921875 74.21875 44.703125 73.484375 \nQ 48.484375 72.75 52.59375 71.296875 \nz\n\" id=\"DejaVuSans-54\"/>\n      </defs>\n      <g transform=\"translate(219.452075 239.238438)scale(0.1 -0.1)\">\n       <use xlink:href=\"#DejaVuSans-49\"/>\n       <use x=\"63.623047\" xlink:href=\"#DejaVuSans-46\"/>\n       <use x=\"95.410156\" xlink:href=\"#DejaVuSans-54\"/>\n      </g>\n     </g>\n    </g>\n    <g id=\"xtick_5\">\n     <g id=\"line2d_5\">\n      <g>\n       <use style=\"stroke:#000000;stroke-width:0.8;\" x=\"287.204661\" xlink:href=\"#mf34b276634\" y=\"224.64\"/>\n      </g>\n     </g>\n     <g id=\"text_5\">\n      <!-- 1.8 -->\n      <defs>\n       <path d=\"M 31.78125 34.625 \nQ 24.75 34.625 20.71875 30.859375 \nQ 16.703125 27.09375 16.703125 20.515625 \nQ 16.703125 13.921875 20.71875 10.15625 \nQ 24.75 6.390625 31.78125 6.390625 \nQ 38.8125 6.390625 42.859375 10.171875 \nQ 46.921875 13.96875 46.921875 20.515625 \nQ 46.921875 27.09375 42.890625 30.859375 \nQ 38.875 34.625 31.78125 34.625 \nz\nM 21.921875 38.8125 \nQ 15.578125 40.375 12.03125 44.71875 \nQ 8.5 49.078125 8.5 55.328125 \nQ 8.5 64.0625 14.71875 69.140625 \nQ 20.953125 74.21875 31.78125 74.21875 \nQ 42.671875 74.21875 48.875 69.140625 \nQ 55.078125 64.0625 55.078125 55.328125 \nQ 55.078125 49.078125 51.53125 44.71875 \nQ 48 40.375 41.703125 38.8125 \nQ 48.828125 37.15625 52.796875 32.3125 \nQ 56.78125 27.484375 56.78125 20.515625 \nQ 56.78125 9.90625 50.3125 4.234375 \nQ 43.84375 -1.421875 31.78125 -1.421875 \nQ 19.734375 -1.421875 13.25 4.234375 \nQ 6.78125 9.90625 6.78125 20.515625 \nQ 6.78125 27.484375 10.78125 32.3125 \nQ 14.796875 37.15625 21.921875 38.8125 \nz\nM 18.3125 54.390625 \nQ 18.3125 48.734375 21.84375 45.5625 \nQ 25.390625 42.390625 31.78125 42.390625 \nQ 38.140625 42.390625 41.71875 45.5625 \nQ 45.3125 48.734375 45.3125 54.390625 \nQ 45.3125 60.0625 41.71875 63.234375 \nQ 38.140625 66.40625 31.78125 66.40625 \nQ 25.390625 66.40625 21.84375 63.234375 \nQ 18.3125 60.0625 18.3125 54.390625 \nz\n\" id=\"DejaVuSans-56\"/>\n      </defs>\n      <g transform=\"translate(279.253099 239.238438)scale(0.1 -0.1)\">\n       <use xlink:href=\"#DejaVuSans-49\"/>\n       <use x=\"63.623047\" xlink:href=\"#DejaVuSans-46\"/>\n       <use x=\"95.410156\" xlink:href=\"#DejaVuSans-56\"/>\n      </g>\n     </g>\n    </g>\n    <g id=\"xtick_6\">\n     <g id=\"line2d_6\">\n      <g>\n       <use style=\"stroke:#000000;stroke-width:0.8;\" x=\"347.005686\" xlink:href=\"#mf34b276634\" y=\"224.64\"/>\n      </g>\n     </g>\n     <g id=\"text_6\">\n      <!-- 2.0 -->\n      <g transform=\"translate(339.054123 239.238438)scale(0.1 -0.1)\">\n       <use xlink:href=\"#DejaVuSans-50\"/>\n       <use x=\"63.623047\" xlink:href=\"#DejaVuSans-46\"/>\n       <use x=\"95.410156\" xlink:href=\"#DejaVuSans-48\"/>\n      </g>\n     </g>\n    </g>\n   </g>\n   <g id=\"matplotlib.axis_2\">\n    <g id=\"ytick_1\">\n     <g id=\"line2d_7\">\n      <defs>\n       <path d=\"M 0 0 \nL -3.5 0 \n\" id=\"m2b9dab19b6\" style=\"stroke:#000000;stroke-width:0.8;\"/>\n      </defs>\n      <g>\n       <use style=\"stroke:#000000;stroke-width:0.8;\" x=\"30.103125\" xlink:href=\"#m2b9dab19b6\" y=\"212.102326\"/>\n      </g>\n     </g>\n     <g id=\"text_7\">\n      <!-- 1.0 -->\n      <g transform=\"translate(7.2 215.901545)scale(0.1 -0.1)\">\n       <use xlink:href=\"#DejaVuSans-49\"/>\n       <use x=\"63.623047\" xlink:href=\"#DejaVuSans-46\"/>\n       <use x=\"95.410156\" xlink:href=\"#DejaVuSans-48\"/>\n      </g>\n     </g>\n    </g>\n    <g id=\"ytick_2\">\n     <g id=\"line2d_8\">\n      <g>\n       <use style=\"stroke:#000000;stroke-width:0.8;\" x=\"30.103125\" xlink:href=\"#m2b9dab19b6\" y=\"173.629396\"/>\n      </g>\n     </g>\n     <g id=\"text_8\">\n      <!-- 1.2 -->\n      <g transform=\"translate(7.2 177.428614)scale(0.1 -0.1)\">\n       <use xlink:href=\"#DejaVuSans-49\"/>\n       <use x=\"63.623047\" xlink:href=\"#DejaVuSans-46\"/>\n       <use x=\"95.410156\" xlink:href=\"#DejaVuSans-50\"/>\n      </g>\n     </g>\n    </g>\n    <g id=\"ytick_3\">\n     <g id=\"line2d_9\">\n      <g>\n       <use style=\"stroke:#000000;stroke-width:0.8;\" x=\"30.103125\" xlink:href=\"#m2b9dab19b6\" y=\"135.156465\"/>\n      </g>\n     </g>\n     <g id=\"text_9\">\n      <!-- 1.4 -->\n      <g transform=\"translate(7.2 138.955684)scale(0.1 -0.1)\">\n       <use xlink:href=\"#DejaVuSans-49\"/>\n       <use x=\"63.623047\" xlink:href=\"#DejaVuSans-46\"/>\n       <use x=\"95.410156\" xlink:href=\"#DejaVuSans-52\"/>\n      </g>\n     </g>\n    </g>\n    <g id=\"ytick_4\">\n     <g id=\"line2d_10\">\n      <g>\n       <use style=\"stroke:#000000;stroke-width:0.8;\" x=\"30.103125\" xlink:href=\"#m2b9dab19b6\" y=\"96.683535\"/>\n      </g>\n     </g>\n     <g id=\"text_10\">\n      <!-- 1.6 -->\n      <g transform=\"translate(7.2 100.482754)scale(0.1 -0.1)\">\n       <use xlink:href=\"#DejaVuSans-49\"/>\n       <use x=\"63.623047\" xlink:href=\"#DejaVuSans-46\"/>\n       <use x=\"95.410156\" xlink:href=\"#DejaVuSans-54\"/>\n      </g>\n     </g>\n    </g>\n    <g id=\"ytick_5\">\n     <g id=\"line2d_11\">\n      <g>\n       <use style=\"stroke:#000000;stroke-width:0.8;\" x=\"30.103125\" xlink:href=\"#m2b9dab19b6\" y=\"58.210604\"/>\n      </g>\n     </g>\n     <g id=\"text_11\">\n      <!-- 1.8 -->\n      <g transform=\"translate(7.2 62.009823)scale(0.1 -0.1)\">\n       <use xlink:href=\"#DejaVuSans-49\"/>\n       <use x=\"63.623047\" xlink:href=\"#DejaVuSans-46\"/>\n       <use x=\"95.410156\" xlink:href=\"#DejaVuSans-56\"/>\n      </g>\n     </g>\n    </g>\n    <g id=\"ytick_6\">\n     <g id=\"line2d_12\">\n      <g>\n       <use style=\"stroke:#000000;stroke-width:0.8;\" x=\"30.103125\" xlink:href=\"#m2b9dab19b6\" y=\"19.737674\"/>\n      </g>\n     </g>\n     <g id=\"text_12\">\n      <!-- 2.0 -->\n      <g transform=\"translate(7.2 23.536893)scale(0.1 -0.1)\">\n       <use xlink:href=\"#DejaVuSans-50\"/>\n       <use x=\"63.623047\" xlink:href=\"#DejaVuSans-46\"/>\n       <use x=\"95.410156\" xlink:href=\"#DejaVuSans-48\"/>\n      </g>\n     </g>\n    </g>\n   </g>\n   <g id=\"patch_3\">\n    <path d=\"M 30.103125 224.64 \nL 30.103125 7.2 \n\" style=\"fill:none;stroke:#000000;stroke-linecap:square;stroke-linejoin:miter;stroke-width:0.8;\"/>\n   </g>\n   <g id=\"patch_4\">\n    <path d=\"M 364.903125 224.64 \nL 364.903125 7.2 \n\" style=\"fill:none;stroke:#000000;stroke-linecap:square;stroke-linejoin:miter;stroke-width:0.8;\"/>\n   </g>\n   <g id=\"patch_5\">\n    <path d=\"M 30.103125 224.64 \nL 364.903125 224.64 \n\" style=\"fill:none;stroke:#000000;stroke-linecap:square;stroke-linejoin:miter;stroke-width:0.8;\"/>\n   </g>\n   <g id=\"patch_6\">\n    <path d=\"M 30.103125 7.2 \nL 364.903125 7.2 \n\" style=\"fill:none;stroke:#000000;stroke-linecap:square;stroke-linejoin:miter;stroke-width:0.8;\"/>\n   </g>\n  </g>\n </g>\n <defs>\n  <clipPath id=\"p6b7f481e79\">\n   <rect height=\"217.44\" width=\"334.8\" x=\"30.103125\" y=\"7.2\"/>\n  </clipPath>\n </defs>\n</svg>\n",
      "text/plain": "<Figure size 432x288 with 1 Axes>"
     },
     "metadata": {
      "needs_background": "light"
     },
     "output_type": "display_data"
    }
   ],
   "source": [
    "import numpy as np\n",
    "import matplotlib.pyplot as plt\n",
    "\n",
    "# Fixing random state for reproducibility\n",
    "np.random.seed(19680801)\n",
    "\n",
    "points_color = np.random.rand(len(lista_puntos_y))\n",
    "\n",
    "colors = np.random.rand(len(lista_puntos_y))\n",
    "\n",
    "plt.scatter(lista_puntos_x, lista_puntos_y, c=points_color, alpha=1)\n",
    "plt.show()"
   ]
  },
  {
   "cell_type": "code",
   "execution_count": 39,
   "metadata": {},
   "outputs": [
    {
     "data": {
      "image/png": "[encoded data removed]",
      "image/svg+xml": "<?xml version=\"1.0\" encoding=\"utf-8\" standalone=\"no\"?>\n<!DOCTYPE svg PUBLIC \"-//W3C//DTD SVG 1.1//EN\"\n  \"http://www.w3.org/Graphics/SVG/1.1/DTD/svg11.dtd\">\n<!-- Created with matplotlib (https://matplotlib.org/) -->\n<svg height=\"248.518125pt\" version=\"1.1\" viewBox=\"0 0 372.103125 248.518125\" width=\"372.103125pt\" xmlns=\"http://www.w3.org/2000/svg\" xmlns:xlink=\"http://www.w3.org/1999/xlink\">\n <defs>\n  <style type=\"text/css\">\n*{stroke-linecap:butt;stroke-linejoin:round;}\n  </style>\n </defs>\n <g id=\"figure_1\">\n  <g id=\"patch_1\">\n   <path d=\"M 0 248.518125 \nL 372.103125 248.518125 \nL 372.103125 0 \nL 0 0 \nz\n\" style=\"fill:none;\"/>\n  </g>\n  <g id=\"axes_1\">\n   <g id=\"patch_2\">\n    <path d=\"M 30.103125 224.64 \nL 364.903125 224.64 \nL 364.903125 7.2 \nL 30.103125 7.2 \nz\n\" style=\"fill:#ffffff;\"/>\n   </g>\n   <g id=\"PathCollection_1\">\n    <path clip-path=\"url(#p4faa84214b)\" d=\"M 252.283613 65.794087 \nL 253.177893 65.794087 \nL 253.177893 64.899807 \nL 254.072173 64.899807 \nL 254.072173 64.005527 \nL 253.177893 64.005527 \nL 253.177893 63.111247 \nL 252.283613 63.111247 \nL 252.283613 64.005527 \nL 251.389333 64.005527 \nL 251.389333 64.899807 \nL 252.283613 64.899807 \nz\n\" style=\"fill:#b0dd2f;fill-opacity:0.5;stroke:#b0dd2f;stroke-opacity:0.5;\"/>\n    <path clip-path=\"url(#p4faa84214b)\" d=\"M 265.41898 193.460339 \nL 266.171043 193.460339 \nL 266.171043 192.708276 \nL 266.923106 192.708276 \nL 266.923106 191.956212 \nL 266.171043 191.956212 \nL 266.171043 191.204149 \nL 265.41898 191.204149 \nL 265.41898 191.956212 \nL 264.666916 191.956212 \nL 264.666916 192.708276 \nL 265.41898 192.708276 \nz\n\" style=\"fill:#c0df25;fill-opacity:0.5;stroke:#c0df25;stroke-opacity:0.5;\"/>\n    <path clip-path=\"url(#p4faa84214b)\" d=\"M 252.534648 54.255264 \nL 258.421349 54.255264 \nL 258.421349 48.368563 \nL 264.308051 48.368563 \nL 264.308051 42.481862 \nL 258.421349 42.481862 \nL 258.421349 36.59516 \nL 252.534648 36.59516 \nL 252.534648 42.481862 \nL 246.647947 42.481862 \nL 246.647947 48.368563 \nL 252.534648 48.368563 \nz\n\" style=\"fill:#481668;fill-opacity:0.5;stroke:#481668;stroke-opacity:0.5;\"/>\n    <path clip-path=\"url(#p4faa84214b)\" d=\"M 207.008478 43.251898 \nL 216.078083 43.251898 \nL 216.078083 34.182293 \nL 225.147689 34.182293 \nL 225.147689 25.112687 \nL 216.078083 25.112687 \nL 216.078083 16.043082 \nL 207.008478 16.043082 \nL 207.008478 25.112687 \nL 197.938873 25.112687 \nL 197.938873 34.182293 \nL 207.008478 34.182293 \nz\n\" style=\"fill:#2f6b8e;fill-opacity:0.5;stroke:#2f6b8e;stroke-opacity:0.5;\"/>\n    <path clip-path=\"url(#p4faa84214b)\" d=\"M 336.58089 175.818127 \nL 339.902844 175.818127 \nL 339.902844 172.496173 \nL 343.224798 172.496173 \nL 343.224798 169.174219 \nL 339.902844 169.174219 \nL 339.902844 165.852265 \nL 336.58089 165.852265 \nL 336.58089 169.174219 \nL 333.258936 169.174219 \nL 333.258936 172.496173 \nL 336.58089 172.496173 \nz\n\" style=\"fill:#228c8d;fill-opacity:0.5;stroke:#228c8d;stroke-opacity:0.5;\"/>\n    <path clip-path=\"url(#p4faa84214b)\" d=\"M 251.032988 38.427351 \nL 258.107379 38.427351 \nL 258.107379 31.352959 \nL 265.181771 31.352959 \nL 265.181771 24.278568 \nL 258.107379 24.278568 \nL 258.107379 17.204176 \nL 251.032988 17.204176 \nL 251.032988 24.278568 \nL 243.958596 24.278568 \nL 243.958596 31.352959 \nL 251.032988 31.352959 \nz\n\" style=\"fill:#63cb5f;fill-opacity:0.5;stroke:#63cb5f;stroke-opacity:0.5;\"/>\n    <path clip-path=\"url(#p4faa84214b)\" d=\"M 109.926813 127.007825 \nL 116.608079 127.007825 \nL 116.608079 120.326559 \nL 123.289345 120.326559 \nL 123.289345 113.645293 \nL 116.608079 113.645293 \nL 116.608079 106.964027 \nL 109.926813 106.964027 \nL 109.926813 113.645293 \nL 103.245547 113.645293 \nL 103.245547 120.326559 \nL 109.926813 120.326559 \nz\n\" style=\"fill:#471365;fill-opacity:0.5;stroke:#471365;stroke-opacity:0.5;\"/>\n    <path clip-path=\"url(#p4faa84214b)\" d=\"M 83.384714 126.247139 \nL 87.647142 126.247139 \nL 87.647142 121.98471 \nL 91.909571 121.98471 \nL 91.909571 117.722281 \nL 87.647142 117.722281 \nL 87.647142 113.459853 \nL 83.384714 113.459853 \nL 83.384714 117.722281 \nL 79.122285 117.722281 \nL 79.122285 121.98471 \nL 83.384714 121.98471 \nz\n\" style=\"fill:#3e4a89;fill-opacity:0.5;stroke:#3e4a89;stroke-opacity:0.5;\"/>\n    <path clip-path=\"url(#p4faa84214b)\" d=\"M 251.73423 197.79725 \nL 252.08203 197.79725 \nL 252.08203 197.449449 \nL 252.42983 197.449449 \nL 252.42983 197.101649 \nL 252.08203 197.101649 \nL 252.08203 196.753849 \nL 251.73423 196.753849 \nL 251.73423 197.101649 \nL 251.386429 197.101649 \nL 251.386429 197.449449 \nL 251.73423 197.449449 \nz\n\" style=\"fill:#29af7f;fill-opacity:0.5;stroke:#29af7f;stroke-opacity:0.5;\"/>\n    <path clip-path=\"url(#p4faa84214b)\" d=\"M 255.849639 177.763522 \nL 261.688287 177.763522 \nL 261.688287 171.924874 \nL 267.526935 171.924874 \nL 267.526935 166.086226 \nL 261.688287 166.086226 \nL 261.688287 160.247578 \nL 255.849639 160.247578 \nL 255.849639 166.086226 \nL 250.010991 166.086226 \nL 250.010991 171.924874 \nL 255.849639 171.924874 \nz\n\" style=\"fill:#375b8d;fill-opacity:0.5;stroke:#375b8d;stroke-opacity:0.5;\"/>\n    <path clip-path=\"url(#p4faa84214b)\" d=\"M 115.530572 73.714022 \nL 117.063485 73.714022 \nL 117.063485 72.181109 \nL 118.596397 72.181109 \nL 118.596397 70.648196 \nL 117.063485 70.648196 \nL 117.063485 69.115284 \nL 115.530572 69.115284 \nL 115.530572 70.648196 \nL 113.997659 70.648196 \nL 113.997659 72.181109 \nL 115.530572 72.181109 \nz\n\" style=\"fill:#fde725;fill-opacity:0.5;stroke:#fde725;stroke-opacity:0.5;\"/>\n    <path clip-path=\"url(#p4faa84214b)\" d=\"M 140.903399 119.22908 \nL 143.353 119.22908 \nL 143.353 116.779478 \nL 145.802601 116.779478 \nL 145.802601 114.329877 \nL 143.353 114.329877 \nL 143.353 111.880276 \nL 140.903399 111.880276 \nL 140.903399 114.329877 \nL 138.453797 114.329877 \nL 138.453797 116.779478 \nL 140.903399 116.779478 \nz\n\" style=\"fill:#287c8e;fill-opacity:0.5;stroke:#287c8e;stroke-opacity:0.5;\"/>\n    <path clip-path=\"url(#p4faa84214b)\" d=\"M 333.863174 66.05465 \nL 337.057357 66.05465 \nL 337.057357 62.860466 \nL 340.251541 62.860466 \nL 340.251541 59.666283 \nL 337.057357 59.666283 \nL 337.057357 56.472099 \nL 333.863174 56.472099 \nL 333.863174 59.666283 \nL 330.66899 59.666283 \nL 330.66899 62.860466 \nL 333.863174 62.860466 \nz\n\" style=\"fill:#f8e621;fill-opacity:0.5;stroke:#f8e621;stroke-opacity:0.5;\"/>\n    <path clip-path=\"url(#p4faa84214b)\" d=\"M 248.109814 43.540179 \nL 253.739002 43.540179 \nL 253.739002 37.910991 \nL 259.368189 37.910991 \nL 259.368189 32.281803 \nL 253.739002 32.281803 \nL 253.739002 26.652616 \nL 248.109814 26.652616 \nL 248.109814 32.281803 \nL 242.480626 32.281803 \nL 242.480626 37.910991 \nL 248.109814 37.910991 \nz\n\" style=\"fill:#65cb5e;fill-opacity:0.5;stroke:#65cb5e;stroke-opacity:0.5;\"/>\n    <path clip-path=\"url(#p4faa84214b)\" d=\"M 176.878821 71.298635 \nL 184.336571 71.298635 \nL 184.336571 63.840884 \nL 191.794321 63.840884 \nL 191.794321 56.383134 \nL 184.336571 56.383134 \nL 184.336571 48.925384 \nL 176.878821 48.925384 \nL 176.878821 56.383134 \nL 169.421071 56.383134 \nL 169.421071 63.840884 \nL 176.878821 63.840884 \nz\n\" style=\"fill:#471365;fill-opacity:0.5;stroke:#471365;stroke-opacity:0.5;\"/>\n    <path clip-path=\"url(#p4faa84214b)\" d=\"M 250.037088 39.338727 \nL 256.931949 39.338727 \nL 256.931949 32.443866 \nL 263.826809 32.443866 \nL 263.826809 25.549006 \nL 256.931949 25.549006 \nL 256.931949 18.654146 \nL 250.037088 18.654146 \nL 250.037088 25.549006 \nL 243.142228 25.549006 \nL 243.142228 32.443866 \nL 250.037088 32.443866 \nz\n\" style=\"fill:#33638d;fill-opacity:0.5;stroke:#33638d;stroke-opacity:0.5;\"/>\n    <path clip-path=\"url(#p4faa84214b)\" d=\"M 190.906822 102.840867 \nL 198.298303 102.840867 \nL 198.298303 95.449386 \nL 205.689784 95.449386 \nL 205.689784 88.057905 \nL 198.298303 88.057905 \nL 198.298303 80.666423 \nL 190.906822 80.666423 \nL 190.906822 88.057905 \nL 183.51534 88.057905 \nL 183.51534 95.449386 \nL 190.906822 95.449386 \nz\n\" style=\"fill:#ece51b;fill-opacity:0.5;stroke:#ece51b;stroke-opacity:0.5;\"/>\n    <path clip-path=\"url(#p4faa84214b)\" d=\"M 318.62575 106.372351 \nL 327.62344 106.372351 \nL 327.62344 97.374661 \nL 336.62113 97.374661 \nL 336.62113 88.376971 \nL 327.62344 88.376971 \nL 327.62344 79.379281 \nL 318.62575 79.379281 \nL 318.62575 88.376971 \nL 309.62806 88.376971 \nL 309.62806 97.374661 \nL 318.62575 97.374661 \nz\n\" style=\"fill:#481467;fill-opacity:0.5;stroke:#481467;stroke-opacity:0.5;\"/>\n    <path clip-path=\"url(#p4faa84214b)\" d=\"M 262.292013 85.442376 \nL 267.459972 85.442376 \nL 267.459972 80.274417 \nL 272.627931 80.274417 \nL 272.627931 75.106458 \nL 267.459972 75.106458 \nL 267.459972 69.938499 \nL 262.292013 69.938499 \nL 262.292013 75.106458 \nL 257.124054 75.106458 \nL 257.124054 80.274417 \nL 262.292013 80.274417 \nz\n\" style=\"fill:#440154;fill-opacity:0.5;stroke:#440154;stroke-opacity:0.5;\"/>\n    <path clip-path=\"url(#p4faa84214b)\" d=\"M 227.197778 169.312835 \nL 230.222631 169.312835 \nL 230.222631 166.287982 \nL 233.247484 166.287982 \nL 233.247484 163.263129 \nL 230.222631 163.263129 \nL 230.222631 160.238276 \nL 227.197778 160.238276 \nL 227.197778 163.263129 \nL 224.172926 163.263129 \nL 224.172926 166.287982 \nL 227.197778 166.287982 \nz\n\" style=\"fill:#20a486;fill-opacity:0.5;stroke:#20a486;stroke-opacity:0.5;\"/>\n    <path clip-path=\"url(#p4faa84214b)\" d=\"M 236.244157 51.249397 \nL 239.119742 51.249397 \nL 239.119742 48.373811 \nL 241.995327 48.373811 \nL 241.995327 45.498226 \nL 239.119742 45.498226 \nL 239.119742 42.622641 \nL 236.244157 42.622641 \nL 236.244157 45.498226 \nL 233.368571 45.498226 \nL 233.368571 48.373811 \nL 236.244157 48.373811 \nz\n\" style=\"fill:#2fb47c;fill-opacity:0.5;stroke:#2fb47c;stroke-opacity:0.5;\"/>\n    <path clip-path=\"url(#p4faa84214b)\" d=\"M 155.196549 203.257717 \nL 163.126958 203.257717 \nL 163.126958 195.327308 \nL 171.057367 195.327308 \nL 171.057367 187.396899 \nL 163.126958 187.396899 \nL 163.126958 179.46649 \nL 155.196549 179.46649 \nL 155.196549 187.396899 \nL 147.26614 187.396899 \nL 147.26614 195.327308 \nL 155.196549 195.327308 \nz\n\" style=\"fill:#84d44b;fill-opacity:0.5;stroke:#84d44b;stroke-opacity:0.5;\"/>\n    <path clip-path=\"url(#p4faa84214b)\" d=\"M 204.065289 55.78688 \nL 204.530252 55.78688 \nL 204.530252 55.321917 \nL 204.995215 55.321917 \nL 204.995215 54.856955 \nL 204.530252 54.856955 \nL 204.530252 54.391992 \nL 204.065289 54.391992 \nL 204.065289 54.856955 \nL 203.600326 54.856955 \nL 203.600326 55.321917 \nL 204.065289 55.321917 \nz\n\" style=\"fill:#27808e;fill-opacity:0.5;stroke:#27808e;stroke-opacity:0.5;\"/>\n    <path clip-path=\"url(#p4faa84214b)\" d=\"M 281.082875 31.595621 \nL 285.738099 31.595621 \nL 285.738099 26.940397 \nL 290.393323 26.940397 \nL 290.393323 22.285173 \nL 285.738099 22.285173 \nL 285.738099 17.629949 \nL 281.082875 17.629949 \nL 281.082875 22.285173 \nL 276.427651 22.285173 \nL 276.427651 26.940397 \nL 281.082875 26.940397 \nz\n\" style=\"fill:#48c16e;fill-opacity:0.5;stroke:#48c16e;stroke-opacity:0.5;\"/>\n    <path clip-path=\"url(#p4faa84214b)\" d=\"M 254.458222 199.849564 \nL 264.058708 199.849564 \nL 264.058708 190.249079 \nL 273.659193 190.249079 \nL 273.659193 180.648593 \nL 264.058708 180.648593 \nL 264.058708 171.048108 \nL 254.458222 171.048108 \nL 254.458222 180.648593 \nL 244.857737 180.648593 \nL 244.857737 190.249079 \nL 254.458222 190.249079 \nz\n\" style=\"fill:#20a486;fill-opacity:0.5;stroke:#20a486;stroke-opacity:0.5;\"/>\n    <path clip-path=\"url(#p4faa84214b)\" d=\"M 126.453234 37.392161 \nL 129.332464 37.392161 \nL 129.332464 34.512931 \nL 132.211693 34.512931 \nL 132.211693 31.633702 \nL 129.332464 31.633702 \nL 129.332464 28.754473 \nL 126.453234 28.754473 \nL 126.453234 31.633702 \nL 123.574005 31.633702 \nL 123.574005 34.512931 \nL 126.453234 34.512931 \nz\n\" style=\"fill:#48c16e;fill-opacity:0.5;stroke:#48c16e;stroke-opacity:0.5;\"/>\n    <path clip-path=\"url(#p4faa84214b)\" d=\"M 82.13233 69.851656 \nL 90.78751 69.851656 \nL 90.78751 61.196476 \nL 99.44269 61.196476 \nL 99.44269 52.541296 \nL 90.78751 52.541296 \nL 90.78751 43.886116 \nL 82.13233 43.886116 \nL 82.13233 52.541296 \nL 73.477149 52.541296 \nL 73.477149 61.196476 \nL 82.13233 61.196476 \nz\n\" style=\"fill:#3c508b;fill-opacity:0.5;stroke:#3c508b;stroke-opacity:0.5;\"/>\n    <path clip-path=\"url(#p4faa84214b)\" d=\"M 99.211594 64.401913 \nL 101.560515 64.401913 \nL 101.560515 62.052992 \nL 103.909436 62.052992 \nL 103.909436 59.704072 \nL 101.560515 59.704072 \nL 101.560515 57.355151 \nL 99.211594 57.355151 \nL 99.211594 59.704072 \nL 96.862674 59.704072 \nL 96.862674 62.052992 \nL 99.211594 62.052992 \nz\n\" style=\"fill:#228d8d;fill-opacity:0.5;stroke:#228d8d;stroke-opacity:0.5;\"/>\n    <path clip-path=\"url(#p4faa84214b)\" d=\"M 73.664317 108.76819 \nL 82.844563 108.76819 \nL 82.844563 99.587943 \nL 92.02481 99.587943 \nL 92.02481 90.407697 \nL 82.844563 90.407697 \nL 82.844563 81.22745 \nL 73.664317 81.22745 \nL 73.664317 90.407697 \nL 64.48407 90.407697 \nL 64.48407 99.587943 \nL 73.664317 99.587943 \nz\n\" style=\"fill:#414287;fill-opacity:0.5;stroke:#414287;stroke-opacity:0.5;\"/>\n    <path clip-path=\"url(#p4faa84214b)\" d=\"M 184.959185 126.491087 \nL 185.023614 126.491087 \nL 185.023614 126.426658 \nL 185.088042 126.426658 \nL 185.088042 126.36223 \nL 185.023614 126.36223 \nL 185.023614 126.297801 \nL 184.959185 126.297801 \nL 184.959185 126.36223 \nL 184.894757 126.36223 \nL 184.894757 126.426658 \nL 184.959185 126.426658 \nz\n\" style=\"fill:#4ac16d;fill-opacity:0.5;stroke:#4ac16d;stroke-opacity:0.5;\"/>\n    <path clip-path=\"url(#p4faa84214b)\" d=\"M 139.922163 77.508524 \nL 144.935321 77.508524 \nL 144.935321 72.495367 \nL 149.948478 72.495367 \nL 149.948478 67.482209 \nL 144.935321 67.482209 \nL 144.935321 62.469052 \nL 139.922163 62.469052 \nL 139.922163 67.482209 \nL 134.909006 67.482209 \nL 134.909006 72.495367 \nL 139.922163 72.495367 \nz\n\" style=\"fill:#29af7f;fill-opacity:0.5;stroke:#29af7f;stroke-opacity:0.5;\"/>\n    <path clip-path=\"url(#p4faa84214b)\" d=\"M 143.906551 145.995277 \nL 153.55636 145.995277 \nL 153.55636 136.345468 \nL 163.206169 136.345468 \nL 163.206169 126.695659 \nL 153.55636 126.695659 \nL 153.55636 117.04585 \nL 143.906551 117.04585 \nL 143.906551 126.695659 \nL 134.256743 126.695659 \nL 134.256743 136.345468 \nL 143.906551 136.345468 \nz\n\" style=\"fill:#ece51b;fill-opacity:0.5;stroke:#ece51b;stroke-opacity:0.5;\"/>\n    <path clip-path=\"url(#p4faa84214b)\" d=\"M 332.055178 183.694467 \nL 341.427727 183.694467 \nL 341.427727 174.321918 \nL 350.800276 174.321918 \nL 350.800276 164.94937 \nL 341.427727 164.94937 \nL 341.427727 155.576821 \nL 332.055178 155.576821 \nL 332.055178 164.94937 \nL 322.68263 164.94937 \nL 322.68263 174.321918 \nL 332.055178 174.321918 \nz\n\" style=\"fill:#32b67a;fill-opacity:0.5;stroke:#32b67a;stroke-opacity:0.5;\"/>\n    <path clip-path=\"url(#p4faa84214b)\" d=\"M 68.888611 130.444276 \nL 73.205909 130.444276 \nL 73.205909 126.126978 \nL 77.523208 126.126978 \nL 77.523208 121.809679 \nL 73.205909 121.809679 \nL 73.205909 117.49238 \nL 68.888611 117.49238 \nL 68.888611 121.809679 \nL 64.571312 121.809679 \nL 64.571312 126.126978 \nL 68.888611 126.126978 \nz\n\" style=\"fill:#a0da39;fill-opacity:0.5;stroke:#a0da39;stroke-opacity:0.5;\"/>\n    <path clip-path=\"url(#p4faa84214b)\" d=\"M 153.414182 54.24899 \nL 159.642427 54.24899 \nL 159.642427 48.020745 \nL 165.870672 48.020745 \nL 165.870672 41.7925 \nL 159.642427 41.7925 \nL 159.642427 35.564255 \nL 153.414182 35.564255 \nL 153.414182 41.7925 \nL 147.185937 41.7925 \nL 147.185937 48.020745 \nL 153.414182 48.020745 \nz\n\" style=\"fill:#228b8d;fill-opacity:0.5;stroke:#228b8d;stroke-opacity:0.5;\"/>\n    <path clip-path=\"url(#p4faa84214b)\" d=\"M 274.717361 37.605437 \nL 281.726029 37.605437 \nL 281.726029 30.59677 \nL 288.734697 30.59677 \nL 288.734697 23.588102 \nL 281.726029 23.588102 \nL 281.726029 16.579434 \nL 274.717361 16.579434 \nL 274.717361 23.588102 \nL 267.708694 23.588102 \nL 267.708694 30.59677 \nL 274.717361 30.59677 \nz\n\" style=\"fill:#dde318;fill-opacity:0.5;stroke:#dde318;stroke-opacity:0.5;\"/>\n    <path clip-path=\"url(#p4faa84214b)\" d=\"M 335.908944 25.679395 \nL 337.561398 25.679395 \nL 337.561398 24.026941 \nL 339.213852 24.026941 \nL 339.213852 22.374487 \nL 337.561398 22.374487 \nL 337.561398 20.722034 \nL 335.908944 20.722034 \nL 335.908944 22.374487 \nL 334.25649 22.374487 \nL 334.25649 24.026941 \nL 335.908944 24.026941 \nz\n\" style=\"fill:#218f8d;fill-opacity:0.5;stroke:#218f8d;stroke-opacity:0.5;\"/>\n    <path clip-path=\"url(#p4faa84214b)\" d=\"M 181.150385 150.376737 \nL 190.438086 150.376737 \nL 190.438086 141.089035 \nL 199.725788 141.089035 \nL 199.725788 131.801334 \nL 190.438086 131.801334 \nL 190.438086 122.513632 \nL 181.150385 122.513632 \nL 181.150385 131.801334 \nL 171.862683 131.801334 \nL 171.862683 141.089035 \nL 181.150385 141.089035 \nz\n\" style=\"fill:#ece51b;fill-opacity:0.5;stroke:#ece51b;stroke-opacity:0.5;\"/>\n    <path clip-path=\"url(#p4faa84214b)\" d=\"M 138.006472 80.568735 \nL 143.090057 80.568735 \nL 143.090057 75.48515 \nL 148.173642 75.48515 \nL 148.173642 70.401565 \nL 143.090057 70.401565 \nL 143.090057 65.31798 \nL 138.006472 65.31798 \nL 138.006472 70.401565 \nL 132.922887 70.401565 \nL 132.922887 75.48515 \nL 138.006472 75.48515 \nz\n\" style=\"fill:#277f8e;fill-opacity:0.5;stroke:#277f8e;stroke-opacity:0.5;\"/>\n    <path clip-path=\"url(#p4faa84214b)\" d=\"M 207.965933 200.528098 \nL 215.535835 200.528098 \nL 215.535835 192.958196 \nL 223.105737 192.958196 \nL 223.105737 185.388294 \nL 215.535835 185.388294 \nL 215.535835 177.818391 \nL 207.965933 177.818391 \nL 207.965933 185.388294 \nL 200.396031 185.388294 \nL 200.396031 192.958196 \nL 207.965933 192.958196 \nz\n\" style=\"fill:#414287;fill-opacity:0.5;stroke:#414287;stroke-opacity:0.5;\"/>\n    <path clip-path=\"url(#p4faa84214b)\" d=\"M 49.344329 150.985384 \nL 53.910755 150.985384 \nL 53.910755 146.418958 \nL 58.477181 146.418958 \nL 58.477181 141.852531 \nL 53.910755 141.852531 \nL 53.910755 137.286105 \nL 49.344329 137.286105 \nL 49.344329 141.852531 \nL 44.777902 141.852531 \nL 44.777902 146.418958 \nL 49.344329 146.418958 \nz\n\" style=\"fill:#1f998a;fill-opacity:0.5;stroke:#1f998a;stroke-opacity:0.5;\"/>\n    <path clip-path=\"url(#p4faa84214b)\" d=\"M 155.424242 137.934363 \nL 158.047221 137.934363 \nL 158.047221 135.311385 \nL 160.6702 135.311385 \nL 160.6702 132.688406 \nL 158.047221 132.688406 \nL 158.047221 130.065427 \nL 155.424242 130.065427 \nL 155.424242 132.688406 \nL 152.801263 132.688406 \nL 152.801263 135.311385 \nL 155.424242 135.311385 \nz\n\" style=\"fill:#2a778e;fill-opacity:0.5;stroke:#2a778e;stroke-opacity:0.5;\"/>\n    <path clip-path=\"url(#p4faa84214b)\" d=\"M 311.919145 97.817659 \nL 320.497672 97.817659 \nL 320.497672 89.239132 \nL 329.076198 89.239132 \nL 329.076198 80.660605 \nL 320.497672 80.660605 \nL 320.497672 72.082078 \nL 311.919145 72.082078 \nL 311.919145 80.660605 \nL 303.340618 80.660605 \nL 303.340618 89.239132 \nL 311.919145 89.239132 \nz\n\" style=\"fill:#3e4a89;fill-opacity:0.5;stroke:#3e4a89;stroke-opacity:0.5;\"/>\n    <path clip-path=\"url(#p4faa84214b)\" d=\"M 84.238556 215.271193 \nL 88.725872 215.271193 \nL 88.725872 210.783877 \nL 93.213188 210.783877 \nL 93.213188 206.296561 \nL 88.725872 206.296561 \nL 88.725872 201.809245 \nL 84.238556 201.809245 \nL 84.238556 206.296561 \nL 79.75124 206.296561 \nL 79.75124 210.783877 \nL 84.238556 210.783877 \nz\n\" style=\"fill:#306a8e;fill-opacity:0.5;stroke:#306a8e;stroke-opacity:0.5;\"/>\n    <path clip-path=\"url(#p4faa84214b)\" d=\"M 261.759246 120.056264 \nL 270.367313 120.056264 \nL 270.367313 111.448197 \nL 278.975379 111.448197 \nL 278.975379 102.840131 \nL 270.367313 102.840131 \nL 270.367313 94.232064 \nL 261.759246 94.232064 \nL 261.759246 102.840131 \nL 253.15118 102.840131 \nL 253.15118 111.448197 \nL 261.759246 111.448197 \nz\n\" style=\"fill:#31678e;fill-opacity:0.5;stroke:#31678e;stroke-opacity:0.5;\"/>\n    <path clip-path=\"url(#p4faa84214b)\" d=\"M 231.186827 191.044162 \nL 232.728261 191.044162 \nL 232.728261 189.502728 \nL 234.269695 189.502728 \nL 234.269695 187.961294 \nL 232.728261 187.961294 \nL 232.728261 186.419859 \nL 231.186827 186.419859 \nL 231.186827 187.961294 \nL 229.645393 187.961294 \nL 229.645393 189.502728 \nL 231.186827 189.502728 \nz\n\" style=\"fill:#3a548c;fill-opacity:0.5;stroke:#3a548c;stroke-opacity:0.5;\"/>\n    <path clip-path=\"url(#p4faa84214b)\" d=\"M 135.526346 114.319065 \nL 138.023817 114.319065 \nL 138.023817 111.821594 \nL 140.521288 111.821594 \nL 140.521288 109.324123 \nL 138.023817 109.324123 \nL 138.023817 106.826653 \nL 135.526346 106.826653 \nL 135.526346 109.324123 \nL 133.028875 109.324123 \nL 133.028875 111.821594 \nL 135.526346 111.821594 \nz\n\" style=\"fill:#6ece58;fill-opacity:0.5;stroke:#6ece58;stroke-opacity:0.5;\"/>\n    <path clip-path=\"url(#p4faa84214b)\" d=\"M 319.714883 198.944775 \nL 322.610522 198.944775 \nL 322.610522 196.049136 \nL 325.506161 196.049136 \nL 325.506161 193.153497 \nL 322.610522 193.153497 \nL 322.610522 190.257858 \nL 319.714883 190.257858 \nL 319.714883 193.153497 \nL 316.819244 193.153497 \nL 316.819244 196.049136 \nL 319.714883 196.049136 \nz\n\" style=\"fill:#77d153;fill-opacity:0.5;stroke:#77d153;stroke-opacity:0.5;\"/>\n    <path clip-path=\"url(#p4faa84214b)\" d=\"M 108.802186 186.968493 \nL 111.142971 186.968493 \nL 111.142971 184.627708 \nL 113.483756 184.627708 \nL 113.483756 182.286923 \nL 111.142971 182.286923 \nL 111.142971 179.946138 \nL 108.802186 179.946138 \nL 108.802186 182.286923 \nL 106.461401 182.286923 \nL 106.461401 184.627708 \nL 108.802186 184.627708 \nz\n\" style=\"fill:#b5de2b;fill-opacity:0.5;stroke:#b5de2b;stroke-opacity:0.5;\"/>\n    <path clip-path=\"url(#p4faa84214b)\" d=\"M 288.155392 38.432229 \nL 293.489449 38.432229 \nL 293.489449 33.098172 \nL 298.823506 33.098172 \nL 298.823506 27.764114 \nL 293.489449 27.764114 \nL 293.489449 22.430057 \nL 288.155392 22.430057 \nL 288.155392 27.764114 \nL 282.821334 27.764114 \nL 282.821334 33.098172 \nL 288.155392 33.098172 \nz\n\" style=\"fill:#482677;fill-opacity:0.5;stroke:#482677;stroke-opacity:0.5;\"/>\n   </g>\n   <g id=\"matplotlib.axis_1\">\n    <g id=\"xtick_1\">\n     <g id=\"line2d_1\">\n      <defs>\n       <path d=\"M 0 0 \nL 0 3.5 \n\" id=\"m72711bc5c0\" style=\"stroke:#000000;stroke-width:0.8;\"/>\n      </defs>\n      <g>\n       <use style=\"stroke:#000000;stroke-width:0.8;\" x=\"36.850089\" xlink:href=\"#m72711bc5c0\" y=\"224.64\"/>\n      </g>\n     </g>\n     <g id=\"text_1\">\n      <!-- 0.0 -->\n      <defs>\n       <path d=\"M 31.78125 66.40625 \nQ 24.171875 66.40625 20.328125 58.90625 \nQ 16.5 51.421875 16.5 36.375 \nQ 16.5 21.390625 20.328125 13.890625 \nQ 24.171875 6.390625 31.78125 6.390625 \nQ 39.453125 6.390625 43.28125 13.890625 \nQ 47.125 21.390625 47.125 36.375 \nQ 47.125 51.421875 43.28125 58.90625 \nQ 39.453125 66.40625 31.78125 66.40625 \nz\nM 31.78125 74.21875 \nQ 44.046875 74.21875 50.515625 64.515625 \nQ 56.984375 54.828125 56.984375 36.375 \nQ 56.984375 17.96875 50.515625 8.265625 \nQ 44.046875 -1.421875 31.78125 -1.421875 \nQ 19.53125 -1.421875 13.0625 8.265625 \nQ 6.59375 17.96875 6.59375 36.375 \nQ 6.59375 54.828125 13.0625 64.515625 \nQ 19.53125 74.21875 31.78125 74.21875 \nz\n\" id=\"DejaVuSans-48\"/>\n       <path d=\"M 10.6875 12.40625 \nL 21 12.40625 \nL 21 0 \nL 10.6875 0 \nz\n\" id=\"DejaVuSans-46\"/>\n      </defs>\n      <g transform=\"translate(28.898526 239.238437)scale(0.1 -0.1)\">\n       <use xlink:href=\"#DejaVuSans-48\"/>\n       <use x=\"63.623047\" xlink:href=\"#DejaVuSans-46\"/>\n       <use x=\"95.410156\" xlink:href=\"#DejaVuSans-48\"/>\n      </g>\n     </g>\n    </g>\n    <g id=\"xtick_2\">\n     <g id=\"line2d_2\">\n      <g>\n       <use style=\"stroke:#000000;stroke-width:0.8;\" x=\"98.497931\" xlink:href=\"#m72711bc5c0\" y=\"224.64\"/>\n      </g>\n     </g>\n     <g id=\"text_2\">\n      <!-- 0.2 -->\n      <defs>\n       <path d=\"M 19.1875 8.296875 \nL 53.609375 8.296875 \nL 53.609375 0 \nL 7.328125 0 \nL 7.328125 8.296875 \nQ 12.9375 14.109375 22.625 23.890625 \nQ 32.328125 33.6875 34.8125 36.53125 \nQ 39.546875 41.84375 41.421875 45.53125 \nQ 43.3125 49.21875 43.3125 52.78125 \nQ 43.3125 58.59375 39.234375 62.25 \nQ 35.15625 65.921875 28.609375 65.921875 \nQ 23.96875 65.921875 18.8125 64.3125 \nQ 13.671875 62.703125 7.8125 59.421875 \nL 7.8125 69.390625 \nQ 13.765625 71.78125 18.9375 73 \nQ 24.125 74.21875 28.421875 74.21875 \nQ 39.75 74.21875 46.484375 68.546875 \nQ 53.21875 62.890625 53.21875 53.421875 \nQ 53.21875 48.921875 51.53125 44.890625 \nQ 49.859375 40.875 45.40625 35.40625 \nQ 44.1875 33.984375 37.640625 27.21875 \nQ 31.109375 20.453125 19.1875 8.296875 \nz\n\" id=\"DejaVuSans-50\"/>\n      </defs>\n      <g transform=\"translate(90.546368 239.238437)scale(0.1 -0.1)\">\n       <use xlink:href=\"#DejaVuSans-48\"/>\n       <use x=\"63.623047\" xlink:href=\"#DejaVuSans-46\"/>\n       <use x=\"95.410156\" xlink:href=\"#DejaVuSans-50\"/>\n      </g>\n     </g>\n    </g>\n    <g id=\"xtick_3\">\n     <g id=\"line2d_3\">\n      <g>\n       <use style=\"stroke:#000000;stroke-width:0.8;\" x=\"160.145773\" xlink:href=\"#m72711bc5c0\" y=\"224.64\"/>\n      </g>\n     </g>\n     <g id=\"text_3\">\n      <!-- 0.4 -->\n      <defs>\n       <path d=\"M 37.796875 64.3125 \nL 12.890625 25.390625 \nL 37.796875 25.390625 \nz\nM 35.203125 72.90625 \nL 47.609375 72.90625 \nL 47.609375 25.390625 \nL 58.015625 25.390625 \nL 58.015625 17.1875 \nL 47.609375 17.1875 \nL 47.609375 0 \nL 37.796875 0 \nL 37.796875 17.1875 \nL 4.890625 17.1875 \nL 4.890625 26.703125 \nz\n\" id=\"DejaVuSans-52\"/>\n      </defs>\n      <g transform=\"translate(152.19421 239.238437)scale(0.1 -0.1)\">\n       <use xlink:href=\"#DejaVuSans-48\"/>\n       <use x=\"63.623047\" xlink:href=\"#DejaVuSans-46\"/>\n       <use x=\"95.410156\" xlink:href=\"#DejaVuSans-52\"/>\n      </g>\n     </g>\n    </g>\n    <g id=\"xtick_4\">\n     <g id=\"line2d_4\">\n      <g>\n       <use style=\"stroke:#000000;stroke-width:0.8;\" x=\"221.793615\" xlink:href=\"#m72711bc5c0\" y=\"224.64\"/>\n      </g>\n     </g>\n     <g id=\"text_4\">\n      <!-- 0.6 -->\n      <defs>\n       <path d=\"M 33.015625 40.375 \nQ 26.375 40.375 22.484375 35.828125 \nQ 18.609375 31.296875 18.609375 23.390625 \nQ 18.609375 15.53125 22.484375 10.953125 \nQ 26.375 6.390625 33.015625 6.390625 \nQ 39.65625 6.390625 43.53125 10.953125 \nQ 47.40625 15.53125 47.40625 23.390625 \nQ 47.40625 31.296875 43.53125 35.828125 \nQ 39.65625 40.375 33.015625 40.375 \nz\nM 52.59375 71.296875 \nL 52.59375 62.3125 \nQ 48.875 64.0625 45.09375 64.984375 \nQ 41.3125 65.921875 37.59375 65.921875 \nQ 27.828125 65.921875 22.671875 59.328125 \nQ 17.53125 52.734375 16.796875 39.40625 \nQ 19.671875 43.65625 24.015625 45.921875 \nQ 28.375 48.1875 33.59375 48.1875 \nQ 44.578125 48.1875 50.953125 41.515625 \nQ 57.328125 34.859375 57.328125 23.390625 \nQ 57.328125 12.15625 50.6875 5.359375 \nQ 44.046875 -1.421875 33.015625 -1.421875 \nQ 20.359375 -1.421875 13.671875 8.265625 \nQ 6.984375 17.96875 6.984375 36.375 \nQ 6.984375 53.65625 15.1875 63.9375 \nQ 23.390625 74.21875 37.203125 74.21875 \nQ 40.921875 74.21875 44.703125 73.484375 \nQ 48.484375 72.75 52.59375 71.296875 \nz\n\" id=\"DejaVuSans-54\"/>\n      </defs>\n      <g transform=\"translate(213.842052 239.238437)scale(0.1 -0.1)\">\n       <use xlink:href=\"#DejaVuSans-48\"/>\n       <use x=\"63.623047\" xlink:href=\"#DejaVuSans-46\"/>\n       <use x=\"95.410156\" xlink:href=\"#DejaVuSans-54\"/>\n      </g>\n     </g>\n    </g>\n    <g id=\"xtick_5\">\n     <g id=\"line2d_5\">\n      <g>\n       <use style=\"stroke:#000000;stroke-width:0.8;\" x=\"283.441457\" xlink:href=\"#m72711bc5c0\" y=\"224.64\"/>\n      </g>\n     </g>\n     <g id=\"text_5\">\n      <!-- 0.8 -->\n      <defs>\n       <path d=\"M 31.78125 34.625 \nQ 24.75 34.625 20.71875 30.859375 \nQ 16.703125 27.09375 16.703125 20.515625 \nQ 16.703125 13.921875 20.71875 10.15625 \nQ 24.75 6.390625 31.78125 6.390625 \nQ 38.8125 6.390625 42.859375 10.171875 \nQ 46.921875 13.96875 46.921875 20.515625 \nQ 46.921875 27.09375 42.890625 30.859375 \nQ 38.875 34.625 31.78125 34.625 \nz\nM 21.921875 38.8125 \nQ 15.578125 40.375 12.03125 44.71875 \nQ 8.5 49.078125 8.5 55.328125 \nQ 8.5 64.0625 14.71875 69.140625 \nQ 20.953125 74.21875 31.78125 74.21875 \nQ 42.671875 74.21875 48.875 69.140625 \nQ 55.078125 64.0625 55.078125 55.328125 \nQ 55.078125 49.078125 51.53125 44.71875 \nQ 48 40.375 41.703125 38.8125 \nQ 48.828125 37.15625 52.796875 32.3125 \nQ 56.78125 27.484375 56.78125 20.515625 \nQ 56.78125 9.90625 50.3125 4.234375 \nQ 43.84375 -1.421875 31.78125 -1.421875 \nQ 19.734375 -1.421875 13.25 4.234375 \nQ 6.78125 9.90625 6.78125 20.515625 \nQ 6.78125 27.484375 10.78125 32.3125 \nQ 14.796875 37.15625 21.921875 38.8125 \nz\nM 18.3125 54.390625 \nQ 18.3125 48.734375 21.84375 45.5625 \nQ 25.390625 42.390625 31.78125 42.390625 \nQ 38.140625 42.390625 41.71875 45.5625 \nQ 45.3125 48.734375 45.3125 54.390625 \nQ 45.3125 60.0625 41.71875 63.234375 \nQ 38.140625 66.40625 31.78125 66.40625 \nQ 25.390625 66.40625 21.84375 63.234375 \nQ 18.3125 60.0625 18.3125 54.390625 \nz\n\" id=\"DejaVuSans-56\"/>\n      </defs>\n      <g transform=\"translate(275.489894 239.238437)scale(0.1 -0.1)\">\n       <use xlink:href=\"#DejaVuSans-48\"/>\n       <use x=\"63.623047\" xlink:href=\"#DejaVuSans-46\"/>\n       <use x=\"95.410156\" xlink:href=\"#DejaVuSans-56\"/>\n      </g>\n     </g>\n    </g>\n    <g id=\"xtick_6\">\n     <g id=\"line2d_6\">\n      <g>\n       <use style=\"stroke:#000000;stroke-width:0.8;\" x=\"345.089299\" xlink:href=\"#m72711bc5c0\" y=\"224.64\"/>\n      </g>\n     </g>\n     <g id=\"text_6\">\n      <!-- 1.0 -->\n      <defs>\n       <path d=\"M 12.40625 8.296875 \nL 28.515625 8.296875 \nL 28.515625 63.921875 \nL 10.984375 60.40625 \nL 10.984375 69.390625 \nL 28.421875 72.90625 \nL 38.28125 72.90625 \nL 38.28125 8.296875 \nL 54.390625 8.296875 \nL 54.390625 0 \nL 12.40625 0 \nz\n\" id=\"DejaVuSans-49\"/>\n      </defs>\n      <g transform=\"translate(337.137736 239.238437)scale(0.1 -0.1)\">\n       <use xlink:href=\"#DejaVuSans-49\"/>\n       <use x=\"63.623047\" xlink:href=\"#DejaVuSans-46\"/>\n       <use x=\"95.410156\" xlink:href=\"#DejaVuSans-48\"/>\n      </g>\n     </g>\n    </g>\n   </g>\n   <g id=\"matplotlib.axis_2\">\n    <g id=\"ytick_1\">\n     <g id=\"line2d_7\">\n      <defs>\n       <path d=\"M 0 0 \nL -3.5 0 \n\" id=\"md50fc4287b\" style=\"stroke:#000000;stroke-width:0.8;\"/>\n      </defs>\n      <g>\n       <use style=\"stroke:#000000;stroke-width:0.8;\" x=\"30.103125\" xlink:href=\"#md50fc4287b\" y=\"215.181159\"/>\n      </g>\n     </g>\n     <g id=\"text_7\">\n      <!-- 0.0 -->\n      <g transform=\"translate(7.2 218.980378)scale(0.1 -0.1)\">\n       <use xlink:href=\"#DejaVuSans-48\"/>\n       <use x=\"63.623047\" xlink:href=\"#DejaVuSans-46\"/>\n       <use x=\"95.410156\" xlink:href=\"#DejaVuSans-48\"/>\n      </g>\n     </g>\n    </g>\n    <g id=\"ytick_2\">\n     <g id=\"line2d_8\">\n      <g>\n       <use style=\"stroke:#000000;stroke-width:0.8;\" x=\"30.103125\" xlink:href=\"#md50fc4287b\" y=\"175.019406\"/>\n      </g>\n     </g>\n     <g id=\"text_8\">\n      <!-- 0.2 -->\n      <g transform=\"translate(7.2 178.818625)scale(0.1 -0.1)\">\n       <use xlink:href=\"#DejaVuSans-48\"/>\n       <use x=\"63.623047\" xlink:href=\"#DejaVuSans-46\"/>\n       <use x=\"95.410156\" xlink:href=\"#DejaVuSans-50\"/>\n      </g>\n     </g>\n    </g>\n    <g id=\"ytick_3\">\n     <g id=\"line2d_9\">\n      <g>\n       <use style=\"stroke:#000000;stroke-width:0.8;\" x=\"30.103125\" xlink:href=\"#md50fc4287b\" y=\"134.857654\"/>\n      </g>\n     </g>\n     <g id=\"text_9\">\n      <!-- 0.4 -->\n      <g transform=\"translate(7.2 138.656872)scale(0.1 -0.1)\">\n       <use xlink:href=\"#DejaVuSans-48\"/>\n       <use x=\"63.623047\" xlink:href=\"#DejaVuSans-46\"/>\n       <use x=\"95.410156\" xlink:href=\"#DejaVuSans-52\"/>\n      </g>\n     </g>\n    </g>\n    <g id=\"ytick_4\">\n     <g id=\"line2d_10\">\n      <g>\n       <use style=\"stroke:#000000;stroke-width:0.8;\" x=\"30.103125\" xlink:href=\"#md50fc4287b\" y=\"94.695901\"/>\n      </g>\n     </g>\n     <g id=\"text_10\">\n      <!-- 0.6 -->\n      <g transform=\"translate(7.2 98.495119)scale(0.1 -0.1)\">\n       <use xlink:href=\"#DejaVuSans-48\"/>\n       <use x=\"63.623047\" xlink:href=\"#DejaVuSans-46\"/>\n       <use x=\"95.410156\" xlink:href=\"#DejaVuSans-54\"/>\n      </g>\n     </g>\n    </g>\n    <g id=\"ytick_5\">\n     <g id=\"line2d_11\">\n      <g>\n       <use style=\"stroke:#000000;stroke-width:0.8;\" x=\"30.103125\" xlink:href=\"#md50fc4287b\" y=\"54.534148\"/>\n      </g>\n     </g>\n     <g id=\"text_11\">\n      <!-- 0.8 -->\n      <g transform=\"translate(7.2 58.333367)scale(0.1 -0.1)\">\n       <use xlink:href=\"#DejaVuSans-48\"/>\n       <use x=\"63.623047\" xlink:href=\"#DejaVuSans-46\"/>\n       <use x=\"95.410156\" xlink:href=\"#DejaVuSans-56\"/>\n      </g>\n     </g>\n    </g>\n    <g id=\"ytick_6\">\n     <g id=\"line2d_12\">\n      <g>\n       <use style=\"stroke:#000000;stroke-width:0.8;\" x=\"30.103125\" xlink:href=\"#md50fc4287b\" y=\"14.372395\"/>\n      </g>\n     </g>\n     <g id=\"text_12\">\n      <!-- 1.0 -->\n      <g transform=\"translate(7.2 18.171614)scale(0.1 -0.1)\">\n       <use xlink:href=\"#DejaVuSans-49\"/>\n       <use x=\"63.623047\" xlink:href=\"#DejaVuSans-46\"/>\n       <use x=\"95.410156\" xlink:href=\"#DejaVuSans-48\"/>\n      </g>\n     </g>\n    </g>\n   </g>\n   <g id=\"patch_3\">\n    <path d=\"M 30.103125 224.64 \nL 30.103125 7.2 \n\" style=\"fill:none;stroke:#000000;stroke-linecap:square;stroke-linejoin:miter;stroke-width:0.8;\"/>\n   </g>\n   <g id=\"patch_4\">\n    <path d=\"M 364.903125 224.64 \nL 364.903125 7.2 \n\" style=\"fill:none;stroke:#000000;stroke-linecap:square;stroke-linejoin:miter;stroke-width:0.8;\"/>\n   </g>\n   <g id=\"patch_5\">\n    <path d=\"M 30.103125 224.64 \nL 364.903125 224.64 \n\" style=\"fill:none;stroke:#000000;stroke-linecap:square;stroke-linejoin:miter;stroke-width:0.8;\"/>\n   </g>\n   <g id=\"patch_6\">\n    <path d=\"M 30.103125 7.2 \nL 364.903125 7.2 \n\" style=\"fill:none;stroke:#000000;stroke-linecap:square;stroke-linejoin:miter;stroke-width:0.8;\"/>\n   </g>\n  </g>\n </g>\n <defs>\n  <clipPath id=\"p4faa84214b\">\n   <rect height=\"217.44\" width=\"334.8\" x=\"30.103125\" y=\"7.2\"/>\n  </clipPath>\n </defs>\n</svg>\n",
      "text/plain": "<Figure size 432x288 with 1 Axes>"
     },
     "metadata": {
      "needs_background": "light"
     },
     "output_type": "display_data"
    }
   ],
   "source": [
    "import numpy as np\n",
    "import matplotlib.pyplot as plt\n",
    "\n",
    "# Fixing random state for reproducibility\n",
    "np.random.seed(19680801)\n",
    "\n",
    "N = 50\n",
    "x = np.random.rand(N)\n",
    "y = np.random.rand(N)\n",
    "points_color = np.random.rand(N)\n",
    "\n",
    "colors = np.random.rand(N)\n",
    "area = (30 * np.random.rand(N))**2  # 0 to 15 point radio\n",
    "\n",
    "plt.scatter(x, y, s=area, c=colors, alpha=0.5, marker='P')\n",
    "#plt.scatter(x, y, c=points_color, alpha=0.5)\n",
    "plt.show()"
   ]
  },
  {
   "cell_type": "code",
   "execution_count": null,
   "metadata": {},
   "outputs": [],
   "source": []
  },
  {
   "cell_type": "code",
   "execution_count": null,
   "metadata": {},
   "outputs": [],
   "source": []
  },
  {
   "cell_type": "code",
   "execution_count": null,
   "metadata": {},
   "outputs": [],
   "source": []
  },
  {
   "cell_type": "code",
   "execution_count": null,
   "metadata": {},
   "outputs": [],
   "source": []
  },
  {
   "cell_type": "code",
   "execution_count": null,
   "metadata": {},
   "outputs": [],
   "source": []
  }
 ]
}